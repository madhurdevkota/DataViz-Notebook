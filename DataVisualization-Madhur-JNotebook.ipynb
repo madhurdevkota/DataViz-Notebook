{
 "cells": [
  {
   "cell_type": "markdown",
   "id": "0",
   "metadata": {},
   "source": [
    "<div id=\"main\">\n",
    "    <h1><p style=\"text-align:center;\">Data Visualization Courses</p></h1>\n",
    "</div>\n",
    "\n",
    "<h3><p style=\"text-align:center;\"><a href= 'https://www.python-graph-gallery.com/'>The Python Graph Gallery</p></a></h3>"
   ]
  },
  {
   "cell_type": "markdown",
   "id": "1",
   "metadata": {},
   "source": [
    "<h1>Courses</h1>\n",
    "\n",
    "<div class=\"alert alert-block alert-info\" style=\"margin-top: 20px\">\n",
    "    <ol>\n",
    "        <li><a href=\"#course1\">Introduction to Data Visualization with Matplotlib</a> - <a href ='https://learn.datacamp.com/courses/introduction-to-data-visualization-with-matplotlib/'>DataCamp</p></li>        \n",
    "        <li><a href=\"#course2\">Introduction to Data Visualization with Seaborn</a></li>\n",
    "        <li><a href=\"#course3\">Intermediate Data Visualization with Seaborn</a></li>\n",
    "        <li><a href=\"#course4\">Fundamentals of Data Visualization</a></li>\n",
    "        <li><a href=\"#course5\">Enhancement on Data Visualization</a></li>        \n",
    "    </ol>\n",
    "</div>\n",
    "<br>\n",
    "<hr>"
   ]
  },
  {
   "cell_type": "markdown",
   "id": "2",
   "metadata": {},
   "source": [
    "<h3><p style=\"text-align:center;\"><a href= 'https://www.python-graph-gallery.com/'>The Python Graph Gallery</p></a></h3>\n",
    "<img src= 'images/python_graph_gallery.png' style= 'width918px;height:475px;'>\n",
    "\n",
    "<!-- m, wd, ht = 2, 990, 576; ( wd/m, ht/m  ) -->"
   ]
  },
  {
   "cell_type": "markdown",
   "id": "3",
   "metadata": {},
   "source": [
    "<html>\n",
    "\n",
    "<h2>Chapters - Table of Content</h2>\n",
    "\n",
    "\n",
    "<div id = \"toc\" class=\"alert alert-block alert-info\" style=\"margin-top: 20px\">\n",
    "    <ol>\n",
    "        <li><a href=\"#course1\">Course 1 - Introduction to Data Visualization with Matplotlib</a><br><br>\n",
    "            <ol>\n",
    "                <li><a href = '#1.1' style='text-decoration: none;'>Chapter 1.1 -  Introduction to Matplotlib\n",
    "</a></li>\n",
    "                    <ol>\n",
    "                        <li><a href = '#1.1.1'>1.1.1 - matplotlib.pyplot interface</a></li>\n",
    "                        <li><a href = '#1.1.2'>1.1.2 - Customizing the plots</a></li>\n",
    "                        <li><a href = '#1.1.3'>1.1.3 - Small multiples</a></li>\n",
    "                        <li><a href = '#1.1.4'>1.1.4 - Figure objs</a></li>                  \n",
    "                        <li><a href = '#1.1.5'>1.1.5 - Customization: Axes, Grid, background</a></li>\n",
    "                        <li><a href = '#1.1.6'>1.1.6 - Multi-Column, Row Spanning Layouts</a></li>     \n",
    "                    </ol>\n",
    "                <li><a href = '#1.2'>Chapter 1.2 - Plotting time-series</a></li>\n",
    "                    <ol>\n",
    "                        <li><a href = '#1.2.1'>1.2.1 - Using date colm as index during time-series plotting</a></li>\n",
    "                        <li><a href = '#1.2.2'>1.2.2 - Plotting time-series with different variables that has different scales</a></li>\n",
    "                    </ol>\n",
    "                <li><a href = '#1.3'>Chapter 1.3 - Quantitative comparisons & statistical visualizations</a></li>\n",
    "                    <ol>\n",
    "                        <li><a href = '#1.3.1'>1.3.1 - Bar chart</a></li>\n",
    "                        <li><a href = '#1.3.2'>1.3.2 - Histograms</a></li>\n",
    "                        <li><a href = '#1.3.3'>1.3.3 - Statistical plotting: Error bars, Box-and-whisker plot</a></li>\n",
    "                        <li><a href = '#1.3.4'>1.3.4 - Scatter plot</a></li>\n",
    "                    </ol>\n",
    "                <li><a href = '#1.4'>Chapter 1.4 - Sharing visualizations</a></li>\n",
    "                    <ol>\n",
    "                        <li><a href = '#1.4.1'>1.4.1 - Figure theme (consideration prior to sharing)</a></li>\n",
    "                        <li><a href = '#1.4.2'>1.4.2 - Saving the visualizations</a></li>\n",
    "                        <li><a href = '#1.4.3'>1.4.3 - Automating figures from data</a></li>\n",
    "                    </ol>\n",
    "            </ol>\n",
    "        </li><p><hr><p> <!-- course 1 finnito -->\n",
    "        <li><a href=\"#course2\">Course 2 - Introduction to Data Visualization with Seaborn</a><br><br>\n",
    "            <ol>\n",
    "                <li><a href = '#2.1'>Chapter 2.1 -  Intro to Seaborn</a></li>\n",
    "                    <ol><li><a href = '#2.1.1'>2.1.1 - Seaborn scatter plot & count plot from list</a></li>\n",
    "                        <li><a href = '#2.1.2'>2.1.2 - Using pandas with Seaborn</a></li>\n",
    "                        <li><a href = '#2.1.3'>2.1.3 - Representing a third dimn for an additional variable with hue</a></li>\n",
    "                    </ol>\n",
    "                <li><a href = '#2.2'>Chapter 2.2 - Visualizing Two Quantitative Variables</a></li>\n",
    "                    <ol>\n",
    "                        <li><a href = '#2.2.1'>2.2.1 - Relational plots and Relational plots within subplots</a></li>\n",
    "                        <li><a href = '#2.2.2'>2.2.2 - Customizing scatter plots: color | size | shape | transparency | multiple-plots</a></li>\n",
    "                        <li><a href = '#2.2.3'>2.2.3 - line plots</a></li>\n",
    "                    </ol>\n",
    "                <li><a href = '#2.3'>Chapter 2.3 - Visualizing Categorical and, Quantitative Variable</a></li>\n",
    "                    <ol>\n",
    "                        <li><a href = '#2.3.1'>2.3.1 - Count plots & Bar plots</a></li>\n",
    "                        <li><a href = '#2.3.2'>2.3.2 - Box plots</a></li>\n",
    "                        <li><a href = '#2.3.3'>2.3.3 - Point plots</a></li>                     \n",
    "                    </ol>\n",
    "                <li><a href = '#2.4'>Chapter 2.4 - Customizing Seaborn Plots</a></li>\n",
    "                    <ol>\n",
    "                        <li><a href = '#2.4.1'>2.4.1 - Changing plot style & color</a></li>\n",
    "                        <li><a href = '#2.4.2'>2.4.2 - titles & labels: FacetGrids & AxesSubplots obj</a></li>\n",
    "                        <li><a href = '#2.4.3'>2.4.3 - Putting it all together</a></li>                     \n",
    "                    </ol>\n",
    "            </ol>\n",
    "        </li><p><hr><p> <!-- course 2 finnito -->\n",
    "        <li><a href=\"#course3\">Course 3 - Intermediate Data Visualization with Seaborn</a><br><br>\n",
    "            <ol>\n",
    "                <li><a href = '#3.1'>Chapter 3.1 - Seaborn & Python</a></li>\n",
    "                    <ol>\n",
    "                        <li><a href = '#3.1.1'>3.1.1 - Seaborn distplot</a></li>\n",
    "                        <li><a href = '#3.1.2'>3.1.2 - Regression plots: multiple variables, facetting multiple regression</a></li>\n",
    "                    </ol>\n",
    "                <li><a href = '#3.2'>Chapter 3.2 - Customizing Seaborn Plots</a></li>\n",
    "                    <ol>\n",
    "                        <li><a href = '#3.2.1'>3.2.1 - Using Seaborn Styles</a></li>\n",
    "                        <li><a href = '#3.2.3'>3.2.3 - Colors in Seaborn</a></li>\n",
    "                        <li><a href = '#3.2.4'>3.2.4 - Customizing with matplotlib</a></li>\n",
    "                    </ol>\n",
    "                <li><a href = '#3.3'>Chapter 3.3 - Additional Plot Types: Categorical, Regression, Matrix plots</a></li>\n",
    "                    <ol>\n",
    "                        <li><a href = '#3.3.1'>3.3.1 - CCategorical plot types: each observation pt plot, abstract representation plot, statistical estimates plot</a></li>\n",
    "                        <li><a href = '#3.3.2'>3.3.2 - Regression Plots</a></li>\n",
    "                        <li><a href = '#3.3.3'>3.3.3 - Matrix Plots - heatmaps</a></li>\n",
    "                        <li><a href = '#3.3.4'>3.3.4 - Parallel Coordinates Plot</a></li>\n",
    "                    </ol>\n",
    "                <li><a href = '#3.4'>Chapter 3.4 - Creating Plots on Data Aware Grids</a></li>\n",
    "                    <ol>\n",
    "                        <li><a href = '#3.4.1'>3.4.1 - Comparing strings</a></li>\n",
    "                        <li><a href = '#3.4.2'>3.4.2 - Exploring FacetGrid obj and its customization</a></li>\n",
    "                        <li><a href = '#3.4.3'>3.4.3 - custom func with FacetGrid</a></li>                        \n",
    "                        <li><a href = '#3.4.4'>3.4.4 - PairGrid & pairplot</a></li>                        \n",
    "                        <li><a href = '#3.4.5'>3.4.5 - JointGrid & jointplot</a></li>                        \n",
    "                    </ol>\n",
    "            </ol>\n",
    "        </li><p><hr><p> <!-- course 3 finnito -->   \n",
    "        <li><a href=\"#course4\">Course 4 - Fundamentals of Data Visualization</a><br><br>\n",
    "            <ol>\n",
    "                <li><a href = '#4.1'>Chapter 4.1 - Customizing plots using Matplotlib</a></li>\n",
    "                <ol>\n",
    "                        <li><a href = '#4.1.1'>Chapter 4.1.1 - Plotting multiple graphs</a></li>\n",
    "                        <li><a href = '#4.1.2'>Chapter 4.1.2 - Customizing axes</a></li>\n",
    "                        <li><a href = '#4.1.3'>Chapter 4.1.3 - Legends, annotations, and styles</a></li>\n",
    "                </ol>\n",
    "                <li><a href = '#4.2'>Chapter 4.2 -  Plotting 2 D arrays</a></li>\n",
    "                <ol>\n",
    "                        <li><a href = '#4.2.1'>Chapter 4.2.1 - Working with 2D arrays (meshgrid)</a></li>\n",
    "                        <li><a href = '#4.2.2'>Chapter 4.2.2 - Visualizing bivariate funcs</a></li>\n",
    "                        <li><a href = '#4.2.3'>Chapter 4.2.3 - Visualizing bivariate distributions</a></li>\n",
    "                        <li><a href = '#4.2.4'>Chapter 4.2.4 - Plotting images</a></li>\n",
    "                        <li><a href = '#4.2.5'>Chapter 4.2.5 - Histogram in images</a></li>\n",
    "                </ol>\n",
    "                <li><a href = '#4.3'>Chapter 4.3 - Analyzing time series intro</a></li>\n",
    "                <ol>\n",
    "                        <li><a href = '#4.3.1'>Chapter 4.3.1 - Visualizing time series</a></li>\n",
    "                </ol>\n",
    "            </ol>\n",
    "        </li><p><hr><p> <!-- course 4 finnito -->\n",
    "       <li><a href=\"#course5\">Course 5 - Enhancement on Data Visualization</a><br><br>\n",
    "            <ol>\n",
    "                <li><a href = '#5.1'>Chapter 5.1 - Guiding the audience towards the data through visualization</a></li>\n",
    "                <ol>\n",
    "                        <li><a href = '#5.1.1'>5.1.1 - Highlighting the data</a></li>\n",
    "                        <li><a href = '#5.1.2'>5.1.2 - Comparing groups</a></li>\n",
    "                        <li><a href = '#5.1.3'>5.1.3 - Annotations</a></li>                    \n",
    "                </ol>\n",
    "                <li><a href = '#5.2'>Chapter 5.2 - Using Color in visualizations</a></li>\n",
    "                    <ol>\n",
    "                        <li><a href = '#5.2.1'>5.2.1 - Color in visualizations Theory</a></li>\n",
    "                        <li><a href = '#5.2.2'>5.2.2 - Continuous color palettes</a></li>\n",
    "                        <li><a href = '#5.2.3'>5.2.3 - Categorical palettes</a></li>\n",
    "                        <li><a href = '#5.2.4'>5.2.4 - All Color Palette reference</a></li>\n",
    "                    </ol>\n",
    "                <li><a href = '#5.3'>Chapter 5.3 - Showing uncertainty</a></li>\n",
    "                    <ol>\n",
    "                        <li><a href = '#5.3.1'>5.3.1 - Point estimate CI: plt.hlines( )</a></li>\n",
    "                        <li><a href = '#5.3.2'>5.3.2 - Confidence bands: plt.fill_between( )</a></li>\n",
    "                        <li><a href = '#5.3.3'>5.3.3 - Multiple CIs: 90%, 95%, 99%</a></li>                   \n",
    "                    </ol>\n",
    "                <li><a href = '#5.4'>Chapter 5.4 - Visualization in the data science workflow</a></li>\n",
    "                    <ol>\n",
    "                        <li><a href = '#5.4.1'>5.4.1 - First explorations</a></li>\n",
    "                        <li><a href = '#5.4.2'>5.4.2 - Exploring the pattern</a></li>\n",
    "                        <li><a href = '#5.4.3'>5.4.3 - Making the visualizations visually efficient</a></li>\n",
    "                        <li><a href = '#5.4.3'>5.4.3 - Tweaking the plots</a></li>\n",
    "                    </ol>\n",
    "            </ol>\n",
    "        </li><p><hr><p> <!-- course 5 finnito -->\n",
    "    </ol>    \n",
    "</div>\n",
    "</html>"
   ]
  },
  {
   "cell_type": "code",
   "execution_count": null,
   "id": "4",
   "metadata": {},
   "outputs": [],
   "source": [
    "# %reset\n",
    "# import utility_madhur\n",
    "\n",
    "# !pip install pandas-datareader\n",
    "# ! pip install missingno\n",
    "# ! pip install fuzzywuzzy\n",
    "\n",
    "# &nbsp; &thinsp; &ensp; &emsp;\n",
    "\n",
    "#  import warnings; warnings.filterwarnings( action= 'ignore' )\n",
    "\n",
    "# # to check whether a string is a python keyword\n",
    "# import keyword\n",
    "# keyword.iskeyword('str')\n",
    "\n",
    "\n",
    "\n",
    "import os, random, time, sys\n",
    "\n",
    "\n",
    "import pandas as pd, pandas_datareader as pd_dr\n",
    "import numpy as np, seaborn as sns\n",
    "from numpy import savetxt\n",
    "from numpy import genfromtxt\n",
    "import sklearn\n",
    "import missingno as msno\n",
    "import h5py, math, scipy\n",
    "\n",
    "# import fuzzywuzzy\n",
    "# from fuzzywuzzy import fuzz, process\n",
    "\n",
    "import matplotlib.pyplot as plt, cv2\n",
    "from matplotlib import *\n",
    "# plt.style.use('Solarize_Light2')\n",
    "# plt.style.use('dark_background')\n",
    "\n",
    "# plt style for dark \n",
    "\n",
    "sns_theme_rc_dictn = {  'axes.facecolor':'#404040', 'figure.facecolor':'#2F4F4F',\n",
    "                        'grid.color':'#000000', 'axes.edgecolor': 'black',\n",
    "                        'font.size': 20  }\n",
    "plt.style.use( 'bmh' )\n",
    "sns.set_theme( rc= sns_theme_rc_dictn )\n",
    "\n",
    "sns.set_context( context= 'notebook' )\n",
    "\n",
    "%matplotlib inline\n",
    "\n",
    "np.random.seed(1) # set a seed so that the results are consistent\n",
    "\n",
    "## Set Jupyter notebook display options for pandas\n",
    "\n",
    "pd.set_option('display.max_columns', None)\n",
    "# pd.options.display.max_columns = 8\n",
    "# pd.set_option('display.max_rows', None)\n",
    "pd.options.display.max_rows = 6\n",
    "\n",
    "# <h3><p style= 'text-align:center;'> Img title</p></h3>\n",
    "# <img src= 'images/split-apply-combine.png' style= 'width:917px;height:437px;'>\n",
    "\n",
    "# m, wd, ht = 2, 990, 576; ( wd/m, ht/m  )\n",
    "import re\n",
    "\n",
    "def clean_text(str_var):    \n",
    "\n",
    "    '''\n",
    "    clean the text, useful for column header\n",
    "    Arguments:\n",
    "    str_var -- a string variable of any size\n",
    "\n",
    "    Return:\n",
    "    str_modf -- a cleaned string variable\n",
    "    \n",
    "    '''\n",
    "    \n",
    "    # lower case and revome begin & end space\n",
    "    str_modf = str_var.lower().strip()\n",
    "    \n",
    "    # replace all non word chars ( everything except letters and nos )\n",
    "    str_modf = re.sub( pattern= r'[^\\w\\s]', repl= '_', string= str_modf )\n",
    "    \n",
    "    # replace all runs of whitespace with '_'\n",
    "    str_modf = re.sub( pattern= r'\\s+', repl= '_', string= str_modf )\n",
    "    \n",
    "    # repalce > 1 consecutive '_'\n",
    "    str_modf = re.sub( pattern= r'[__]+', repl= '_', string= str_modf )\n",
    "    \n",
    "    # remove begining and trailing _ : '__any_word____' --> 'any_word'\n",
    "    def _remove_begin_end_(str_var):\n",
    "        while True:\n",
    "            if str_var[-1] == '_': str_var = str_modf[ :len(str_modf)-1 ]\n",
    "            else: break                \n",
    "        while True:\n",
    "            if str_var[0] == '_': str_var = str_modf[ 1:len(str_modf) ]\n",
    "            else: break\n",
    "                \n",
    "        return(str_var)\n",
    "    \n",
    "    str_modf = _remove_begin_end_(str_modf)\n",
    "        \n",
    "    \n",
    "    return(str_modf)    \n",
    "\n",
    "clean_colNm = lambda colNm_ls: [ clean_text(e_cNm) for e_cNm in colNm_ls ]"
   ]
  },
  {
   "cell_type": "markdown",
   "id": "5",
   "metadata": {},
   "source": [
    "<br> <hr> <br> <br>\n",
    "\n",
    "<div id= 'course1'>\n",
    "    <h1> Course 1 - Introduction to Data Visualization with Matplotlib</h1> \n",
    "    <h5> <a href= '#toc'> Go to top </a> </h5> \n",
    "</div>\n",
    "\n",
    "[Matplotlib Visualization Library](https://matplotlib.org/stable/)\n",
    "\n",
    "Visualizing data in plots and figures exposes the underlying patterns in the data and provides insights. Good visualizations also help us communicate our data to others, and are useful to data analysts and other consumers of the data.\n",
    "\n",
    "#### Key Concepts\n",
    "\n",
    "    - learn to use Matplotlib\n",
    "    - create visualizations for different kinds of data\n",
    "    - customize, automate, and share these visualizations\n",
    "\n",
    "\n",
    "<br>\n",
    "<div id= '1.1'></div>\n",
    "\n",
    "## Chapter 1.1 - Introduction to `Matplotlib`\n",
    "    This chapter introduces the Matplotlib visualization library and demonstrates how to use it with data.\n",
    "    \n",
    "<br>    \n",
    "<div id= '1.1.1'></div>\n",
    "\n",
    "## 1.1.1 - `matplotlib.pyplot` interface\n",
    "[Go to top](#toc)"
   ]
  },
  {
   "cell_type": "markdown",
   "id": "6",
   "metadata": {},
   "source": [
    "#### Using the `matplotlib.pyplot` interface\n",
    "\n",
    "There are many ways to use matplotlib. In this course, we will focus on the `pyplot` interface, which provides the most flexibility in creating & customizing data visualizations.\n",
    "\n",
    "As a first step, we will use the pyplot interface to create 2 kinds of objs:\n",
    "\n",
    "    Figure objects and Axes objects"
   ]
  },
  {
   "cell_type": "markdown",
   "id": "7",
   "metadata": {},
   "source": [
    "#### matplotlib avialable plot styles"
   ]
  },
  {
   "cell_type": "code",
   "execution_count": null,
   "id": "8",
   "metadata": {},
   "outputs": [],
   "source": [
    "print( plt.style.available )"
   ]
  },
  {
   "cell_type": "code",
   "execution_count": null,
   "id": "9",
   "metadata": {},
   "outputs": [],
   "source": [
    "# Import the matplotlib.pyplot submodule and name it plt\n",
    "import matplotlib.pyplot as plt\n",
    "# Create a Figure and an Axes with plt.subplots\n",
    "fig_obj, ax_obj = plt.subplots()\n",
    "# Call the show function to show the result (on an empty set of axes)\n",
    "plt.show()"
   ]
  },
  {
   "cell_type": "markdown",
   "id": "10",
   "metadata": {},
   "source": [
    "#### Adding data to an Axes object\n",
    "\n",
    "Adding data to a figure is done by calling methods of the <b>`Axes`</b> object. Let's use the `plot` method to add data about rainfall in two American cities: Seattle, WA and Austin, TX."
   ]
  },
  {
   "cell_type": "code",
   "execution_count": null,
   "id": "11",
   "metadata": {},
   "outputs": [],
   "source": [
    "# data\n",
    "s_wea = pd.read_csv( 'datasets/seattle_weather.csv' )\n",
    "a_wea = pd.read_csv( 'datasets/austin_weather.csv' )\n",
    "\n",
    "# create a Figure and an Axes object by calling plt.subplots\n",
    "fig_obj, ax_obj = plt.subplots()\n",
    "\n",
    "# Add data from the seattle weather df by calling the Axes plot method after grouping\n",
    "s_grpd = s_wea.groupby( by= 'DATE' )[ ['MLY-PRCP-NORMAL'] ].agg( np.mean )\n",
    "ax_obj.plot( s_grpd.index, s_grpd['MLY-PRCP-NORMAL'] )\n",
    "\n",
    "# Add data from the austin_weather DataFrame in a similar manner and call plt.show to show the results\n",
    "a_grpd = a_wea.groupby( by= 'DATE' )[ ['MLY-PRCP-NORMAL'] ].agg( np.mean )\n",
    "ax_obj.plot( a_grpd.index, a_grpd['MLY-PRCP-NORMAL'] )\n",
    "\n",
    "# Call the show function\n",
    "plt.show()"
   ]
  },
  {
   "cell_type": "markdown",
   "id": "12",
   "metadata": {},
   "source": [
    "<div id= '1.1.2'></div>\n",
    "\n",
    "### 1.1.2 - Customizing the plots\n",
    "[Go to top](#toc)"
   ]
  },
  {
   "cell_type": "code",
   "execution_count": null,
   "id": "13",
   "metadata": {},
   "outputs": [],
   "source": [
    "fig1, ax1 = plt.subplots()\n",
    "\n",
    "ax1.plot( s_grpd.index, s_grpd['MLY-PRCP-NORMAL'],\n",
    "          marker= 's', linestyle= '-.', color= 'g' )\n",
    "\n",
    "ax1.plot( a_grpd.index, a_grpd['MLY-PRCP-NORMAL'],\n",
    "          marker= 'x', linestyle= '--', color= 'r' )\n",
    "\n",
    "ax1.set_xlabel( 'Time (months)' ); ax1.set_ylabel( 'Monthly ppt (inches)' )\n",
    "ax1.set_title( 'Weather patterns in Austin and Seattle' )\n",
    "\n",
    "plt.show()"
   ]
  },
  {
   "cell_type": "markdown",
   "id": "14",
   "metadata": {},
   "source": [
    "<div id= '1.1.3'></div>\n",
    "\n",
    "### 1.1.3 - Small multiples\n",
    "<i>[Go to top](#toc)</i>"
   ]
  },
  {
   "cell_type": "code",
   "execution_count": null,
   "id": "15",
   "metadata": {},
   "outputs": [],
   "source": [
    "fig1, ax1 = plt.subplots( 3,2 )\n",
    "\n",
    "print( f'ax1.shape = {ax1.shape}' )"
   ]
  },
  {
   "cell_type": "code",
   "execution_count": null,
   "id": "16",
   "metadata": {},
   "outputs": [],
   "source": [
    "### common x axis\n",
    "\n",
    "## data\n",
    "s_grpd = s_wea.groupby( by= 'DATE' )[ ['MLY-PRCP-NORMAL','MLY-PRCP-25PCTL','MLY-PRCP-75PCTL'] ].agg(np.mean)\n",
    "a_grpd = a_wea.groupby( by= 'DATE' )[ ['MLY-PRCP-NORMAL','MLY-PRCP-25PCTL','MLY-PRCP-75PCTL'] ].agg(np.mean)\n",
    "\n",
    "fig1, ax1 = plt.subplots( nrows= 2, ncols= 1, sharex= True, sharey= True )\n",
    "\n",
    "ax1[0].plot( s_grpd.index, s_grpd.iloc[:,0], color= 'g' )\n",
    "ax1[0].plot( s_grpd.index, s_grpd.iloc[:,1], color= 'g', linestyle= '--' )\n",
    "ax1[0].plot( s_grpd.index, s_grpd.iloc[:,2], color= 'g', linestyle= '--' )\n",
    "ax1[0].set_ylabel( 'Ppt (inches)' )\n",
    "\n",
    "ax1[1].plot( a_grpd.index, a_grpd.iloc[:,0], color= 'r' )\n",
    "ax1[1].plot( a_grpd.index, a_grpd.iloc[:,1], color= 'r', linestyle= '--' )\n",
    "ax1[1].plot( a_grpd.index, a_grpd.iloc[:,2], color= 'r', linestyle= '--' )\n",
    "ax1[1].set_ylabel( 'Ppt (inches)' )\n",
    "\n",
    "ax1[1].set_xlabel( 'Time (months)' )\n",
    "\n",
    "plt.show()\n"
   ]
  },
  {
   "cell_type": "code",
   "execution_count": null,
   "id": "17",
   "metadata": {},
   "outputs": [],
   "source": [
    "# making the same plots using zip and for: common x-axis\n",
    "\n",
    "fig1, ax1 = plt.subplots( nrows= 2, ncols= 1, sharex= True, sharey= True )\n",
    "\n",
    "# preparing iterables\n",
    "num_plots = range(ax1.size)\n",
    "dfs = [ s_grpd, a_grpd ]\n",
    "color_abc = ['g','r']\n",
    "\n",
    "for e_Indx, e_df, e_color in zip( num_plots,dfs,color_abc ):\n",
    "    ax1[e_Indx].plot( e_df.index, e_df.iloc[:,0], color= e_color )\n",
    "    ax1[e_Indx].plot( e_df.index, e_df.iloc[:,1], color= e_color, linestyle= '--' )\n",
    "    ax1[e_Indx].plot( e_df.index, e_df.iloc[:,2], color= e_color, linestyle= '--' )\n",
    "    \n",
    "    ax1[e_Indx].set_ylabel( 'Ppt (inches)' )\n",
    "    \n",
    "ax1[1].set_xlabel( 'Time(months)' )\n",
    "\n",
    "plt.show()"
   ]
  },
  {
   "cell_type": "code",
   "execution_count": null,
   "id": "18",
   "metadata": {},
   "outputs": [],
   "source": [
    "# making the same plots using zip and for : common y-axis\n",
    "\n",
    "fig1, ax1 = plt.subplots( nrows= 1, ncols= 2, sharey= True, sharex= True )\n",
    "\n",
    "# preparing iterables\n",
    "num_plots = range(ax1.size)\n",
    "dfs = [ s_grpd, a_grpd ]\n",
    "color_abc = ['g','r']\n",
    "\n",
    "for e_Indx, e_df, e_color in zip( num_plots,dfs,color_abc ):\n",
    "    ax1[e_Indx].plot( e_df.index, e_df.iloc[:,0], color= e_color )\n",
    "    ax1[e_Indx].plot( e_df.index, e_df.iloc[:,1], color= e_color, linestyle= '--' )\n",
    "    ax1[e_Indx].plot( e_df.index, e_df.iloc[:,2], color= e_color, linestyle= '--' )\n",
    "        \n",
    "ax1[0].set_ylabel( 'Ppt (inches)' )    \n",
    "\n",
    "plt.show()"
   ]
  },
  {
   "cell_type": "markdown",
   "id": "19",
   "metadata": {},
   "source": [
    "<div id= '1.1.4'></div>\n",
    "\n",
    "### 1.1.4 - Figure objs\n",
    "<i>[Go to top](#toc)</i>"
   ]
  },
  {
   "cell_type": "code",
   "execution_count": null,
   "id": "20",
   "metadata": {},
   "outputs": [],
   "source": [
    "x1 = np.linspace( 0,5, 10 )\n",
    "y1 = x1 ** 2\n",
    "y2 = x1 ** 3\n",
    "\n",
    "plt.style.use('classic')"
   ]
  },
  {
   "cell_type": "code",
   "execution_count": null,
   "id": "21",
   "metadata": {},
   "outputs": [],
   "source": [
    "fig1 = plt.figure( figsize= (5,3) )\n",
    "ax1 = fig1.add_axes( [ .1,.1,.9,.9 ] )\n",
    "\n",
    "ax1.set_xlabel( 'Days' ); ax1.set_ylabel( 'Days powered' )\n",
    "ax1.set_title( 'Days powered func plot' )\n",
    "\n",
    "ax1.plot( x1,y1, label= 'x vs. x^2' )\n",
    "\n",
    "# another plot in the same axis (And thus same figure)\n",
    "ax1.plot( x1,y2, label= 'x vs. x^3' )\n",
    "\n",
    "ax1.legend( loc= 0 )\n"
   ]
  },
  {
   "cell_type": "markdown",
   "id": "22",
   "metadata": {},
   "source": [
    "#### adding another plot within a plot"
   ]
  },
  {
   "cell_type": "code",
   "execution_count": null,
   "id": "23",
   "metadata": {},
   "outputs": [],
   "source": [
    "# previous work\n",
    "fig1 = plt.figure( figsize= (8,4) );\n",
    "ax1 = fig1.add_axes( [ .1,.1,.9,.9 ] )\n",
    "\n",
    "ax1.set_xlabel( 'Days' ); ax1.set_ylabel( 'Days powered' )\n",
    "ax1.set_title( 'Days powered func plot' )\n",
    "ax1.plot( x1,y1, label= 'x vs. x^2' )\n",
    "ax1.plot( x1,y2, label= 'x vs. x^3' )\n",
    "ax1.legend( loc= 1 )\n",
    "\n",
    "## new plot within this existing plot\n",
    "\n",
    "ax2 = fig1.add_axes( [.2,.45,.40,.30] )\n",
    "ax2.plot( x1,y1, 'r', label= 'x vs. x^2' )\n",
    "ax2.set_xlabel( 'Days' ); ax2.set_ylabel( 'Days powered' )\n",
    "ax2.legend( loc= 2 )\n",
    "\n",
    "# text inside old & new small plot\n",
    "ax2.text( x= 3, y= 5, s= 'Text inside \\n small plot' )\n",
    "ax1.text( x= 3, y= 5, s= 'Text inside main plot but \\n oustside small inset plot' )\n",
    "\n",
    "plt.show()"
   ]
  },
  {
   "cell_type": "markdown",
   "id": "24",
   "metadata": {},
   "source": [
    "<div id= '1.1.5'></div>\n",
    "\n",
    "### 1.1.5 - Customization: Axes, Grid, background\n",
    "<i>[Go to top](#toc)</i>"
   ]
  },
  {
   "cell_type": "code",
   "execution_count": null,
   "id": "25",
   "metadata": {},
   "outputs": [],
   "source": [
    "fig1,(ax1,ax2) = plt.subplots( 1,2, figsize= (12,4) )\n",
    "\n",
    "ax1.plot( x1,y1, color= 'navy', alpha= 0.6,\n",
    "          lw= 3, ls= '--',\n",
    "          marker= '^', markersize= 10, markerfacecolor= 'yellow',\n",
    "          markeredgecolor = 'orangered', markeredgewidth= 4  )\n",
    "\n",
    "ax2.plot( x1,y1, color= 'navy', alpha= 0.6,\n",
    "          lw= 3, ls= '--',\n",
    "          marker= '^', markersize= 10, markerfacecolor= 'yellow',\n",
    "          markeredgecolor = 'orangered', markeredgewidth= 4  )\n",
    "ax2.set_xlim( [1,2] ); ax2.set_ylim( [1,4] )\n",
    "\n",
    "# grid\n",
    "ax2.grid( True, color= 'silver', dashes= (5,2,1,2) )  # <-- s pts 2 spaces 1 pt 2 spaces grid\n",
    "# background color\n",
    "ax2.set_facecolor( '#FAEBD7' )\n"
   ]
  },
  {
   "cell_type": "markdown",
   "id": "26",
   "metadata": {},
   "source": [
    "<div id= '1.1.6'></div>\n",
    "\n",
    "### 1.1.6  Multi-Column, Row Spanning Layouts\n",
    "<i>[Go to top](#toc)</i>\n",
    "\n",
    "[Article Source: Towards DataScience](https://towardsdatascience.com/matplotlib-multi-column-row-spanning-layouts-f026eb7c3c27)"
   ]
  },
  {
   "cell_type": "code",
   "execution_count": null,
   "id": "27",
   "metadata": {},
   "outputs": [],
   "source": [
    "from matplotlib.gridspec import GridSpec\n",
    "\n",
    "plt.style.use('classic')\n",
    "\n",
    "\n",
    "fg = plt.figure()\n",
    "gs = GridSpec( 4,4, figure= fg )\n",
    "\n",
    "ax1 = fg.add_subplot( gs[0,:] )\n",
    "ax2 = fg.add_subplot( gs[1,:-1] )\n",
    "\n",
    "ax3a = fg.add_subplot( gs[2,:2] )\n",
    "ax3b = fg.add_subplot( gs[2,3] )\n",
    "\n",
    "ax3_4 = fg.add_subplot( gs[2:,2] )\n",
    "\n",
    "ax4a = fg.add_subplot( gs[3,0] )\n",
    "ax4b = fg.add_subplot( gs[3,1] )\n",
    "\n",
    "\n",
    "fg.suptitle( 'Multi colm/row Subplots Layout' )\n",
    "\n",
    "def remove_ticks( figObj ):\n",
    "    for idx, e_ax in enumerate(figObj.axes):\n",
    "        e_ax.tick_params( labelbottom= False, labelleft= False )\n",
    "\n",
    "remove_ticks( figObj= fg )\n",
    "plt.show()"
   ]
  },
  {
   "cell_type": "markdown",
   "id": "28",
   "metadata": {},
   "source": [
    "#### Modifying subplots size(height,breadth) and gaps(vertc, horz) "
   ]
  },
  {
   "cell_type": "code",
   "execution_count": null,
   "id": "29",
   "metadata": {},
   "outputs": [],
   "source": [
    "fg = plt.figure()\n",
    "gs = GridSpec( 2,2, figure= fg,\n",
    "               top= 0.7, right= 1.3, hspace= 0.25, wspace= 0.25 )\n",
    "\n",
    "ax1 = fg.add_subplot( gs[0,:] )\n",
    "\n",
    "ax2a = fg.add_subplot( gs[1,0] ); ax2b = fg.add_subplot( gs[1,1] )"
   ]
  },
  {
   "cell_type": "markdown",
   "id": "30",
   "metadata": {},
   "source": [
    "<br><div id= '1.2'></div>\n",
    "\n",
    "## Chapter 1.2 - Plotting time-series data\n",
    "    Time series data is data that is recorded. Visualizing this type of data helps clarify trends and illuminates       relationships between data.\n",
    "    \n",
    "<div id= '1.2.1'></div>\n",
    "\n",
    "### 1.2.1 - Using date colm as index during time-series plotting\n",
    "[Go to top](#toc)"
   ]
  },
  {
   "cell_type": "code",
   "execution_count": null,
   "id": "31",
   "metadata": {},
   "outputs": [],
   "source": [
    "# data\n",
    "climate_df = pd.read_csv( 'datasets/climate_change.csv' )\n",
    "climate_df.head()"
   ]
  },
  {
   "cell_type": "code",
   "execution_count": null,
   "id": "32",
   "metadata": {},
   "outputs": [],
   "source": [
    "climate_df = pd.read_csv( 'datasets/climate_change.csv',\n",
    "                          index_col= ['date'], parse_dates= ['date'],\n",
    "                          error_bad_lines= False\n",
    "                        )\n",
    "climate_df.head()"
   ]
  },
  {
   "cell_type": "markdown",
   "id": "33",
   "metadata": {},
   "source": [
    "#### Plot time-series data"
   ]
  },
  {
   "cell_type": "code",
   "execution_count": null,
   "id": "34",
   "metadata": {},
   "outputs": [],
   "source": [
    "fig_1, ax_1 = plt.subplots()\n",
    "\n",
    "ax_1.plot( climate_df.index, climate_df.relative_temp )\n",
    "ax_1.set_xlabel( 'Time (years)' );  ax_1.set_ylabel( 'Rel. temperature (Cel.)' )\n",
    "plt.show()"
   ]
  },
  {
   "cell_type": "markdown",
   "id": "35",
   "metadata": {},
   "source": [
    "#### Using a time index to zoom in\n",
    "\n",
    "When a time-series is represented with a time index, we can use this index for the x-axis when plotting. We can also opt to zoom in on a particular period within the time-series using pd's indexing facilities."
   ]
  },
  {
   "cell_type": "code",
   "execution_count": null,
   "id": "36",
   "metadata": {},
   "outputs": [],
   "source": [
    "def set_size(w,h, ax=None):\n",
    "    ''' w, h: width, height in inches '''\n",
    "    if not ax: ax=plt.gca()\n",
    "    l = ax.figure.subplotpars.left\n",
    "    r = ax.figure.subplotpars.right\n",
    "    t = ax.figure.subplotpars.top\n",
    "    b = ax.figure.subplotpars.bottom\n",
    "    figw = float(w)/(r-l)\n",
    "    figh = float(h)/(t-b)\n",
    "    ax.figure.set_size_inches(figw, figh)"
   ]
  },
  {
   "cell_type": "code",
   "execution_count": null,
   "id": "37",
   "metadata": {},
   "outputs": [],
   "source": [
    "fig_1, ax_1 = plt.subplots( 1,2, figsize= (20,5), sharey= False )\n",
    "\n",
    "ax_1[0].plot( climate_df.index, climate_df.co2 )\n",
    "ax_1[0].set_title( 'Entire Dataset' )\n",
    "\n",
    "ax_1[1].plot( climate_df['1970':'1979'].index, climate_df['1970':'1979'].co2 )\n",
    "ax_1[1].set_title( \"70's Dataset\" )\n",
    "\n",
    "plt.show()"
   ]
  },
  {
   "cell_type": "markdown",
   "id": "38",
   "metadata": {},
   "source": [
    "<div id= '1.2.2'></div>\n",
    "\n",
    "### 1.2.2 - Plotting time-series with different variables that has different scales\n",
    "[Go to top](#toc)"
   ]
  },
  {
   "cell_type": "code",
   "execution_count": null,
   "id": "39",
   "metadata": {},
   "outputs": [],
   "source": [
    "fig_1, ax_1 = plt.subplots()\n",
    "\n",
    "ax_1.plot( climate_df.index, climate_df.co2, color= 'orange')\n",
    "ax_1.set_xlabel( 'Time (yrs)' );  ax_1.set_ylabel( 'CO2 (ppm)', color= 'orange' )\n",
    "ax_1.tick_params( axis= 'y', colors= 'orange' )\n",
    "\n",
    "\n",
    "# twin axis for another var with different scale\n",
    "\n",
    "ax_2 = ax_1.twinx()\n",
    "ax_2.plot( climate_df.index, climate_df.relative_temp, color= 'teal' )\n",
    "ax_2.set_ylabel( 'Rel. tTemperature (Cel.)', color= 'teal' )\n",
    "ax_2.tick_params( axis= 'y', colors= 'teal' )\n",
    "\n",
    "plt.show()"
   ]
  },
  {
   "cell_type": "code",
   "execution_count": null,
   "id": "40",
   "metadata": {},
   "outputs": [],
   "source": [
    "# making a function to plot for time-series data\n",
    "\n",
    "def plot_time_series( ax_obj= plt.subplots()[1], x= range(10), y= np.random.randint(0,10,10), \n",
    "                      Xlabel= 'x-axis', Ylabel= 'y-axis', color= 'teal' ):\n",
    "    \n",
    "    ''' plot function for plotting time-series DataScience-DataCamp-Madhur-Notebook-Copy1.ipynb\n",
    "        ax_obj: axes object i.e. plt.subplots()[1]\n",
    "        x_label, y_label: labels for x & y-axes\n",
    "        color: color for y axis and ticks\n",
    "    '''\n",
    "    ax_obj.plot( x,y, color= color )\n",
    "    \n",
    "    ax_obj.set_xlabel( Xlabel )\n",
    "    ax_obj.set_ylabel( Ylabel, color= color )\n",
    "    \n",
    "    ax_obj.tick_params( axis= 'y', colors= color )\n",
    "    \n",
    "plot_time_series()"
   ]
  },
  {
   "cell_type": "code",
   "execution_count": null,
   "id": "41",
   "metadata": {},
   "outputs": [],
   "source": [
    "# using the udf\n",
    "\n",
    "fig_1, ax_1 = plt.subplots()\n",
    "\n",
    "plot_time_series( ax_obj= ax_1, x= climate_df.index, y= climate_df.co2,\n",
    "                  Xlabel= 'Time', Ylabel= 'CO2 (ppm)', color= 'orange'  )\n",
    "\n",
    "ax_2 = ax_1.twinx()\n",
    "\n",
    "plot_time_series( ax_obj= ax_2, x= climate_df.index, y= climate_df.relative_temp,\n",
    "                  Xlabel= 'Time', Ylabel= 'Rel. Temperature (oC)', color= 'teal'  )"
   ]
  },
  {
   "cell_type": "markdown",
   "id": "42",
   "metadata": {},
   "source": [
    "<div id= '1.2.3'></div>\n",
    "\n",
    "### 1.2.3 - Annotating time-series data\n",
    "[Go to top](#toc)"
   ]
  },
  {
   "cell_type": "code",
   "execution_count": null,
   "id": "43",
   "metadata": {},
   "outputs": [],
   "source": [
    "# annonate for a time (Oct 6th 2015 where temp > 1 oC )\n",
    "\n",
    "\n",
    "fig_1, ax_1 = plt.subplots()\n",
    "plot_time_series( ax_obj= ax_1, x= climate_df.index, y= climate_df.co2,\n",
    "                  Xlabel= 'Time', Ylabel= 'CO2 (ppm)', color= 'orange'  )\n",
    "\n",
    "ax_2 = ax_1.twinx()\n",
    "plot_time_series( ax_obj= ax_2, x= climate_df.index, y= climate_df.relative_temp,\n",
    "                  Xlabel= 'Time', Ylabel= 'Rel. Temperature (oC)', color= 'teal'  )\n",
    "\n",
    "ax_2.annotate( text= '> 1 degree',\n",
    "               xy= ( pd.Timestamp('2015-10-06'), 1 ),               # <-- target position\n",
    "               xytext= ( pd.Timestamp('1990-01-01'), 1.2 ),         # <-- Positioning the annot text\n",
    "               arrowprops= { 'arrowstyle':'-|>', 'color': 'red' }   # <-- arrowing the annot text\n",
    "             )"
   ]
  },
  {
   "cell_type": "markdown",
   "id": "44",
   "metadata": {},
   "source": [
    "<br><div id= '1.3'></div>\n",
    "\n",
    "## Chapter 1.3 - Quantitative comparisons & Statistical visualizations\n",
    "    Visualizations can be used to compare data in a quantitative manner. This chapter explains several methods for     quantitative visualizations.\n",
    "    \n",
    "<div id= '1.3.1'></div>\n",
    "\n",
    "### 1.3.1 - Bar chart\n",
    "[Go to top](#toc)"
   ]
  },
  {
   "cell_type": "markdown",
   "id": "45",
   "metadata": {},
   "source": [
    "#### normal bar chart"
   ]
  },
  {
   "cell_type": "code",
   "execution_count": null,
   "id": "46",
   "metadata": {},
   "outputs": [],
   "source": [
    "# data\n",
    "pd.read_csv( 'datasets/medals_by_country_2016.csv' ).head()"
   ]
  },
  {
   "cell_type": "code",
   "execution_count": null,
   "id": "47",
   "metadata": {},
   "outputs": [],
   "source": [
    "medals_df = pd.read_csv( 'datasets/medals_by_country_2016.csv', index_col= 0 )\n",
    "\n",
    "medals_df['Total_medals'] =  medals_df.sum( axis= 'columns' )\n",
    "\n",
    "medals_df.sort_values( by= 'Total_medals', ascending= False, inplace= True )\n",
    "\n",
    "print( medals_df.head(3) )"
   ]
  },
  {
   "cell_type": "code",
   "execution_count": null,
   "id": "48",
   "metadata": {},
   "outputs": [],
   "source": [
    "fig_1, ax_1 = plt.subplots()\n",
    "\n",
    "ax_1.bar( x= medals_df.index, height= medals_df.Gold, width= 0.5)\n",
    "\n",
    "# rotate the x tick labels\n",
    "ax_1.set_xticklabels( labels= medals_df.index, rotation= 45, color= 'red' )\n",
    "ax_1.set_xlabel( 'Countries' ); ax_1.set_ylabel( 'No of Gold medals' )\n",
    "\n",
    "ax_1.plot( medals_df.index, medals_df.Total_medals, marker= 'x', color= 'r')\n",
    "\n",
    "plt.show()"
   ]
  },
  {
   "cell_type": "markdown",
   "id": "49",
   "metadata": {},
   "source": [
    "#### Stacked 2 vars bar chart "
   ]
  },
  {
   "cell_type": "code",
   "execution_count": null,
   "id": "50",
   "metadata": {},
   "outputs": [],
   "source": [
    "fig_1, ax_1 = plt.subplots()\n",
    "\n",
    "ax_1.bar( x= medals_df.index, height= medals_df.Gold,\n",
    "          color= 'gold' )\n",
    "ax_1.bar( medals_df.index, medals_df.Silver,\n",
    "          bottom= medals_df.Gold,\n",
    "          color= 'silver' )\n",
    "\n",
    "ax_1.set_xticklabels( labels= medals_df.index, rotation= 45, color= 'red' )\n",
    "ax_1.set_xlabel( 'Countries' ); ax_1.set_ylabel( 'No of medals' )\n",
    "\n",
    "ax_1.plot( medals_df.index, medals_df.Total_medals, marker= 'x', color= 'r')\n",
    "\n",
    "\n",
    "plt.show()"
   ]
  },
  {
   "cell_type": "markdown",
   "id": "51",
   "metadata": {},
   "source": [
    "#### Stacked 3 vars bar chart "
   ]
  },
  {
   "cell_type": "code",
   "execution_count": null,
   "id": "52",
   "metadata": {},
   "outputs": [],
   "source": [
    "fig_1, ax_1 = plt.subplots()\n",
    "\n",
    "ax_1.bar( medals_df.index, medals_df.Gold, \n",
    "          label= 'Gold', color= 'gold')\n",
    "\n",
    "ax_1.bar( medals_df.index, medals_df.Silver,\n",
    "          bottom= medals_df.Gold,\n",
    "          label= 'Silver', color= 'silver' )\n",
    "\n",
    "ax_1.bar( medals_df.index, medals_df.Bronze,\n",
    "          bottom= medals_df.Gold + medals_df.Silver,\n",
    "          label= 'Bronze', color= 'saddlebrown' )\n",
    "\n",
    "ax_1.plot( medals_df.index, medals_df.Total_medals, marker= 'x', color= 'r')\n",
    "\n",
    "ax_1.set_xticklabels( labels= medals_df.index, rotation= 45, color= 'red' )\n",
    "\n",
    "ax_1.set_xlabel( 'Countries' ); ax_1.set_ylabel( 'No of Total medals' )\n",
    "\n",
    "ax_1.legend()\n",
    "\n",
    "plt.show()"
   ]
  },
  {
   "cell_type": "markdown",
   "id": "53",
   "metadata": {},
   "source": [
    "##### bar width customization"
   ]
  },
  {
   "cell_type": "code",
   "execution_count": null,
   "id": "54",
   "metadata": {},
   "outputs": [],
   "source": [
    "fig_1, ax_1 = plt.subplots()\n",
    "\n",
    "ax_1.bar( medals_df.index, medals_df.Gold, \n",
    "          label= 'Gold', color= 'gold' )\n",
    "\n",
    "ax_1.bar( medals_df.index, medals_df.Silver,\n",
    "          bottom= medals_df.Gold,\n",
    "          label= 'Silver', color= 'silver', width= 0.6 )\n",
    "\n",
    "ax_1.bar( medals_df.index, medals_df.Bronze,\n",
    "          bottom= medals_df.Gold + medals_df.Silver,\n",
    "          label= 'Bronze', color= 'saddlebrown', width= 0.5 )\n",
    "\n",
    "ax_1.plot( medals_df.index, medals_df.Total_medals, marker= 'x', color= 'r')\n",
    "\n",
    "ax_1.set_xticklabels( labels= medals_df.index, rotation= 45, color= 'red' )\n",
    "\n",
    "ax_1.set_xlabel( 'Countries' ); ax_1.set_ylabel( 'No of Total medals' )\n",
    "\n",
    "ax_1.legend()\n",
    "\n",
    "plt.show()"
   ]
  },
  {
   "cell_type": "markdown",
   "id": "55",
   "metadata": {},
   "source": [
    "<div id= '1.3.2'></div>\n",
    "\n",
    "### 1.3.2 - Histograms\n",
    "[Go to top](#toc)"
   ]
  },
  {
   "cell_type": "markdown",
   "id": "56",
   "metadata": {},
   "source": [
    "#### Bar chart vs Histogram"
   ]
  },
  {
   "cell_type": "code",
   "execution_count": null,
   "id": "57",
   "metadata": {},
   "outputs": [],
   "source": [
    "olmp_df = pd.read_csv( 'datasets/summer2016_olympics.csv', index_col= 0 )\n",
    "olmp_df.head(3)"
   ]
  },
  {
   "cell_type": "code",
   "execution_count": null,
   "id": "58",
   "metadata": {},
   "outputs": [],
   "source": [
    "# data prep\n",
    "olmp_grpby_sport = olmp_df.groupby( by= 'Sport' )\n",
    "\n",
    "row_df = olmp_grpby_sport.get_group( 'Rowing' )\n",
    "gym_df = olmp_grpby_sport.get_group( 'Gymnastics' )"
   ]
  },
  {
   "cell_type": "markdown",
   "id": "59",
   "metadata": {},
   "source": [
    "##### transparency for adjusting multiples histograms"
   ]
  },
  {
   "cell_type": "code",
   "execution_count": null,
   "id": "60",
   "metadata": {},
   "outputs": [],
   "source": [
    "fig_1, ax_1 = plt.subplots( 1,2, figsize= (15,5) )\n",
    "\n",
    "ax_1[0].bar( 'Rowing', row_df['Height'].mean(), width= 0.2, color= 'teal' )\n",
    "ax_1[0].bar( 'Gymnastics', gym_df['Height'].mean(), width= 0.2, color= 'orange' )\n",
    "ax_1[0].set_ylabel(\"Height (cm)\")\n",
    "\n",
    "ax_1[1].hist( row_df['Height'], label= 'Rowing', color= 'teal' )\n",
    "ax_1[1].hist( gym_df['Height'], label= 'Gymnastics', alpha= 0.3, color= 'orange' )\n",
    "\n",
    "ax_1[1].legend()\n",
    "\n",
    "plt.show()"
   ]
  },
  {
   "cell_type": "markdown",
   "id": "61",
   "metadata": {},
   "source": [
    "##### step-histtype for adjusting multiples histograms"
   ]
  },
  {
   "cell_type": "code",
   "execution_count": null,
   "id": "62",
   "metadata": {},
   "outputs": [],
   "source": [
    "fig_1, ax_1 = plt.subplots( 1,2, figsize= (15,5) )\n",
    "\n",
    "# bar chart\n",
    "ax_1[0].bar( 'Rowing', row_df.Height.mean(), width= 0.2, color= 'teal' )\n",
    "ax_1[0].bar( 'Gymnastics', gym_df.Height.mean(), width= 0.2, color= 'orange' )\n",
    "ax_1[0].set_ylabel( 'Height (cm)' )\n",
    "\n",
    "# histogram\n",
    "ax_1[1].hist( row_df.Height, bins= 25, histtype= 'step', \n",
    "              label= 'Rowing', color= 'teal'   )\n",
    "ax_1[1].hist( gym_df.Height, bins= 25, histtype= 'step',\n",
    "              label= 'Gymnastics', color= 'orange' )\n",
    "\n",
    "ax_1[1].set_ylabel( 'frequency' )\n",
    "\n",
    "ax_1[1].legend(  )\n",
    "\n",
    "plt.show()"
   ]
  },
  {
   "cell_type": "code",
   "execution_count": null,
   "id": "63",
   "metadata": {},
   "outputs": [],
   "source": [
    "fig_1, ax_1 = plt.subplots( 1,2, figsize= (15,5) )\n",
    "\n",
    "ax_1[0].bar( 'Rowing', row_df.Height.mean(), width= 0.2, color= 'teal' )\n",
    "ax_1[0].bar( 'Gymnastics', gym_df.Height.mean(), width= 0.2, color= 'orange' )\n",
    "ax_1[0].set_ylabel(\"Height (cm)\")\n",
    "\n",
    "ax_1[1].hist( row_df.Height, label= 'Rowing', color= 'teal' )\n",
    "ax_1[1].hist( gym_df.Height, label= 'Gymnastics', alpha= 0.3, color= 'orange' )\n",
    "\n",
    "ax_1[1].legend()\n",
    "\n",
    "plt.show()"
   ]
  },
  {
   "cell_type": "markdown",
   "id": "64",
   "metadata": {},
   "source": [
    "<div id= '1.3.4'></div>\n",
    "\n",
    "### 1.3.3 - Statistical plotting: Error bars, Box-and-whisker plot\n",
    "[Go to top](#toc)"
   ]
  },
  {
   "cell_type": "markdown",
   "id": "65",
   "metadata": {},
   "source": [
    "#### Error bars to a bar chart\n",
    "\n",
    "We will add error bars that quantify not only the difference in the means of the height of medalists in the 2016 Olympic Games, but also the standard deviation of each of these groups, as a way to assess whether the difference is substantial relative to the variability within each group"
   ]
  },
  {
   "cell_type": "code",
   "execution_count": null,
   "id": "66",
   "metadata": {},
   "outputs": [],
   "source": [
    "plt.style.use( style= 'classic' )\n",
    "\n",
    "fig, ax = plt.subplots( figsize= (3,4) )\n",
    "\n",
    "# add a bar with size equal to the mean of the 'Height' colm in row_df & gym_df an error-bar of their resp std\n",
    "\n",
    "ax.bar( x= 'Rowing', height= row_df.Height.mean(), yerr= row_df.Height.std(), width= 0.3 )\n",
    "ax.bar( x= 'Gymnastics', height= gym_df.Height.mean(), yerr= gym_df.Height.std(), width= 0.3 )\n",
    "\n",
    "ax.set_ylabel( 'Ht (cm)' )\n",
    "\n",
    "plt.show()\n",
    "\n",
    "plt.style.use( style= 'dark_background' )"
   ]
  },
  {
   "cell_type": "markdown",
   "id": "67",
   "metadata": {},
   "source": [
    "#### Adding error-bars to a plot\n",
    "\n",
    "Adding error-bars to a plot is done by using the errorbars method of the Axes object.\n",
    "\n",
    "Here, we have two dfs : seattle_weather has data about the weather in Seattle and austin_weather has data about the weather in Austin. Each df has:\n",
    "\n",
    "    - a colm 'DATE' that has the number corresponding to the months,\n",
    "    - a colm 'MLY-TAVG-NORMAL' that has the average temperature in each month and\n",
    "    - a colm 'MLY-TAVG-STDDEV' that has the standard deviation of the temperatures across years\n",
    "We will plot the mean temperature across months and add the standard deviation at each point as y errorbars."
   ]
  },
  {
   "cell_type": "code",
   "execution_count": null,
   "id": "68",
   "metadata": {},
   "outputs": [],
   "source": [
    "# data\n",
    "sWea_df = pd.read_csv( 'datasets/seattle_weather.csv' )\n",
    "aWea_df = pd.read_csv( 'datasets/austin_weather.csv' )\n",
    "\n",
    "# monthly avg data\n",
    "s_monthly_df = sWea_df.groupby( by= 'DATE' ).agg( np.mean )\n",
    "a_monthly_df = aWea_df.groupby( by= 'DATE' ).agg( np.mean )\n",
    "\n",
    "s_monthly_df.head(2)"
   ]
  },
  {
   "cell_type": "code",
   "execution_count": null,
   "id": "69",
   "metadata": {},
   "outputs": [],
   "source": [
    "fig, ax = plt.subplots()\n",
    "\n",
    "# Add Seattle temperature data in each month with colm 'MLY-TAVG-STDDEV' as error bars values\n",
    "ax.errorbar(  x= s_monthly_df.index, y= s_monthly_df['MLY-TAVG-NORMAL'],\n",
    "              yerr= s_monthly_df['MLY-TAVG-STDDEV'], capsize= 4,\n",
    "              label= 'Seattle'            )\n",
    "\n",
    "# Add Austin temperature data in each month with colm 'MLY-TAVG-STDDEV' as error bars values\n",
    "ax.errorbar(  x= a_monthly_df.index, y= a_monthly_df['MLY-TAVG-NORMAL'],\n",
    "              yerr= a_monthly_df['MLY-TAVG-STDDEV'], capsize= 4,\n",
    "              label= 'Austin'            )\n",
    "\n",
    "ax.set_ylabel( 'Temperature (Fahrenheit)' ); ax.set_xlabel( 'Time (months)' )\n",
    "\n",
    "ax.legend()\n",
    "\n",
    "plt.show()"
   ]
  },
  {
   "cell_type": "markdown",
   "id": "70",
   "metadata": {},
   "source": [
    "#### Creating boxplots\n",
    "\n",
    "Boxplots provide additional information about the distribution of the data that they represent. They tell us:\n",
    "\n",
    "    - median of the distribution\n",
    "    - inter-quartile range\n",
    "    - expected range of approximately 99% of the data should be and\n",
    "    - outliers beyond this range are particularly highlighted"
   ]
  },
  {
   "cell_type": "code",
   "execution_count": null,
   "id": "71",
   "metadata": {},
   "outputs": [],
   "source": [
    "# data prep\n",
    "\n",
    "olmp_df = pd.read_csv( 'datasets/summer2016_olympics.csv', index_col= 0 )\n",
    "olmp_grpby_sport = olmp_df.groupby( by= 'Sport' )\n",
    "\n",
    "row_df = olmp_grpby_sport.get_group( 'Rowing' )\n",
    "gym_df = olmp_grpby_sport.get_group( 'Gymnastics' )"
   ]
  },
  {
   "cell_type": "code",
   "execution_count": null,
   "id": "72",
   "metadata": {},
   "outputs": [],
   "source": [
    "fig, ax = plt.subplots( )\n",
    "\n",
    "# boxplot that contains the 'Height' colm for rowing on the left & gymnastics on the right\n",
    "\n",
    "ax.boxplot( x= [ row_df.Height , gym_df.Height ], notch= True )\n",
    "\n",
    "ax.set_xticklabels( labels= ['Rowing','Gymnastics'] )\n",
    "ax.set_ylabel( 'Heights (cm)' )\n",
    "\n",
    "\n",
    "plt.show()"
   ]
  },
  {
   "cell_type": "markdown",
   "id": "73",
   "metadata": {},
   "source": [
    "<div id= '1.3.4'></div>\n",
    "\n",
    "### 1.3.4 - Scatter plots\n",
    "[Go to top](#toc)"
   ]
  },
  {
   "cell_type": "code",
   "execution_count": null,
   "id": "74",
   "metadata": {},
   "outputs": [],
   "source": [
    "#data\n",
    "climate_df = pd.read_csv( 'datasets/climate_change.csv',\n",
    "                          index_col= ['date'], parse_dates= ['date'],\n",
    "                          error_bad_lines= False\n",
    "                        )\n",
    "print( climate_df.head(3) )"
   ]
  },
  {
   "cell_type": "code",
   "execution_count": null,
   "id": "75",
   "metadata": {},
   "outputs": [],
   "source": [
    "fig, ax = plt.subplots(  figsize= (3.5,3.5) )\n",
    "\n",
    "ax.scatter( x= climate_df.co2, y= climate_df.relative_temp )\n",
    "\n",
    "# axes labels\n",
    "ax.set_xlabel( 'CO2 (ppm)' );  ax.set_ylabel( 'Rel. Temperature (oC)' )\n",
    "\n",
    "plt.show()"
   ]
  },
  {
   "cell_type": "markdown",
   "id": "76",
   "metadata": {},
   "source": [
    "##### customizing scatter plot: plotting for specific time period ( 1980-1989 & 1990-1999) for comparison"
   ]
  },
  {
   "cell_type": "code",
   "execution_count": null,
   "id": "77",
   "metadata": {},
   "outputs": [],
   "source": [
    "fig, ax = plt.subplots(  figsize= (5,3.5) )\n",
    "\n",
    "ax.scatter(  x= climate_df['1980':'1989'].co2, y= climate_df['1980':'1989'].relative_temp,\n",
    "             color= 'red', label= \"80's\"  )\n",
    "\n",
    "ax.scatter(  x= climate_df['1990':'1999'].co2, y= climate_df['1990':'1999'].relative_temp,\n",
    "             color= 'green', label= \"90's\" )\n",
    "\n",
    "ax.set_xlabel( 'CO2 (ppm)' );  ax.set_ylabel( 'Rel. Temperature (oC)' )\n",
    "ax.set_xticklabels( labels= climate_df['1980':'1989'].co2, rotation= 75 )\n",
    "ax.legend()\n",
    "\n",
    "plt.show()"
   ]
  },
  {
   "cell_type": "markdown",
   "id": "78",
   "metadata": {},
   "source": [
    "#### Encoding time (3<sup>rd</sup> dim) by color\n",
    "\n",
    "We have only has two dims (x & y), but we can encode another dimension in the scatter plot using color. Here, we will visualize the climate-change dataset, plotting a scatter plot of the CO2 colm, on the x-axis, against the Rel-Temperature colm, on the y-axis. We will encode time using the color dimension, with earlier times appearing as darker shades of blue and later times appearing as brighter shades of yellow."
   ]
  },
  {
   "cell_type": "code",
   "execution_count": null,
   "id": "79",
   "metadata": {},
   "outputs": [],
   "source": [
    "fig, ax = plt.subplots( figsize= (5,3.5) )\n",
    "\n",
    "ax.scatter(  x= climate_df.co2, y= climate_df.relative_temp,\n",
    "             c= climate_df.index )                                # <-- color as 3rd dim for time\n",
    "\n",
    "ax.set_xlabel( 'CO2 (ppm)' );  ax.set_ylabel( 'Rel. Temperature (oC)' )\n",
    "\n",
    "plt.show()"
   ]
  },
  {
   "cell_type": "markdown",
   "id": "80",
   "metadata": {},
   "source": [
    "<br><div id= '1.4'></div>\n",
    "\n",
    "## Chapter 1.4 - Sharing visualizations \n",
    "\n",
    "#### Key Concepts\n",
    "    \n",
    "    - how to share the visualizations with others\n",
    "    - save the figures as files\n",
    "    - adjust figures look and feel\n",
    "    - automate figures creation based on input data\n",
    "    \n",
    "<div id= '1.4.1'></div>\n",
    "\n",
    "### 1.4.1 - Figure theme (consideration prior to sharing)\n",
    "[Go to top](#toc)\n",
    "\n",
    "[Matplotlib - Style Sheet URL](https://matplotlib.org/stable/gallery/style_sheets/style_sheets_reference.html) "
   ]
  },
  {
   "cell_type": "markdown",
   "id": "81",
   "metadata": {},
   "source": [
    "##### use the `classic` style"
   ]
  },
  {
   "cell_type": "code",
   "execution_count": null,
   "id": "82",
   "metadata": {},
   "outputs": [],
   "source": [
    "plt.style.use( style= 'classic' )\n",
    "\n",
    "fig, ax = plt.subplots( figsize= (7,3) )\n",
    "\n",
    "ax.plot( s_monthly_df.index, s_monthly_df['MLY-TAVG-NORMAL'] )\n",
    "\n",
    "ax.set_xlabel( 'Time (months)' );  ax.set_ylabel( 'Monthly avg Tempr (F)' )\n",
    "\n",
    "plt.show()"
   ]
  },
  {
   "cell_type": "markdown",
   "id": "83",
   "metadata": {},
   "source": [
    "##### use the `seaborn-colorblind` style`"
   ]
  },
  {
   "cell_type": "code",
   "execution_count": null,
   "id": "84",
   "metadata": {},
   "outputs": [],
   "source": [
    "plt.style.use( style= 'seaborn-colorblind' )\n",
    "\n",
    "fig, ax = plt.subplots( figsize= (7,3) )\n",
    "\n",
    "ax.plot( s_monthly_df.index, s_monthly_df['MLY-TAVG-NORMAL'] )\n",
    "\n",
    "ax.set_xlabel( 'Time (months)' );  ax.set_ylabel( 'Monthly avg Tempr (F)' )\n",
    "\n",
    "plt.show()\n",
    "\n",
    "plt.style.use( style= 'dark_background' )"
   ]
  },
  {
   "cell_type": "markdown",
   "id": "85",
   "metadata": {},
   "source": [
    "<div id= '1.4.2'></div>\n",
    "\n",
    "### 1.4.2 - Saving the visualizations\n",
    "[Go to top](#toc)"
   ]
  },
  {
   "cell_type": "markdown",
   "id": "86",
   "metadata": {},
   "source": [
    "#### Saving a file several times with different params\n",
    "\n",
    "Matplotlib provides as way to save the figr as a file, through the savefig method of the Figure object.\n",
    "\n",
    "We will save a figure several times; each time setting the parameters to something slightly different."
   ]
  },
  {
   "cell_type": "code",
   "execution_count": null,
   "id": "87",
   "metadata": {},
   "outputs": [],
   "source": [
    "# figure\n",
    "\n",
    "fig_1, ax_1 = plt.subplots( figsize= (5,2.5) )\n",
    "ax_1.scatter(  x= climate_df.co2, y= climate_df.relative_temp,\n",
    "             c= climate_df.index)                                # <-- color as 3rd dim for time\n",
    "ax_1.set_xlabel( 'CO2 (ppm)' );  ax_1.set_ylabel( 'Rel. Temperature (oC)' )\n",
    "plt.show()"
   ]
  },
  {
   "cell_type": "code",
   "execution_count": null,
   "id": "88",
   "metadata": {},
   "outputs": [],
   "source": [
    "# save as a PNG file\n",
    "\n",
    "# set dpi\n",
    "fig.savefig( 'images/matplotlib_fig_300dpi.png', dpi= 300 )\n",
    "\n",
    "# provide quality as a percent\n",
    "fig.savefig( 'images/matplotlib_fig_60%.jpg', pil_kwargs= { 'quality': 60 } )\n",
    "\n",
    "# daving img so as to preserve components as vectors\n",
    "fig.savefig( 'images/matplotlib_fig_vectors.svg' )\n",
    "\n",
    "# daving img so as to preserve components as vectors\n",
    "fig.set_size_inches( [6,2] )\n",
    "fig.savefig( 'images/matplotlib_fig_ratio_6_2.jpeg' )"
   ]
  },
  {
   "cell_type": "markdown",
   "id": "89",
   "metadata": {},
   "source": [
    "<div id= '1.4.3'></div>\n",
    "\n",
    "### 1.4.3 - Automating figures from data\n",
    "[Go to top](#toc)"
   ]
  },
  {
   "cell_type": "code",
   "execution_count": null,
   "id": "90",
   "metadata": {},
   "outputs": [],
   "source": [
    "olmp_df = pd.read_csv( 'datasets/summer2016_olympics.csv', index_col= 0 )\n",
    "\n",
    "print( olmp_df.Sport.unique() )"
   ]
  },
  {
   "cell_type": "code",
   "execution_count": null,
   "id": "91",
   "metadata": {},
   "outputs": [],
   "source": [
    "plt.style.use( style= 'classic' )\n",
    "\n",
    "olmp_grpby_sport_obj = olmp_df.groupby( by= 'Sport' )\n",
    "\n",
    "fig_1, ax_1 = plt.subplots( figsize= (10,5) )\n",
    "\n",
    "for e_sport, e_df in olmp_df.groupby( by= 'Sport' ):\n",
    "    ax_1.bar(  x= e_sport, height= e_df.Height.mean(), yerr= e_df.Height.std()  )\n",
    "\n",
    "ax_1.set_xlabel( e_sport )  ; ax_1.set_ylabel( 'Height (cm)' )\n",
    "ax_1.set_xticklabels( labels= olmp_grpby_sport_obj.groups.keys(), rotation= 80 )\n",
    "    \n",
    "plt.show()\n",
    "    "
   ]
  },
  {
   "cell_type": "markdown",
   "id": "92",
   "metadata": {},
   "source": [
    "#### exact same plot, only increasing efficiency by just selecting `'Height'` colmn"
   ]
  },
  {
   "cell_type": "code",
   "execution_count": null,
   "id": "93",
   "metadata": {},
   "outputs": [],
   "source": [
    "# plt.style.use( style= 'classic' )\n",
    "\n",
    "# olmp_grpby_sport_obj = olmp_df.groupby( by= 'Sport' )\n",
    "\n",
    "# fig_1, ax_1 = plt.subplots( figsize= (10,5) )\n",
    "\n",
    "# for e_sport, e_df in olmp_df.groupby( by= 'Sport' ):\n",
    "#     ax_1.bar(  x= e_sport, height= e_df.Height.mean(), yerr= e_df.Height.std()  )\n",
    "\n",
    "# ax_1.set_xlabel( e_sport )  ; ax_1.set_ylabel( 'Height (cm)' )\n",
    "# ax_1.set_xticklabels( labels= olmp_grpby_sport_obj.groups.keys(), rotation= 80 )\n",
    "    \n",
    "# plt.show()\n",
    "    \n",
    "# -------------------------------------------------------------------------------------------------------------------\n",
    "\n",
    "plt.style.use( style= 'classic' )\n",
    "\n",
    "olmp_grpby_sport_obj = olmp_df.groupby( by= 'Sport' )[ 'Height' ]\n",
    "\n",
    "fig_1, ax_1 = plt.subplots( figsize= (10,5) )\n",
    "\n",
    "for e_sport, e_df in olmp_grpby_sport_obj:\n",
    "    ax_1.bar(  x= e_sport, height= e_df.mean(), yerr= e_df.std()  )\n",
    "\n",
    "ax_1.set_xlabel( e_sport ); ax_1.set_ylabel( 'Height (cm)' )\n",
    "ax_1.set_xticklabels( labels= olmp_grpby_sport_obj.groups.keys(), rotation= 80 )\n",
    "    \n",
    "plt.show()"
   ]
  },
  {
   "cell_type": "markdown",
   "id": "94",
   "metadata": {},
   "source": [
    "<br> <hr> <br> <br>\n",
    "\n",
    "<div id= 'course2'>\n",
    "    <h1> Course 2 - Introduction to Data Visualization with Seaborn</h1> \n",
    "    <h5> <a href= '#toc'> Go to top </a> </h5> \n",
    "</div>\n",
    "\n",
    "We will discuss what is Seaborn, and when should we use it?  subgroups.\n",
    "\n",
    "#### Key Concepts\n",
    "\n",
    "    - create scatter plots and count plots with both lists of data and dfs\n",
    "    - exploit one of the salient feature of Seaborn - the ability to easily add a variable as a 3rd dim to the plot       by using color to represent different subgroups\n",
    "<br>\n",
    "<div id= '2.1'></div>\n",
    "\n",
    "## Chapter 2.1 - Intro to `Seaborn`\n",
    "<i>[Go to top](#toc)</i>\n",
    "\n",
    "<div id= '2.1.1'></div>\n",
    "\n",
    "###  2.1.1 - Seaborn scatter plot & count plot from `list`"
   ]
  },
  {
   "cell_type": "markdown",
   "id": "95",
   "metadata": {},
   "source": [
    "##### data prep"
   ]
  },
  {
   "cell_type": "code",
   "execution_count": null,
   "id": "96",
   "metadata": {},
   "outputs": [],
   "source": [
    "world_df = pd.read_csv( 'datasets/countries-of-the-world.csv' )\n",
    "\n",
    "world_df.columns = clean_colNm( world_df.columns )\n",
    "\n",
    "print( world_df.info() ); world_df.head(2)"
   ]
  },
  {
   "cell_type": "code",
   "execution_count": null,
   "id": "97",
   "metadata": {},
   "outputs": [],
   "source": [
    "# create func for replacing ',' with '.' and changing str to float\n",
    "str_to_float = lambda dfs: dfs.str.replace(',','.').astype( np.float )\n",
    "\n",
    "# convert problematic colms dtype\n",
    "\n",
    "defective_colm_ls = [ 'pop_density_per_sq_mi','coastline_coast_area_ratio','net_migration',\\\n",
    "                      'infant_mortality_per_1000_births','literacy','phones_per_1000','phones_per_1000',\\\n",
    "                      'arable','crops','other','climate','birthrate','deathrate','agriculture','industry',\\\n",
    "                      'service' ]\n",
    "\n",
    "world_df[ defective_colm_ls ] = world_df[ defective_colm_ls ].apply( func= str_to_float, axis= 1 )\n",
    "\n",
    "print( world_df.info() )\n",
    "\n",
    "world_df.head(2)"
   ]
  },
  {
   "cell_type": "code",
   "execution_count": null,
   "id": "98",
   "metadata": {},
   "outputs": [],
   "source": [
    "gdp_ls = world_df['gdp_per_capita'].tolist()\n",
    "literacy_ls = world_df['literacy'].tolist()\n",
    "\n",
    "print( gdp_ls[:5], literacy_ls[:5] )"
   ]
  },
  {
   "cell_type": "markdown",
   "id": "99",
   "metadata": {},
   "source": [
    "##### scatter plot"
   ]
  },
  {
   "cell_type": "code",
   "execution_count": null,
   "id": "100",
   "metadata": {},
   "outputs": [],
   "source": [
    "plt.style.use('dark_background')\n",
    "\n",
    "sns.scatterplot( x= gdp_ls, y= literacy_ls )\n",
    "plt.show()"
   ]
  },
  {
   "cell_type": "markdown",
   "id": "101",
   "metadata": {},
   "source": [
    "#### Making a count plot with a list\n",
    "\n",
    "Let's do exploration of the world data - how many countries are in each region of the world?\n",
    "\n",
    "To do this, we'll need to use a `count plot`. Count plots take in a categorical list and return bars that represent the number of list entries per category. You can create one here using a list of regions for each country, which is a variable named region."
   ]
  },
  {
   "cell_type": "markdown",
   "id": "102",
   "metadata": {},
   "source": [
    "#### A. using `sns`"
   ]
  },
  {
   "cell_type": "code",
   "execution_count": null,
   "id": "103",
   "metadata": {},
   "outputs": [],
   "source": [
    "fig1, ax1 = plt.subplots(  )\n",
    "\n",
    "# plot command\n",
    "sns.countplot( y= world_df.region, ax= ax1 )\n",
    "# labels\n",
    "ax1.set_xlabel( 'Number of Countries' ); ax1.set_ylabel( 'Regions' )\n",
    "ax1.set_yticklabels( labels= np.char.strip( world_df.region.unique().astype(np.str) ) )\n",
    "\n",
    "plt.show()"
   ]
  },
  {
   "cell_type": "code",
   "execution_count": null,
   "id": "104",
   "metadata": {},
   "outputs": [],
   "source": [
    "# interchanging x & y -axis\n",
    "\n",
    "fig1, ax1 = plt.subplots(  )\n",
    "sns.countplot( x= world_df.region )\n",
    "\n",
    "ax1.set_xlabel( 'Regions' ); ax1.set_ylabel( 'Number of Countries' )\n",
    "ax1.set_xticklabels( labels= np.char.strip( world_df.region.unique().astype(np.str) ),\n",
    "                     rotation = 85 )\n",
    "plt.show()"
   ]
  },
  {
   "cell_type": "markdown",
   "id": "105",
   "metadata": {},
   "source": [
    "#### B. using `matplotlib`\n",
    "\n",
    "required to group the data based on `'region'` colm, which wasn't required in `sns` prior to plotting"
   ]
  },
  {
   "cell_type": "code",
   "execution_count": null,
   "id": "106",
   "metadata": {},
   "outputs": [],
   "source": [
    "# using barplot for grouped data\n",
    "\n",
    "reg_cnt_country_S = world_df.groupby( by= 'region' )['country'].count().sort_values()\n",
    "\n",
    "fig1, ax1 = plt.subplots()\n",
    "\n",
    "# plot command\n",
    "ax1.bar( x= reg_cnt_country_S.index, height= reg_cnt_country_S )\n",
    "ax1.set_xticklabels( labels= reg_cnt_country_S.index.str.strip() , rotation = 80 )\n",
    "\n",
    "plt.show()"
   ]
  },
  {
   "cell_type": "markdown",
   "id": "107",
   "metadata": {},
   "source": [
    "<div id= '2.1.2'></div>\n",
    "\n",
    "###  2.1.2 - Using pandas with `Seaborn`\n",
    "    \n",
    "[Go to top](#toc)"
   ]
  },
  {
   "cell_type": "code",
   "execution_count": null,
   "id": "108",
   "metadata": {},
   "outputs": [],
   "source": [
    "dc_csv_fp_1 = 'http://assets.datacamp.com/production/repositories/3996/datasets/ab13162732ae9ca1a9a27e2efd3da923ed6a4e7b/young-people-survey-responses.csv'"
   ]
  },
  {
   "cell_type": "code",
   "execution_count": null,
   "id": "109",
   "metadata": {},
   "outputs": [],
   "source": [
    "# survey_df = pd.read_csv( dc_csv_fp_1, index_col= 0)\n",
    "survey_df = pd.read_csv( 'datasets/young-people-survey-responses.csv', index_col= 0)\n",
    "\n",
    "print( f'\\n Spider uniques values = {survey_df.Spiders.unique()}' )\n",
    "\n",
    "survey_df.head(3)"
   ]
  },
  {
   "cell_type": "code",
   "execution_count": null,
   "id": "110",
   "metadata": {},
   "outputs": [],
   "source": [
    "# count bar plot based on Spiders value\n",
    "\n",
    "sns.countplot( x= 'Spiders', data= survey_df )\n",
    "plt.show()"
   ]
  },
  {
   "cell_type": "markdown",
   "id": "111",
   "metadata": {},
   "source": [
    "<div id= '2.1.3'></div>\n",
    "\n",
    "### 2.1.3 - Representing a third dimn for an additional variable with `hue`\n",
    "    \n",
    "<i>[Go to top](#toc)</i>\n",
    "\n",
    "#### Hue and scatter plots\n",
    "\n",
    "`hue` allows us to easily make subgroups within Seaborn plots. Let's explore data from restuarant. The df has lot of information about each customer - like their gender, smoker, time of dining, total bill incurred, tip providef, day of dining and size of the group.\n",
    "\n",
    "Let's consider the relationship between the total bill and tip provided, segmented by customer gender, further segmented by smoker."
   ]
  },
  {
   "cell_type": "code",
   "execution_count": null,
   "id": "112",
   "metadata": {},
   "outputs": [],
   "source": [
    "res_df = sns.load_dataset( 'tips' )\n",
    "\n",
    "print( res_df.head(3) )"
   ]
  },
  {
   "cell_type": "markdown",
   "id": "113",
   "metadata": {},
   "source": [
    "#### Visualize the relationship between:\n",
    "    \n",
    "        total bill and tip provided, segmented by customer gender, further segmented by smoker/non"
   ]
  },
  {
   "cell_type": "code",
   "execution_count": null,
   "id": "114",
   "metadata": {},
   "outputs": [],
   "source": [
    "plt.style.use( style= 'dark_background' )\n",
    "\n",
    "\n",
    "fig1, ax1 = plt.subplots( 2,2, figsize= (10,7) ) \n",
    "\n",
    "sns.scatterplot( x= 'total_bill', y= 'tip', data= res_df,\n",
    "                 hue= 'sex', \n",
    "                 ax= ax1[0][0] )\n",
    "\n",
    "# modifying the label position: Female on top\n",
    "sns.scatterplot( x= 'total_bill', y= 'tip', data= res_df,\n",
    "                 hue= 'sex', hue_order= [ 'Female','Male' ],\n",
    "                 ax= ax1[0][1] )\n",
    "\n",
    "# specifying the respective colors to hue sub-class\n",
    "sns.scatterplot( x= 'total_bill', y= 'tip', data= res_df,\n",
    "                 hue= 'sex', hue_order= [ 'Female','Male' ],\n",
    "                 palette= { 'Female':'r', 'Male':'orange' },\n",
    "                 ax= ax1[1][0] )\n",
    "\n",
    "# specifying the respective colors to hue sub-class using #html color code\n",
    "sns.scatterplot( x= 'total_bill', y= 'tip', data= res_df,\n",
    "                 hue= 'sex', hue_order= [ 'Female','Male' ],\n",
    "                 palette= { 'Female':'r', 'Male':'#00bfbf' },\n",
    "                 ax= ax1[1][1] )\n",
    "\n",
    "plt.show()"
   ]
  },
  {
   "cell_type": "markdown",
   "id": "115",
   "metadata": {},
   "source": [
    "#### Hue and count plots - `groupby .mean()` on the fly\n",
    "\n",
    "Above, we created a scatter plot where the plot points were colored based on customer gender. How many male are smoker vs non-smoker? And does this vary for the female customer? Let's make a count plot with subgroups to find out."
   ]
  },
  {
   "cell_type": "code",
   "execution_count": null,
   "id": "116",
   "metadata": {},
   "outputs": [],
   "source": [
    "print( res_df.head(3) )"
   ]
  },
  {
   "cell_type": "code",
   "execution_count": null,
   "id": "117",
   "metadata": {},
   "outputs": [],
   "source": [
    "plt.style.use( style= 'dark_background' )\n",
    "\n",
    "fig1, ax1 = plt.subplots( 1,2, figsize= (8,3.5) ) \n",
    "\n",
    "# Create a dictn mapping location subgroup values to colors\n",
    "gender_palt_dictn = { 'Female':'green', 'Male':'blue' }\n",
    "\n",
    "# Create a count plot of \n",
    "sns.countplot( x= 'smoker', data= res_df, \n",
    "               hue= 'sex', palette= gender_palt_dictn,\n",
    "               ax= ax1[0] )\n",
    "\n",
    "# Create a count plot \n",
    "sns.countplot( x= 'sex', data= res_df, \n",
    "               hue= 'smoker', palette= { 'Yes':'red', 'No':'teal' },\n",
    "               ax= ax1[1] )\n",
    "\n",
    "plt.show()"
   ]
  },
  {
   "cell_type": "markdown",
   "id": "118",
   "metadata": {},
   "source": [
    "<br>\n",
    "<div id= '2.2'></div>\n",
    "\n",
    "## Chapter 2.2 - Visualizing Two Quantitative Variables\n",
    "<i>[Go to top](#toc)</i>\n",
    "\n",
    "#### Core concepts:\n",
    "    - create and customize plots that visualize the relationship between two quantitative variables\n",
    "    - use scatter plots and line plots to explore:\n",
    "        -- how the level of air pollution in a city changes over the course of a day\n",
    "        -- how horsepower relates to fuel efficiency in cars\n",
    "    - explore another useful salient feature of Seaborn - the ability to easily create subplots in a single figure\n",
    "    \n",
    "<div id= '2.2.1'></div>\n",
    "\n",
    "###  2.2.1 - Relational plots and Relational plots within subplots\n",
    "<br>"
   ]
  },
  {
   "cell_type": "markdown",
   "id": "119",
   "metadata": {},
   "source": [
    "##### # scatter plot between 2 variables and using hue for 3rd variable sub-class"
   ]
  },
  {
   "cell_type": "code",
   "execution_count": null,
   "id": "120",
   "metadata": {},
   "outputs": [],
   "source": [
    "res_df = sns.load_dataset( name= 'tips' )\n",
    "print( res_df.head(3) )"
   ]
  },
  {
   "cell_type": "code",
   "execution_count": null,
   "id": "121",
   "metadata": {},
   "outputs": [],
   "source": [
    "plt.style.use( style= 'dark_background' )\n",
    "\n",
    "fig1, ax1 = plt.subplots( figsize= (5,3) ) \n",
    "\n",
    "# scatter plot between 2 variables and using hue for 3rd variable sub-class\n",
    "sns.scatterplot( x= 'total_bill', y= 'tip', hue= 'smoker',\n",
    "                 data= res_df )\n",
    "plt.show()"
   ]
  },
  {
   "cell_type": "markdown",
   "id": "122",
   "metadata": {},
   "source": [
    "##### separate scatter plots between 2 variables and for 3rd variable sub-class: col-wise"
   ]
  },
  {
   "cell_type": "code",
   "execution_count": null,
   "id": "123",
   "metadata": {},
   "outputs": [],
   "source": [
    "sns.relplot( x= 'total_bill', y= 'tip', col= 'sex',\n",
    "             data= res_df,\n",
    "             kind= 'scatter', height= 3  )\n",
    "plt.show()"
   ]
  },
  {
   "cell_type": "markdown",
   "id": "124",
   "metadata": {},
   "source": [
    "##### separate scatter plots between 2 variables and for 3rd variable sub-class: row-wise"
   ]
  },
  {
   "cell_type": "code",
   "execution_count": null,
   "id": "125",
   "metadata": {},
   "outputs": [],
   "source": [
    "sns.relplot( x= 'total_bill', y= 'tip', row= 'smoker', \n",
    "             data= res_df, \n",
    "             kind= 'scatter', height= 3 ); plt.show()"
   ]
  },
  {
   "cell_type": "markdown",
   "id": "126",
   "metadata": {},
   "source": [
    "##### separate scatter plots between 2 variables + for additional 2 variable sub-class: row-wise & col-wise\n",
    "\n",
    "    x = total bill  |  y = tip  |   subclasses:  smoker & gender"
   ]
  },
  {
   "cell_type": "code",
   "execution_count": null,
   "id": "127",
   "metadata": {},
   "outputs": [],
   "source": [
    "print( res_df.head(3) )"
   ]
  },
  {
   "cell_type": "code",
   "execution_count": null,
   "id": "128",
   "metadata": {},
   "outputs": [],
   "source": [
    "sns.relplot( x= 'total_bill', y= 'tip',\n",
    "             row= 'smoker', col= 'sex',                   # <-  row-wise & col-wise\n",
    "             data= res_df,\n",
    "             kind= 'scatter', height= 3 )\n",
    "plt.show()"
   ]
  },
  {
   "cell_type": "markdown",
   "id": "129",
   "metadata": {},
   "source": [
    "#### Wrapping colm"
   ]
  },
  {
   "cell_type": "code",
   "execution_count": null,
   "id": "130",
   "metadata": {},
   "outputs": [],
   "source": [
    "print( res_df.day.unique() )\n",
    "\n",
    "# scatter plot for diffr days: not wrapping\n",
    "\n",
    "sns.relplot( x= 'total_bill', y= 'tip', col= 'day',\n",
    "             data= res_df, \n",
    "             kind= 'scatter', height= 3\n",
    "           )"
   ]
  },
  {
   "cell_type": "code",
   "execution_count": null,
   "id": "131",
   "metadata": {},
   "outputs": [],
   "source": [
    "# scatter plot for diffr days: wrapping\n",
    "sns.relplot( x= 'total_bill', y= 'tip', col= 'day',\n",
    "            col_wrap= 2,                                    # <-- colm wrap\n",
    "            data= res_df, \n",
    "            kind= 'scatter', height= 3\n",
    "           )\n",
    "plt.show()"
   ]
  },
  {
   "cell_type": "markdown",
   "id": "132",
   "metadata": {},
   "source": [
    "#### changing the order of the subplots"
   ]
  },
  {
   "cell_type": "code",
   "execution_count": null,
   "id": "133",
   "metadata": {},
   "outputs": [],
   "source": [
    "sns.relplot( x= 'total_bill', y= 'tip', col= 'day',\n",
    "             col_wrap= 2, col_order= [ 'Sun', 'Fri', 'Sat', 'Thur' ],\n",
    "             data= res_df,\n",
    "             kind= 'scatter', height= 3 )\n",
    "plt.show()"
   ]
  },
  {
   "cell_type": "code",
   "execution_count": null,
   "id": "134",
   "metadata": {},
   "outputs": [],
   "source": [
    "# Exploring whether size affects total_bill vs tip relation\n",
    "\n",
    "# as a glitch, sns gives error for a coln name 'size', so changing it to 'sz'\n",
    "\n",
    "res_df.rename( columns= { 'size': 'sz' }, inplace= True )\n",
    "\n",
    "sns.relplot( x= 'total_bill', y= 'tip',\n",
    "             col= 'sz', col_wrap= 3,\n",
    "             data= res_df,\n",
    "             kind= 'scatter', height= 3 \n",
    "           )\n",
    "plt.show()"
   ]
  },
  {
   "cell_type": "markdown",
   "id": "135",
   "metadata": {},
   "source": [
    "<div id= '2.2.2'></div>\n",
    "\n",
    "###  2.2.2 - Customizing scatter plots: `color`  `size` `shape` `transparency` `multiple plots`\n",
    "<i>[Go to top](#toc)</i>"
   ]
  },
  {
   "cell_type": "markdown",
   "id": "136",
   "metadata": {},
   "source": [
    "##### providing different size & color for a variable - adding an additional dimention (customer size per table)\n",
    "` 3 variables `"
   ]
  },
  {
   "cell_type": "code",
   "execution_count": null,
   "id": "137",
   "metadata": {},
   "outputs": [],
   "source": [
    "res_df = sns.load_dataset( name= 'tips' ); print( res_df.head(2) )\n",
    "plt.style.use( style= 'dark_background' )\n",
    "\n",
    "sns.relplot( x= 'total_bill', y= 'tip',\n",
    "             size= 'size', hue= 'size',\n",
    "             kind= 'scatter',\n",
    "             data= res_df, height= 3.5  \n",
    "           )\n",
    "plt.show()"
   ]
  },
  {
   "cell_type": "markdown",
   "id": "138",
   "metadata": {},
   "source": [
    "##### providing different shape (style) for a variable - adding an additional dimention (smoker vs non-smoker)\n",
    "` 4 variables `"
   ]
  },
  {
   "cell_type": "code",
   "execution_count": null,
   "id": "139",
   "metadata": {},
   "outputs": [],
   "source": [
    "# accepting default markers\n",
    "\n",
    "plt.style.use( 'classic' )\n",
    "\n",
    "# accepting default markers for style\n",
    "\n",
    "sns.relplot( x= 'total_bill', y= 'tip', \n",
    "             size= 'size', hue= 'size',\n",
    "             style= 'smoker',                                       # <- style for new variable/dimn \n",
    "             data= res_df, height= 3.5  \n",
    "           )\n",
    "\n",
    "# modifying the markers for style\n",
    "\n",
    "sns.relplot( x= 'total_bill', y= 'tip', \n",
    "             size= 'size', hue= 'size',\n",
    "             style= 'smoker', markers= { 'Yes': 'v' , 'No': 'o' },  # <- style for additional var & markers\n",
    "             data= res_df, height= 3.5  \n",
    "           )\n",
    "\n",
    "plt.show()"
   ]
  },
  {
   "cell_type": "markdown",
   "id": "140",
   "metadata": {},
   "source": [
    "##### setting up transparency"
   ]
  },
  {
   "cell_type": "code",
   "execution_count": null,
   "id": "141",
   "metadata": {},
   "outputs": [],
   "source": [
    "plt.style.use( 'classic' )\n",
    "\n",
    "sns.relplot( x= 'total_bill', y= 'tip', \n",
    "             size= 'size', hue= 'size', alpha= 0.7,            # <-- alpha sets the transparency level\n",
    "             data= res_df, height= 3.5  \n",
    "           )\n",
    "plt.show()"
   ]
  },
  {
   "cell_type": "markdown",
   "id": "142",
   "metadata": {},
   "source": [
    "### sns customization using auto-engine data"
   ]
  },
  {
   "cell_type": "code",
   "execution_count": null,
   "id": "143",
   "metadata": {},
   "outputs": [],
   "source": [
    "auto_df = pd.read_csv( 'datasets/mpg.csv' ); auto_df.head(2)"
   ]
  },
  {
   "cell_type": "code",
   "execution_count": null,
   "id": "144",
   "metadata": {},
   "outputs": [],
   "source": [
    "# investigating relation between horsepower & milage with another variable cylinder size as color dimn\n",
    "\n",
    "plt.style.use('dark_background')\n",
    "\n",
    "sns.relplot( x= 'horsepower', y= 'mpg',\n",
    "             size= 'cylinders', hue= 'cylinders', alpha= 0.7, \n",
    "             data= auto_df, kind= 'scatter', height= 3.5  \n",
    "           )\n",
    "\n",
    "plt.show()"
   ]
  },
  {
   "cell_type": "markdown",
   "id": "145",
   "metadata": {},
   "source": [
    "##### investigating same relation between horsepower & milage with different plots for different cylinder size "
   ]
  },
  {
   "cell_type": "code",
   "execution_count": null,
   "id": "146",
   "metadata": {},
   "outputs": [],
   "source": [
    "plt.style.use( 'bmh' )\n",
    "sns.set_theme( rc= sns_theme_rc_dictn )\n",
    "\n",
    "sns.relplot( x= 'horsepower', y= 'mpg',            \n",
    "             col= 'cylinders', col_wrap= 3, \n",
    "             data= auto_df, kind= 'scatter', height= 3.5  \n",
    "           )\n",
    "\n",
    "plt.show()"
   ]
  },
  {
   "cell_type": "markdown",
   "id": "147",
   "metadata": {},
   "source": [
    "##### investigating same relation between horsepower & milage with different plots for different cylinder size\n",
    "    + weight variable as color & size"
   ]
  },
  {
   "cell_type": "code",
   "execution_count": null,
   "id": "148",
   "metadata": {},
   "outputs": [],
   "source": [
    "plt.style.use( 'bmh' )\n",
    "sns.set_theme( rc= {  'axes.facecolor':'#404040', 'figure.facecolor':'#2F4F4F',\n",
    "                      'grid.color':'#000000', 'axes.edgecolor': 'black',\n",
    "                      'font.size': 20  }\n",
    "             )\n",
    "\n",
    "sns.relplot( x= 'horsepower', y= 'mpg',     \n",
    "             col= 'cylinders', col_wrap= 3,\n",
    "             size= 'weight', hue= 'weight',\n",
    "             data= auto_df, kind= 'scatter', height= 3.5  \n",
    "           )\n",
    "\n",
    "plt.show()"
   ]
  },
  {
   "cell_type": "markdown",
   "id": "149",
   "metadata": {},
   "source": [
    "##### Exactly same plot as above but with simplified # of categories for # cylinder and  weights"
   ]
  },
  {
   "cell_type": "code",
   "execution_count": null,
   "id": "150",
   "metadata": {},
   "outputs": [],
   "source": [
    "# data prep\n",
    "\n",
    "# converting continuous weight into 3 categories (low, med, heavy)\n",
    "wt_range = [ 0, 2000, 3000, np.inf ]\n",
    "wt_category = [ 'low<2000', 'med<3000', 'heavy<5000' ]\n",
    "\n",
    "auto_df['wt_class'] = pd.cut( x= auto_df.weight, bins= wt_range, labels= wt_category )\n",
    "auto_df.head(2)\n",
    "\n",
    "# simplifying # cylinder into less categories\n",
    "cyl_bin = [ 0,4,5,8 ]\n",
    "cyl_label = [ 'less (3-4)', 'med (5)', 'ample (6-8)' ]\n",
    "\n",
    "auto_df['cyl_class'] = pd.cut( x= auto_df.cylinders, bins= cyl_bin, labels= cyl_label )\n",
    "\n",
    "auto_df.head(2)"
   ]
  },
  {
   "cell_type": "code",
   "execution_count": null,
   "id": "151",
   "metadata": {},
   "outputs": [],
   "source": [
    "sns.relplot( x= 'horsepower', y= 'mpg',     \n",
    "             col= 'cyl_class',\n",
    "             size= 'wt_class', hue= 'wt_class', size_order= [ 'heavy<5000', 'med<3000', 'low<2000' ],\n",
    "             data= auto_df, kind= 'scatter', height= 3.5  \n",
    "           )\n",
    "\n",
    "plt.show()"
   ]
  },
  {
   "cell_type": "markdown",
   "id": "152",
   "metadata": {},
   "source": [
    "### Analysis/ interpretation from above plots: ⇑\n",
    "\n",
    "`1st plot`:\n",
    "There is a big differences in the milage between lower (horse) power vs higher power auto for low cylinder cars (as |slope| is  high)\n",
    "\n",
    "`3rd plot`:\n",
    "There is rel. less differences in the milage b/w lower vs. higher horse power for high cylinders cars (as |slope| is lower)\n",
    "<br>"
   ]
  },
  {
   "cell_type": "markdown",
   "id": "153",
   "metadata": {},
   "source": [
    "##### investigating same relation between horsepower & milage with different plots for different weight range\n",
    "    + differnet cylinder category for different color and size"
   ]
  },
  {
   "cell_type": "code",
   "execution_count": null,
   "id": "154",
   "metadata": {},
   "outputs": [],
   "source": [
    "sns.relplot( x= 'horsepower', y= 'mpg',     \n",
    "             col= 'wt_class',\n",
    "             size= 'cyl_class', hue= 'cyl_class', size_order= [ 'ample (6-8)', 'med (5)', 'less (3-4)' ],\n",
    "             data= auto_df, kind= 'scatter', height= 3.5  \n",
    "           )\n",
    "\n",
    "plt.show()"
   ]
  },
  {
   "cell_type": "markdown",
   "id": "155",
   "metadata": {},
   "source": [
    "##### Relation b/w `acceleration`  and `mpg` for auto from different countries\n",
    "\n",
    "`acceleration` variable is the time to accelerate from 0 --> 60 mph, in seconds. Higher values indicate slower acceleration."
   ]
  },
  {
   "cell_type": "code",
   "execution_count": null,
   "id": "156",
   "metadata": {},
   "outputs": [],
   "source": [
    "plt.style.use( 'bmh' )\n",
    "sns.set_theme( rc= sns_theme_rc_dictn )\n",
    "\n",
    "sns.relplot( x= 'acceleration', y= 'mpg',\n",
    "             style= 'origin', hue= 'origin',\n",
    "             data= auto_df, kind= 'scatter', height= 3.5              \n",
    "           )"
   ]
  },
  {
   "cell_type": "markdown",
   "id": "157",
   "metadata": {},
   "source": [
    "##### the above plot is helpful to some extent, so exploring multiple plots for `origin`"
   ]
  },
  {
   "cell_type": "code",
   "execution_count": null,
   "id": "158",
   "metadata": {},
   "outputs": [],
   "source": [
    "sns.relplot( x= 'acceleration', y= 'mpg', col= 'origin', data= auto_df, kind= 'scatter', height= 3.5   )"
   ]
  },
  {
   "cell_type": "markdown",
   "id": "159",
   "metadata": {},
   "source": [
    "<div id= '2.2.3'></div>\n",
    "\n",
    "###  2.2.3 - line plots\n",
    "<i>[Go to top](#toc)</i>"
   ]
  },
  {
   "cell_type": "markdown",
   "id": "160",
   "metadata": {},
   "source": [
    "How has the average milage (mpg) achieved by these cars changed over time?"
   ]
  },
  {
   "cell_type": "code",
   "execution_count": null,
   "id": "161",
   "metadata": {},
   "outputs": [],
   "source": [
    "plt.style.use('dark_background')\n",
    "\n",
    "sns.relplot( x= 'model_year', y= 'mpg',\n",
    "             data= auto_df, kind= 'line', height= 3.5             \n",
    "           )"
   ]
  },
  {
   "cell_type": "markdown",
   "id": "162",
   "metadata": {},
   "source": [
    "#### Visualizing standard deviation with line plots\n",
    "\n",
    "Above, we looked at how the average milage (for all car types) achieved by cars has changed over time. Now let's use a line plot to visualize how the distribution of milage has changed over time."
   ]
  },
  {
   "cell_type": "code",
   "execution_count": null,
   "id": "163",
   "metadata": {},
   "outputs": [],
   "source": [
    "sns.relplot( x= 'model_year', y= 'mpg',\n",
    "             ci= 'sd',                            # <-- sd instead of confidence interval (CI)\n",
    "             data= auto_df, kind= 'line', height= 3.5             \n",
    "           )"
   ]
  },
  {
   "cell_type": "markdown",
   "id": "164",
   "metadata": {},
   "source": [
    "### Supgroups mean plot\n",
    "\n",
    "#### average milage achieved by cars (for different weight categories)"
   ]
  },
  {
   "cell_type": "code",
   "execution_count": null,
   "id": "165",
   "metadata": {},
   "outputs": [],
   "source": [
    "sns.relplot( x= 'model_year', y= 'mpg',                    \n",
    "             col= 'wt_class',                     # sub-group\n",
    "             data= auto_df, kind= 'line', height= 3.5           \n",
    "           ); plt.show()"
   ]
  },
  {
   "cell_type": "markdown",
   "id": "166",
   "metadata": {},
   "source": [
    "#### average milage achieved by cars (for different # cylinder categories)"
   ]
  },
  {
   "cell_type": "code",
   "execution_count": null,
   "id": "167",
   "metadata": {},
   "outputs": [],
   "source": [
    "sns.relplot( x= 'model_year', y= 'mpg',\n",
    "             col= 'cyl_class',\n",
    "             data= auto_df, kind= 'line', height= 3.5    \n",
    "           ); plt.show()"
   ]
  },
  {
   "cell_type": "markdown",
   "id": "168",
   "metadata": {},
   "source": [
    "##### Create different lines for each country of origin that vary in both line style and color"
   ]
  },
  {
   "cell_type": "code",
   "execution_count": null,
   "id": "169",
   "metadata": {},
   "outputs": [],
   "source": [
    "sns.relplot( x= 'model_year', y= 'horsepower',\n",
    "             style= 'origin', hue = 'origin',                 # line style & hue    \n",
    "             markers= True,                                   # markers optional : True\n",
    "             ci = False,                                      # <-- no CI                               \n",
    "             data= auto_df, kind= 'line', height= 4\n",
    "           )"
   ]
  },
  {
   "cell_type": "markdown",
   "id": "170",
   "metadata": {},
   "source": [
    "##### Use the dashes parameter to use solid lines for all countries, while still allowing for different marker styles for each line"
   ]
  },
  {
   "cell_type": "code",
   "execution_count": null,
   "id": "171",
   "metadata": {},
   "outputs": [],
   "source": [
    "sns.relplot( x= 'model_year', y= 'horsepower',\n",
    "             style= 'origin', hue= 'origin', markers= True,\n",
    "             dashes= False, \n",
    "             ci= False,             \n",
    "             data= auto_df, kind= 'line', height= 4\n",
    "           )"
   ]
  },
  {
   "cell_type": "markdown",
   "id": "172",
   "metadata": {},
   "source": [
    "<hr>\n",
    "<div id= '2.3'></div>\n",
    "\n",
    "## Chapter 2.3 - Visualizing a Categorical and a Quantitative Variable\n",
    "<i>[Go to top](#toc)</i>\n",
    "\n",
    "Categorical variables are present in nearly every dataset, but they are especially prominent in survey data.\n",
    "\n",
    "#### Key points:\n",
    "\n",
    "    - create and customize categorical plots such as box plots, bar plots, count plots, and point plots\n",
    "    - Along the way, you will explore various survey data\n",
    "\n",
    "<div id= '2.3.1'></div>\n",
    "\n",
    "###  2.3.1 - Count plots & Bar plots"
   ]
  },
  {
   "cell_type": "markdown",
   "id": "173",
   "metadata": {},
   "source": [
    "#### Count plots\n",
    "\n",
    "We have the dataset that contains the responses to a survey sent out to young people. We might suspect that young people spend a lot of time on the internet, but how much do they report using the internet each day?\n",
    "\n",
    "Let's use a count plot to break down the number of survey responses in each category and then explore whether it changes based on age."
   ]
  },
  {
   "cell_type": "code",
   "execution_count": null,
   "id": "174",
   "metadata": {},
   "outputs": [],
   "source": [
    "surv_df = pd.read_csv( 'datasets/young-people-survey-responses.csv', index_col= 0 )\n",
    "surv_df.columns = clean_colNm( surv_df.columns )\n",
    "\n",
    "# replace lengthier internet_usage values into simpler\n",
    "old_value = [ 'no time at all', 'less than an hour a day', 'few hours a day', 'most of the day' ]\n",
    "new_value = [ 'no time', '< 1 hr/day', 'few hrs/day', 'most hrs/day' ]\n",
    "\n",
    "surv_df = surv_df.replace( to_replace= old_value, value= new_value )\n",
    "\n",
    "print( surv_df.internet_usage.unique() ); surv_df.head(2)"
   ]
  },
  {
   "cell_type": "code",
   "execution_count": null,
   "id": "175",
   "metadata": {},
   "outputs": [],
   "source": [
    "sns.catplot(  x= 'internet_usage', data= surv_df, aspect= 1.3,\n",
    "              kind= 'count' , height= 3.5  )\n",
    "\n",
    "# chanign orientation\n",
    "sns.catplot( y= 'internet_usage', data= surv_df,\n",
    "             kind= 'count' , height= 3, aspect= 2 )\n",
    "\n",
    "plt.show()"
   ]
  },
  {
   "cell_type": "markdown",
   "id": "176",
   "metadata": {},
   "source": [
    "#### Create column subplots based on Age Category, which separates respondents into those that are:\n",
    "       younger than 21 vs. 21 and older"
   ]
  },
  {
   "cell_type": "code",
   "execution_count": null,
   "id": "177",
   "metadata": {},
   "outputs": [],
   "source": [
    "# data converting continuous age value into categories\n",
    "\n",
    "age_bin = [ 0, 21, np.inf ]\n",
    "age_label = [ '< 21', '>= 21' ]\n",
    "surv_df['age_category'] = pd.cut( x= surv_df.age, bins= age_bin, labels= age_label )\n",
    "\n",
    "surv_df.head(2)"
   ]
  },
  {
   "cell_type": "code",
   "execution_count": null,
   "id": "178",
   "metadata": {},
   "outputs": [],
   "source": [
    "categ_order_ls = [ 'no time', '< 1 hr/day', 'few hrs/day', 'most hrs/day' ]\n",
    "\n",
    "sns.catplot( x= 'internet_usage', order= categ_order_ls,\n",
    "             col= 'age_category', \n",
    "             data= surv_df, kind= 'count', height= 4 )\n",
    "\n",
    "plt.show()"
   ]
  },
  {
   "cell_type": "markdown",
   "id": "179",
   "metadata": {},
   "source": [
    "#### Bar plots with percentages\n",
    "\n",
    "The variable 'mathematics' is a student's interest level in mathematics (5 - highly interested, 1-low interested).\n",
    "We will create 2 additional colms:\n",
    "    \n",
    "    - 'maths_interest' is:\n",
    "        True if mathematics is (4,5)\n",
    "        False if mathematics is (1,2,3)\n",
    "    - 'maths_interest_level' is:\n",
    "        'high' if (4,5)\n",
    "        'med' if 3\n",
    "        'low' id (1,2)\n",
    "    \n",
    "What percentage of young people report being interested in math and at which interest-level, and does this vary based on gender? Let's use a bar plot to find out."
   ]
  },
  {
   "cell_type": "code",
   "execution_count": null,
   "id": "180",
   "metadata": {},
   "outputs": [],
   "source": [
    "# investigating nan values\n",
    "print( surv_df.mathematics.unique(), '\\n' );                   pd.options.display.max_rows = 30\n",
    "\n",
    "print( surv_df.isna().sum() ) ;                                pd.options.display.max_rows = 6"
   ]
  },
  {
   "cell_type": "code",
   "execution_count": null,
   "id": "181",
   "metadata": {},
   "outputs": [],
   "source": [
    "# visualizing nan\n",
    "msno.matrix( df= surv_df, figsize= (13,3) ); plt.show()"
   ]
  },
  {
   "cell_type": "code",
   "execution_count": null,
   "id": "182",
   "metadata": {},
   "outputs": [],
   "source": [
    "# filling the na value with 3\n",
    "\n",
    "surv_df.mathematics.fillna( value= 3, inplace= True )\n",
    "\n",
    "print( f'surv_df.mathematics.unique() = {surv_df.mathematics.unique()}' )\n",
    "\n",
    "msno.matrix( df= surv_df, figsize= (13,3) ); plt.show()"
   ]
  },
  {
   "cell_type": "code",
   "execution_count": null,
   "id": "183",
   "metadata": {},
   "outputs": [],
   "source": [
    "# creating categories colms\n",
    "\n",
    "maths_interest_bin = [ 0, 3, np.inf ]\n",
    "maths_interest_lbl = [ 0, 1 ]\n",
    "\n",
    "maths_interest_lvl_bin = [ 0, 2, 3, np.inf ]\n",
    "maths_interest_lvl_lbl = [ 'low', 'med', 'high' ]\n",
    "\n",
    "surv_df['maths_interest'] = pd.cut( x= surv_df.mathematics, bins= maths_interest_bin, labels= maths_interest_lbl )\n",
    "\n",
    "surv_df['maths_interest_lvl'] = pd.cut( x= surv_df.mathematics,\n",
    "                                        bins= maths_interest_lvl_bin, labels= maths_interest_lvl_lbl )\n",
    "\n",
    "surv_df"
   ]
  },
  {
   "cell_type": "code",
   "execution_count": null,
   "id": "184",
   "metadata": {},
   "outputs": [],
   "source": [
    "# cross-check for category colms\n",
    "\n",
    "surv_df.loc[ surv_df['mathematics'] == 1 , ['mathematics','maths_interest','maths_interest_lvl']  ]"
   ]
  },
  {
   "cell_type": "code",
   "execution_count": null,
   "id": "185",
   "metadata": {},
   "outputs": [],
   "source": [
    "## surv_df.maths_interest is not number or bool which caused an issue while plotting catplot: the error msg:\n",
    "# Neither the `x` nor `y` variable appears to be numeric.\n",
    "\n",
    "# So we need to change the categorical colms ('maths_interest','maths_interest_lvl') into numerical using\n",
    "# Series.cat.codes\n",
    "\n",
    "surv_df.loc[ :, ['maths_interest','maths_interest_lvl'] ] = \\\n",
    "                surv_df.loc[ :, ['maths_interest','maths_interest_lvl'] ].apply( lambda e_col: e_col.cat.codes )\n",
    "\n",
    "surv_df.head(3)"
   ]
  },
  {
   "cell_type": "code",
   "execution_count": null,
   "id": "186",
   "metadata": {},
   "outputs": [],
   "source": [
    "# Create a bar plot of interest in math, colm - maths_interest, separated by gender\n",
    "\n",
    "sns.catplot( x= 'gender', y= 'maths_interest', height= 3.5,\n",
    "             kind= 'bar', data= surv_df )"
   ]
  },
  {
   "cell_type": "code",
   "execution_count": null,
   "id": "187",
   "metadata": {},
   "outputs": [],
   "source": [
    "# analyzing further for level of interest ( 0: no/low interest, 1: medm interest, 2: high interest)\n",
    "\n",
    "sns.countplot( x= 'maths_interest_lvl', hue= 'gender',\n",
    "               data= surv_df  )"
   ]
  },
  {
   "cell_type": "markdown",
   "id": "188",
   "metadata": {},
   "source": [
    "From above 2 plots we can observe that - boys who have high interest in maths are much greater than girls is not true. It is more like, the girls who don't like maths are much more in number than boys who dont like maths, but there are similar no of girls & boys who have good (and moderate) interest in maths.\n",
    "\n",
    "This insight would not have been possible if we haven't drawn the 2nd plot."
   ]
  },
  {
   "cell_type": "markdown",
   "id": "189",
   "metadata": {},
   "source": [
    "<div id= '2.3.2'></div>\n",
    "\n",
    "###  2.3.2 - Box plots <br>\n",
    "<i>[Go to top](#toc)</i>"
   ]
  },
  {
   "cell_type": "markdown",
   "id": "190",
   "metadata": {},
   "source": [
    "##### box plots on total bill for different days"
   ]
  },
  {
   "cell_type": "code",
   "execution_count": null,
   "id": "191",
   "metadata": {},
   "outputs": [],
   "source": [
    "res_df = sns.load_dataset( 'tips' )\n",
    "print( res_df.head(3), '\\n\\n', res_df.day.unique() )"
   ]
  },
  {
   "cell_type": "code",
   "execution_count": null,
   "id": "192",
   "metadata": {},
   "outputs": [],
   "source": [
    "sns.catplot( x= 'day', y= 'total_bill', data= res_df, kind= 'box', height= 3.5 )\n",
    "plt.show()"
   ]
  },
  {
   "cell_type": "markdown",
   "id": "193",
   "metadata": {},
   "source": [
    "##### comparing total-bills incurred to customers based on gender within each days"
   ]
  },
  {
   "cell_type": "code",
   "execution_count": null,
   "id": "194",
   "metadata": {},
   "outputs": [],
   "source": [
    "sns.catplot( x= 'day', y= 'total_bill',\n",
    "             hue= 'sex',\n",
    "             data= res_df, kind= 'box',\n",
    "             height= 3.5, aspect= 1.5 )\n",
    "plt.show()"
   ]
  },
  {
   "cell_type": "markdown",
   "id": "195",
   "metadata": {},
   "source": [
    "##### switch off the outliers"
   ]
  },
  {
   "cell_type": "code",
   "execution_count": null,
   "id": "196",
   "metadata": {},
   "outputs": [],
   "source": [
    "sns.catplot( x= 'day', y= 'total_bill',\n",
    "             hue= 'sex',\n",
    "             sym= '',                                 # <-- ignore ouliers\n",
    "             data= res_df, kind= 'box',\n",
    "             height= 3.5, aspect= 1.5\n",
    "           )\n",
    "plt.show()"
   ]
  },
  {
   "cell_type": "markdown",
   "id": "197",
   "metadata": {},
   "source": [
    "#### Adjusting the whiskers\n",
    "\n",
    "    Make them extend to 2 IQR: whis= 2.0\n",
    "    Show the 5th and 95th percentiles: whis= [5,95]\n",
    "    Show min and max values: whis= [0,100]"
   ]
  },
  {
   "cell_type": "code",
   "execution_count": null,
   "id": "198",
   "metadata": {},
   "outputs": [],
   "source": [
    "# adjust whiskers to extend to 0.5 IQR & 3 IQR ( from default 1.5 IQR )\n",
    "\n",
    "sns.catplot( x= 'day', y= 'total_bill',\n",
    "             whis= 0.5,            \n",
    "             data= res_df, kind= 'box', ax= ax1     \n",
    "           )\n",
    "\n",
    "sns.catplot( x= 'day', y= 'total_bill',\n",
    "             whis= 2.5,            \n",
    "             data= res_df, kind= 'box'           \n",
    "           ); plt.show()"
   ]
  },
  {
   "cell_type": "code",
   "execution_count": null,
   "id": "199",
   "metadata": {},
   "outputs": [],
   "source": [
    "# adjust the whiskers to extend to the 5th and 95th percentiles\n",
    "\n",
    "sns.catplot( x= 'day', y= 'total_bill',\n",
    "             whis= [5,95],                           # <-- 5th and 95th percentiles\n",
    "             data= res_df, kind= 'box' )\n",
    "\n",
    "# set the whiskers to extend to the min and max values\n",
    "sns.catplot( x= 'day', y= 'total_bill',\n",
    "             whis= [0,100],                          # <-- whiskers set to min &  max values\n",
    "             data= res_df, kind= 'box'\n",
    "           ); plt.show()"
   ]
  },
  {
   "cell_type": "markdown",
   "id": "200",
   "metadata": {},
   "source": [
    "<div id= '2.3.3'></div>\n",
    "\n",
    "###  2.3.3 - Point plots <br>\n",
    "<i>[Go to top](#toc)</i>"
   ]
  },
  {
   "cell_type": "markdown",
   "id": "201",
   "metadata": {},
   "source": [
    "##### plot point plot for tips for each days"
   ]
  },
  {
   "cell_type": "code",
   "execution_count": null,
   "id": "202",
   "metadata": {},
   "outputs": [],
   "source": [
    "sns.catplot( x= 'day', y= 'tip',             \n",
    "             data= res_df, kind= 'point',\n",
    "             height= 3.5\n",
    "           ); plt.show()"
   ]
  },
  {
   "cell_type": "code",
   "execution_count": null,
   "id": "203",
   "metadata": {},
   "outputs": [],
   "source": [
    "# customization on point plot\n",
    "\n",
    "sns.catplot( x= 'day', y= 'tip',             \n",
    "             capsize= 0.2,                      # <-- capsize\n",
    "             data= res_df, kind= 'point',\n",
    "             height= 3.5 )\n",
    "\n",
    "# Remove the lines joining the points in each category\n",
    "\n",
    "sns.catplot( x= 'day', y= 'tip',             \n",
    "             capsize= 0.2, join= False,\n",
    "             data= res_df, kind= 'point',\n",
    "             height= 3.5 ); plt.show()"
   ]
  },
  {
   "cell_type": "markdown",
   "id": "204",
   "metadata": {},
   "source": [
    "##### remove the CI, joining-line, v.line\n",
    "including another variable: gender"
   ]
  },
  {
   "cell_type": "code",
   "execution_count": null,
   "id": "205",
   "metadata": {},
   "outputs": [],
   "source": [
    "sns.catplot( x= 'day', y= 'tip', hue= 'sex',      \n",
    "             join= False, ci = None,           # <-- CI is made off\n",
    "             data= res_df, kind= 'point',\n",
    "             height= 3.5, aspect= 1.7 ); plt.show()"
   ]
  },
  {
   "cell_type": "markdown",
   "id": "206",
   "metadata": {},
   "source": [
    "##### display another stat summary (median & std) instead of the average in point plot"
   ]
  },
  {
   "cell_type": "code",
   "execution_count": null,
   "id": "207",
   "metadata": {},
   "outputs": [],
   "source": [
    "sns.catplot(    x= 'day', y= 'tip',\n",
    "                estimator= np.median,\n",
    "                join= False, ci= False,\n",
    "                data= res_df, kind= 'point', height= 3   )\n",
    "\n",
    "sns.catplot(    x= 'day', y= 'tip',\n",
    "                estimator= np.std,\n",
    "                join= False, ci= False,\n",
    "                data= res_df, kind= 'point', height= 3   )"
   ]
  },
  {
   "cell_type": "markdown",
   "id": "208",
   "metadata": {},
   "source": [
    "<br>\n",
    "<div id= '2.4'></div>\n",
    "\n",
    "## Chapter 2.4 - Customizing Seaborn Plots\n",
    "<i>[Go to top](#toc)</i>\n",
    "\n",
    "#### Core concepts:\n",
    "    - add informative plot titles and axis labels\n",
    "    - customize the style of your visualizations in order to more quickly orient the audience towards the key takeaways\n",
    "    \n",
    "<div id= '2.4.1'></div>\n",
    "\n",
    "###  2.4.1 Changing plot style & color"
   ]
  },
  {
   "cell_type": "markdown",
   "id": "209",
   "metadata": {},
   "source": [
    "#### Changing style and palette"
   ]
  },
  {
   "cell_type": "code",
   "execution_count": null,
   "id": "210",
   "metadata": {},
   "outputs": [],
   "source": [
    "# change style\n",
    "\n",
    "sns.set_theme( style= 'whitegrid' )\n",
    "\n",
    "sns.catplot( x= 'day', y= 'total_bill',\n",
    "             whis= [5,95],                      \n",
    "             data= res_df, kind= 'box' )"
   ]
  },
  {
   "cell_type": "code",
   "execution_count": null,
   "id": "211",
   "metadata": {},
   "outputs": [],
   "source": [
    "# change palette\n",
    "\n",
    "sns.set_palette( 'Purples' )\n",
    "\n",
    "sns.catplot( x= 'day', y= 'total_bill',\n",
    "             whis= [5,95],\n",
    "             data= res_df, kind= 'box' )"
   ]
  },
  {
   "cell_type": "code",
   "execution_count": null,
   "id": "212",
   "metadata": {},
   "outputs": [],
   "source": [
    "# change palette: divergingf color ( red : green: blue )\n",
    "\n",
    "sns.set_palette( 'RdBu' )\n",
    "\n",
    "sns.catplot( x= 'day', y= 'total_bill',\n",
    "             whis= [5,95],                           \n",
    "             data= res_df, kind= 'box' )"
   ]
  },
  {
   "cell_type": "code",
   "execution_count": null,
   "id": "213",
   "metadata": {},
   "outputs": [],
   "source": [
    "# change to custom palette\n",
    "\n",
    "custom_palt = [ 'red', 'green', 'orange', 'blue', 'pink' ]\n",
    "sns.set_palette( palette= custom_palt )\n",
    "\n",
    "sns.catplot( x= 'day', y= 'total_bill',                           \n",
    "             data= res_df, kind= 'box' )"
   ]
  },
  {
   "cell_type": "markdown",
   "id": "214",
   "metadata": {},
   "source": [
    "#### Changing the scale:\n",
    "    Seaborn's has four different plot scales ('context'): paper < notebook < talk < poster"
   ]
  },
  {
   "cell_type": "code",
   "execution_count": null,
   "id": "215",
   "metadata": {},
   "outputs": [],
   "source": [
    "sns.set_context( context= 'paper' )\n",
    "sns.catplot( x= 'day', y= 'total_bill',  data= res_df, kind= 'box', height= 3.5, aspect= 1.5  )\n",
    "\n",
    "sns.set_context( context= 'notebook' )\n",
    "sns.catplot( x= 'day', y= 'total_bill',                           \n",
    "             data= res_df, kind= 'box',\n",
    "             height= 3.5, aspect= 1.5  );                 plt.show()"
   ]
  },
  {
   "cell_type": "code",
   "execution_count": null,
   "id": "216",
   "metadata": {},
   "outputs": [],
   "source": [
    "sns.set_context( context= 'talk' )\n",
    "sns.catplot( x= 'day', y= 'total_bill',                           \n",
    "             data= res_df, kind= 'box',\n",
    "             height= 3.5, aspect= 1.5 )\n",
    "\n",
    "sns.set_context( context= 'poster' )\n",
    "sns.catplot( x= 'day', y= 'total_bill',                           \n",
    "             data= res_df, kind= 'box',\n",
    "             height= 3.5, aspect= 1.5 );                 plt.show()\n",
    "\n",
    "sns.set_context( context= 'notebook' )"
   ]
  },
  {
   "cell_type": "markdown",
   "id": "217",
   "metadata": {},
   "source": [
    "<div id= '2.4.2'></div>\n",
    "\n",
    "###  2.4.2  titles & labels: `FacetGrids` & `AxesSubplots` obj\n",
    "\n",
    "#### 2.4.2.1 Working with FacetGrids obj\n",
    "<i>[Go to top](#toc)</i>\n",
    "\n",
    "<h3><p style= 'text-align:center;'>Seaborn plots' obj</p></h3>\n",
    "<img src= 'images/sns_plot_title.png' style= 'width:565px;height:108px;'>\n",
    "\n",
    "<!-- # m, wd, ht = 2, 990, 576; ( wd/m, ht/m  ) -->"
   ]
  },
  {
   "cell_type": "code",
   "execution_count": null,
   "id": "218",
   "metadata": {},
   "outputs": [],
   "source": [
    "auto_df.head(3)"
   ]
  },
  {
   "cell_type": "code",
   "execution_count": null,
   "id": "219",
   "metadata": {},
   "outputs": [],
   "source": [
    "# facetgrid obj\n",
    "plt.style.use('dark_background'); sns.set_context( context= 'notebook' )\n",
    "\n",
    "fcg1 = sns.relplot( x= 'weight', y= 'mpg',\n",
    "                   data= auto_df, kind= 'scatter' )\n",
    "\n",
    "fcg1.fig.suptitle( 'Mileage vs Vechicle engine weight', y= 1 + 0.1 ) # <-- title  with a buffer distance of 0.1\n",
    "\n",
    "print( f' fg1 = {fcg1} and \\n its type = {type(fcg1)}'  )"
   ]
  },
  {
   "cell_type": "markdown",
   "id": "220",
   "metadata": {},
   "source": [
    "#### 2.4.2.2 Working with AxesSubplots obj\n",
    "<i>[Go to top](#toc)</i>\n",
    "\n",
    "Create a line plot to answer the question: How does the average mileage achieved by cars change over time for each of the three places of origin? To improve the readability of this plot, we'll add a title and more informative axis labels."
   ]
  },
  {
   "cell_type": "code",
   "execution_count": null,
   "id": "221",
   "metadata": {},
   "outputs": [],
   "source": [
    "axs = sns.lineplot( x= 'model_year', y= 'mpg', hue= 'origin',\n",
    "                    ci= False, data= auto_df )\n",
    "\n",
    "axs.set_title( 'Average milage over time', y= 1.05 )\n",
    "axs.set( xlabel= \"Car Model Year (19')\", ylabel= \"Milage (mpg)\" )\n",
    "\n",
    "plt.show()"
   ]
  },
  {
   "cell_type": "markdown",
   "id": "222",
   "metadata": {},
   "source": [
    "#### Rotating x-tick labels\n",
    "\n",
    "The func to rotate x-tick labels is a standalone matplotlib func and not a func applied to the plot obj itself."
   ]
  },
  {
   "cell_type": "code",
   "execution_count": null,
   "id": "223",
   "metadata": {},
   "outputs": [],
   "source": [
    "sns.catplot( x= 'origin', y= 'acceleration',\n",
    "             kind= 'point', join= False, capsize= 0.1,\n",
    "             data= auto_df, height= 3.5 )\n",
    "plt.xticks( rotation= 45 )"
   ]
  },
  {
   "cell_type": "markdown",
   "id": "224",
   "metadata": {},
   "source": [
    "<div id= '2.4.3'></div>\n",
    "\n",
    "###  2.4.3 Putting it all together\n",
    "<i>[Go to top](#toc)</i>"
   ]
  },
  {
   "cell_type": "markdown",
   "id": "225",
   "metadata": {},
   "source": [
    "#### Box plot with subgroups\n",
    "\n",
    "Let's look at the dataset containing responses from a survey given to young people. One of the questions asked of the young people was: \"Are you interested in having pets?\"\n",
    "\n",
    "Let's explore whether the distribution of ages of those answering \"yes\" tends to be higher or lower than those answering \"no\", controlling for gender."
   ]
  },
  {
   "cell_type": "code",
   "execution_count": null,
   "id": "226",
   "metadata": {},
   "outputs": [],
   "source": [
    "print( surv_df.pets.unique() )\n",
    "msno.matrix( df= surv_df, figsize= (13,3) )\n",
    "\n",
    "# filling the missing value (nan) with 3 for pets colm\n",
    "surv_df['pets'].fillna( value= 3, inplace= True )\n",
    "\n",
    "print( surv_df.pets.unique() )\n",
    "msno.matrix( df= surv_df, figsize= (13,3) ); plt.show()"
   ]
  },
  {
   "cell_type": "code",
   "execution_count": null,
   "id": "227",
   "metadata": {},
   "outputs": [],
   "source": [
    "# creating categories colms pets_interested: 'Yes', 'No' based on pets col\n",
    "\n",
    "pets_like_categ = [ 0, 3, np.inf ]\n",
    "pets_like_lbl = [ 'No', 'Yes' ]\n",
    "\n",
    "surv_df['pets_interested'] = pd.cut( x= surv_df.pets, bins= pets_like_categ, labels= pets_like_lbl )\n",
    "\n",
    "surv_df.head(3)"
   ]
  },
  {
   "cell_type": "code",
   "execution_count": null,
   "id": "228",
   "metadata": {},
   "outputs": [],
   "source": [
    "sns.set_palette( palette= 'Blues' )         # <-- setting palette\n",
    "\n",
    "fcg1 = sns.catplot( x= 'gender', y= 'age', hue= 'pets_interested',                    \n",
    "                    data= surv_df, kind= 'box' )\n",
    "\n",
    "fcg1.fig.suptitle( \"Box plot for Students' age based on Interest-in-pets for each Gender\", y= 1.05 ) # <- title\n",
    "\n",
    "fcg1.set( xlabel= 'Gender', ylabel= 'Age' )"
   ]
  },
  {
   "cell_type": "markdown",
   "id": "229",
   "metadata": {},
   "source": [
    "#### Bar plot with subgroups and subplots\n",
    "\n",
    "We'll use young people survey dataset and investigate whether the proportion of people who like techno music varies by their gender or where they live (Village/town)."
   ]
  },
  {
   "cell_type": "code",
   "execution_count": null,
   "id": "230",
   "metadata": {},
   "outputs": [],
   "source": [
    "print( f'Prior to fill nan = {surv_df.techno.unique()}' )\n",
    "msno.matrix( df= surv_df, figsize= (13,3) )\n",
    "\n",
    "# filling the missing value (nan) with 3 for pets colm\n",
    "surv_df['techno'].fillna( value= 3, inplace= True )\n",
    "\n",
    "msno.matrix( df= surv_df, figsize= (13,3) ); plt.show()\n",
    "print( f'Post to fill nan = {surv_df.techno.unique()}' )"
   ]
  },
  {
   "cell_type": "code",
   "execution_count": null,
   "id": "231",
   "metadata": {},
   "outputs": [],
   "source": [
    "# creating categories colm techno_likes: 'Yes', 'No' based on techno col\n",
    "surv_df['techno_likes'] = pd.cut( x= surv_df.techno, bins= [0,3,np.inf], labels= ['No','Yes'] )\n",
    "\n",
    "## surv_df.techno_likes is not number or bool which caused an issue while plotting catplot: the error msg:\n",
    "# Neither the `x` nor `y` variable appears to be numeric.\n",
    "# So we need to change the categorical col ('techno_likes') into numerical as:\n",
    "\n",
    "surv_df.loc[:,['techno_likes']] = surv_df.loc[:,['techno_likes']].apply( lambda e_c: e_c.cat.codes )\n",
    "surv_df.head(3)"
   ]
  },
  {
   "cell_type": "code",
   "execution_count": null,
   "id": "232",
   "metadata": {},
   "outputs": [],
   "source": [
    "fcg1 = sns.catplot(  x= 'village_town', y= 'techno_likes', col= 'gender',\n",
    "                    data= surv_df, kind= 'box'  )\n",
    "\n",
    "# Add title and axis labels\n",
    "fcg1.fig.suptitle( 'Percentage of Young People Who Like Techno - sub categories into Gender &  Location', y= 1.05 )\n",
    "\n",
    "fcg1.set_titles( 'Gender: xx' ) # <--  'Gender: Female' &  'Gender: Male' resp kasari garne, garna ayena! :(\n",
    "\n",
    "\n",
    "fcg1.set( xlabel= 'Location of Residence', ylabel= '% who like techno' )"
   ]
  },
  {
   "cell_type": "markdown",
   "id": "233",
   "metadata": {},
   "source": [
    "<br> <hr><hr> <br> <br>\n",
    "\n",
    "<div id= 'course3'>\n",
    "    <h1> Course 3 - Intermediate Data Visualization with Seaborn</h1> \n",
    "    <h5> <a href= '#toc'> Go to top </a> </h5> \n",
    "</div>\n",
    "\n",
    "#### Key Concepts\n",
    "\n",
    "    - use seaborn's sophisticated visualization tools to analyze multiple real world datasets\n",
    "    - use seaborn functions to visualize the data in several different formats and customize seaborn plots based on your unique requirements\n",
    "<br>\n",
    "<div id= '3.1'></div>\n",
    "\n",
    "## Chapter 3.1 - `Seaborn` & Python\n",
    "<i>[Go to top](#toc)</i>\n",
    "\n",
    "Learn how Seaborn fits into the Python visualization landscape\n",
    "\n",
    "<div id= '3.1.1'></div>\n",
    "\n",
    "###  3.1.1 - Seaborn `distplot`"
   ]
  },
  {
   "cell_type": "code",
   "execution_count": null,
   "id": "234",
   "metadata": {},
   "outputs": [],
   "source": [
    "sch_df = pd.read_csv( 'datasets/schoolimprovement2010grants.csv', index_col= 0 )\n",
    "sch_df.columns = clean_colNm( sch_df.columns )\n",
    "sch_df.head(3)"
   ]
  },
  {
   "cell_type": "code",
   "execution_count": null,
   "id": "235",
   "metadata": {},
   "outputs": [],
   "source": [
    "plt.style.use('dark_background')\n",
    "\n",
    "# matplot lib histogram\n",
    "sch_df['award_amount'].plot.hist() ; plt.show()\n",
    "\n",
    "# sns displot\n",
    "sns.distplot( x= sch_df.award_amount ); plt.show()"
   ]
  },
  {
   "cell_type": "markdown",
   "id": "236",
   "metadata": {},
   "source": [
    "#### Rug plot and kde shading"
   ]
  },
  {
   "cell_type": "code",
   "execution_count": null,
   "id": "237",
   "metadata": {},
   "outputs": [],
   "source": [
    "sns.displot( x= 'award_amount', data= sch_df,\n",
    "             kind= 'kde',\n",
    "             rug= True, rug_kws = { 'height': 0.2 },\n",
    "             height = 3.4, aspect= 3 )\n"
   ]
  },
  {
   "cell_type": "markdown",
   "id": "238",
   "metadata": {},
   "source": [
    "<div id= '3.1.2'></div>\n",
    "\n",
    "###  3.1.2 - Regression plots: multiple variables, facetting multiple regression\n",
    "<i>[Go to top](#toc)</i>"
   ]
  },
  {
   "cell_type": "code",
   "execution_count": null,
   "id": "239",
   "metadata": {},
   "outputs": [],
   "source": [
    "acci_df = pd.read_csv( 'datasets/car_crashes_insurance_premiums.csv' )\n",
    "acci_df.columns = clean_colNm( colNm_ls= acci_df.columns )\n",
    "acci_df.head(3)\n",
    "\n",
    "plt.style.use('dark_background')"
   ]
  },
  {
   "cell_type": "code",
   "execution_count": null,
   "id": "240",
   "metadata": {},
   "outputs": [],
   "source": [
    "# regression plot with 'insurance_losses' & 'premiums' using regplot():\n",
    "sns.regplot( x= 'insurance_losses', y= 'premiums', data= acci_df )"
   ]
  },
  {
   "cell_type": "code",
   "execution_count": null,
   "id": "241",
   "metadata": {},
   "outputs": [],
   "source": [
    "# regression plot with 'insurance_losses' & 'premiums' using lmplot():\n",
    "sns.lmplot( x= 'insurance_losses', y= 'premiums', data= acci_df, height= 4, aspect= 1.5 )"
   ]
  },
  {
   "cell_type": "markdown",
   "id": "242",
   "metadata": {},
   "source": [
    "#### Plotting multiple variables\n",
    "\n",
    "In `lmplot()` we can look at the more complex interactions of data. This data set includes geographic information by state and area. It might be interesting to see if there is a difference in relationships based on the Region of the country."
   ]
  },
  {
   "cell_type": "code",
   "execution_count": null,
   "id": "243",
   "metadata": {},
   "outputs": [],
   "source": [
    "sns.lmplot( x= 'insurance_losses', y= 'premiums',\n",
    "            hue= 'region',\n",
    "            data= acci_df, height= 4, aspect= 1.7 )"
   ]
  },
  {
   "cell_type": "markdown",
   "id": "244",
   "metadata": {},
   "source": [
    "#### Facetting multiple regressions\n",
    "\n",
    "The above results are bit difficult to read. Using multiple lines may not be the best approach.\n",
    "\n",
    "`lmplot( )` allows us to facet the data across multiple rows and cols. In the above plot, the multiple lines were difficult to read in one plot. We can try creating multiple plots by Region to see if that is a more useful visualization."
   ]
  },
  {
   "cell_type": "code",
   "execution_count": null,
   "id": "245",
   "metadata": {},
   "outputs": [],
   "source": [
    "sns.lmplot( x= 'insurance_losses', y= 'premiums', col= 'region', data= acci_df )"
   ]
  },
  {
   "cell_type": "markdown",
   "id": "246",
   "metadata": {},
   "source": [
    "<div id= '3.2'></div>\n",
    "\n",
    "## Chapter 3.2 - Customizing Seaborn Plots\n",
    "<i>[Go to top](#toc)</i>\n",
    "\n",
    "Overview of funcs for customizing the display of Seaborn plots\n",
    "\n",
    "<div id= '3.2.1'></div>\n",
    "\n",
    "###  3.2.1 - Using Seaborn Styles\n",
    "```\n",
    "sns.set_theme(\n",
    "                context= 'notebook', style= 'darkgrid', palette= 'deep',\n",
    "                font= 'sans-serif', font_scale= 1,\n",
    "                color_codes= True,\n",
    "                rc= None,\n",
    "             )\n",
    "             \n",
    "         - context = { 'notebook', 'paper', 'talk', 'poster' }\n",
    "         - style = { 'white', 'dark', 'whitegrid', 'darkgrid' }\n",
    "         - palette = { deep, muted, bright, pastel, dark, colorblind, husl/hls, }\n",
    "              \n",
    "```"
   ]
  },
  {
   "cell_type": "code",
   "execution_count": null,
   "id": "247",
   "metadata": {},
   "outputs": [],
   "source": [
    "import warnings; warnings.filterwarnings('ignore')\n",
    "\n",
    "fig1, ax1 = plt.subplots(1,4)\n",
    "\n",
    "for e_indx, e_style in enumerate( ['white','dark','whitegrid','darkgrid'] ):\n",
    "    sns.set_style( style= e_style )    \n",
    "    sns.distplot( sch_df.award_amount, ax= ax1[e_indx] )    \n",
    "    plt.show()"
   ]
  },
  {
   "cell_type": "markdown",
   "id": "248",
   "metadata": {},
   "source": [
    "#### Setting the default style: `sns.set_theme( )`\n",
    "\n",
    "We will be using at fair market rent values calculated by the US Housing and Urban Development Department. This data is used to calculate guidelines for several federal programs."
   ]
  },
  {
   "cell_type": "code",
   "execution_count": null,
   "id": "249",
   "metadata": {},
   "outputs": [],
   "source": [
    "rent_df = pd.read_csv( 'datasets/FY18_4050_FMRs.csv' )\n",
    "rent_df.head(2)"
   ]
  },
  {
   "cell_type": "code",
   "execution_count": null,
   "id": "250",
   "metadata": {},
   "outputs": [],
   "source": [
    "# Plot the pd histogram\n",
    "sns.set_theme( rc= sns_theme_rc_dictn )   # <-- modified to user-defined theme\n",
    "\n",
    "rent_df['fmr_2'].plot.hist( alpha= 0.9 )\n",
    "plt.show()\n",
    "\n",
    "sns.set_theme( )                          # <-- resets to default sns theme\n",
    "\n",
    "# Plot the pd histogram again\n",
    "rent_df['fmr_2'].plot.hist()\n",
    "plt.show()\n",
    "\n",
    "sns.set_theme( style= 'whitegrid' )       # <-- resets to one of the sns theme\n",
    "\n",
    "# Plot the pd histogram again\n",
    "rent_df['fmr_2'].plot.hist()\n",
    "plt.show()"
   ]
  },
  {
   "cell_type": "markdown",
   "id": "251",
   "metadata": {},
   "source": [
    "#### Removing `spines`\n",
    "\n",
    "In general, visualizations should minimize extraneous markings so that the data speaks for itself. Seaborn allows  to remove the lines on the top, bottom, left and right axis, which are often called `spines` ."
   ]
  },
  {
   "cell_type": "code",
   "execution_count": null,
   "id": "252",
   "metadata": {},
   "outputs": [],
   "source": [
    "sns.set_theme( style= 'white' )\n",
    "\n",
    "sns.lmplot( x= 'weight', y= 'mpg', data= auto_df )\n",
    "\n",
    "sns.despine( left= True )                 # <-- Removing spine left spine"
   ]
  },
  {
   "cell_type": "markdown",
   "id": "253",
   "metadata": {},
   "source": [
    "<div id= '3.2.3'></div>\n",
    "\n",
    "###  3.2.3 - Colors in Seaborn\n",
    "<i>[Go to top](#toc)</i>\n",
    "\n",
    "[Choosing Seaborn color palettes Guide - link](https://seaborn.pydata.org/tutorial/color_palettes.html)"
   ]
  },
  {
   "cell_type": "code",
   "execution_count": null,
   "id": "254",
   "metadata": {},
   "outputs": [],
   "source": [
    "for e_palt in sns.palettes.SEABORN_PALETTES:\n",
    "    sns.set_theme( palette= e_palt )\n",
    "    print( e_palt )\n",
    "    sns.palplot( pal= sns.color_palette(), size= 0.45 )\n",
    "    plt.show()"
   ]
  },
  {
   "cell_type": "markdown",
   "id": "255",
   "metadata": {},
   "source": [
    "#### Using `matplotlib` color codes in `seaborn`\n",
    "\n",
    "Seaborn offers several options for modifying the colors of your visualizations. The simplest approach is to explicitly state the color of the plot. A quick way to change colors is to use the standard matplotlib color codes bny enabling the matplotlib color codes."
   ]
  },
  {
   "cell_type": "code",
   "execution_count": null,
   "id": "256",
   "metadata": {},
   "outputs": [],
   "source": [
    "sns.set_theme( color_codes= True )   # <-- enabling the matplotlib color codes\n",
    "\n",
    "sns.distplot( rent_df.fmr_2, color= 'm' )\n",
    "plt.show()"
   ]
  },
  {
   "cell_type": "markdown",
   "id": "257",
   "metadata": {},
   "source": [
    "#### Creating custom seaborn Color Palettes\n",
    "\n",
    "Choosing a cohesive palette that works for the data can be time consuming. Fortunately, Seaborn provides the `color_palette( )` func to create custom - `sequential`, `categorical`, or `diverging` palettes. One can view the custom designed palettes by using the `palplot( )` func."
   ]
  },
  {
   "cell_type": "code",
   "execution_count": null,
   "id": "258",
   "metadata": {},
   "outputs": [],
   "source": [
    "# Blend palette containing multiple colors: (could be used for Divergeing or Circular as per requirement)\n",
    "sns.palplot(  pal= sns.color_palette( palette= 'blend:orange,blue,green,red', n_colors= 40 ), size= 0.7  )\n",
    "\n",
    "# Circular\n",
    "print( 'Circular' )\n",
    "sns.palplot(  sns.color_palette( palette= 'Paired', n_colors= 40 ),  size= 0.7  )\n",
    "plt.show()\n",
    "\n",
    "# Sequential\n",
    "print( 'Sequential' )\n",
    "sns.palplot(  sns.color_palette( palette= 'dark:purple', n_colors= 8 ),  size= 0.7  )\n",
    "sns.palplot(  sns.color_palette( palette= 'light:purple', n_colors= 8 ),  size= 0.7  )\n",
    "sns.palplot(  sns.color_palette( palette= 'Greens', n_colors= 10 ),  size= 0.7  )\n",
    "plt.show()\n",
    "# Diverging\n",
    "print( 'Diverging' )\n",
    "sns.palplot(  sns.color_palette( palette= 'BrBG', n_colors= 20 ),  size= 0.7  )\n",
    "sns.palplot(  sns.color_palette( palette= 'coolwarm', n_colors= 20 ), size= 0.7  )\n",
    "plt.show()\n"
   ]
  },
  {
   "cell_type": "markdown",
   "id": "259",
   "metadata": {},
   "source": [
    "`husl` color palette"
   ]
  },
  {
   "cell_type": "code",
   "execution_count": null,
   "id": "260",
   "metadata": {},
   "outputs": [],
   "source": [
    "sns.palplot( sns.color_palette( palette= 'husl', n_colors= 10 ),  size= 0.33 )\n",
    "\n",
    "sns.palplot( sns.color_palette( palette= 'husl', n_colors= 40 ),  size= 0.33 )\n",
    "\n",
    "sns.palplot( sns.color_palette( palette= 'husl', n_colors= 60 ),  size= 0.33 )"
   ]
  },
  {
   "cell_type": "markdown",
   "id": "261",
   "metadata": {},
   "source": [
    "[Choosing Seaborn color palettes Guide - link](https://seaborn.pydata.org/tutorial/color_palettes.html)"
   ]
  },
  {
   "cell_type": "markdown",
   "id": "262",
   "metadata": {},
   "source": [
    "<div id= '3.2.4'></div>\n",
    "\n",
    "###  3.2.4 - Customizing with matplotlib\n",
    "<i>[Go to top](#toc)</i>"
   ]
  },
  {
   "cell_type": "markdown",
   "id": "263",
   "metadata": {},
   "source": [
    "#### plot axes, title customizations using `matplotlib`\n",
    "\n",
    "The matplotlib API supports many common customizations such as labeling axes, adding titles, and setting limits."
   ]
  },
  {
   "cell_type": "code",
   "execution_count": null,
   "id": "264",
   "metadata": {},
   "outputs": [],
   "source": [
    "import warnings; warnings.filterwarnings('ignore'); sns.set_theme( rc= sns_theme_rc_dictn )\n",
    "\n",
    "fig1, ax1 = plt.subplots( 1,2 )\n",
    "sns.distplot( auto_df.mpg, ax= ax1[0] )\n",
    "sns.distplot( auto_df.mpg, ax= ax1[1] )\n",
    "\n",
    "# modify plot propr\n",
    "ax1[1].set( xlabel= 'Milage (mpg)', xlim= (10,40),\n",
    "            title= 'Histogram: modified plot' )"
   ]
  },
  {
   "cell_type": "markdown",
   "id": "265",
   "metadata": {},
   "source": [
    "#### Adding annotations\n",
    "\n",
    "Annotate the distribution plot to include lines that show the mean and median milage"
   ]
  },
  {
   "cell_type": "code",
   "execution_count": null,
   "id": "266",
   "metadata": {},
   "outputs": [],
   "source": [
    "fig1, ax1 = plt.subplots( 1,2, sharey= True )\n",
    "sns.distplot( auto_df.mpg, ax= ax1[0] )\n",
    "sns.distplot( auto_df.mpg, ax= ax1[1] )\n",
    "\n",
    "# modify plot propr\n",
    "ax1[1].set( xlabel= 'Milage (mpg)', xlim= (10,40),\n",
    "            title= 'Histogram: modified plot' )\n",
    "\n",
    "# add verticle lines for median & mean\n",
    "ax1[1].axvline( x= auto_df.mpg.median(), color= 'm', label= 'Median', linestyle= '--', linewidth= 2 )\n",
    "ax1[1].axvline( x= 29, color= 'b', label= 'Mean', linestyle= '-', linewidth= 2 )\n",
    "\n",
    "ax1[1].legend()\n",
    "\n",
    "plt.show()"
   ]
  },
  {
   "cell_type": "markdown",
   "id": "267",
   "metadata": {},
   "source": [
    "##### for hard code ax objs"
   ]
  },
  {
   "cell_type": "code",
   "execution_count": null,
   "id": "268",
   "metadata": {},
   "outputs": [],
   "source": [
    "fig1, (ax1_0,ax1_1) = plt.subplots( 1,2, sharey= True )\n",
    "\n",
    "sns.distplot( auto_df.mpg, ax= ax1_0 )\n",
    "sns.distplot( auto_df.mpg, ax= ax1_1 )\n",
    "\n",
    "# modify plot propr\n",
    "ax1_1.set( xlabel= 'Milage (mpg)', xlim= (10,40),\n",
    "           title= 'Histogram: modified plot' )\n",
    "\n",
    "plt.show()"
   ]
  },
  {
   "cell_type": "markdown",
   "id": "269",
   "metadata": {},
   "source": [
    "<hr>\n",
    "<div id= '3.3'></div>\n",
    "\n",
    "## Chapter 3.3 - Additional Plot Types: `Categorical`, `Regression`, `Matrix` plots\n",
    "<i>[Go to top](#toc)</i>\n",
    "\n",
    "Overview of more advanced plot types in Seaborn.\n",
    "\n",
    "<div id= '3.3.1'></div>\n",
    "\n",
    "###  3.3.1 - Categorical plot types: each observation pt plot, abstract representation plot, statistical estimates plot"
   ]
  },
  {
   "cell_type": "markdown",
   "id": "270",
   "metadata": {},
   "source": [
    "#### 3.3.1 (A) Categorical plot showing each observations\n",
    "\n",
    "Categorical plots that show each observation can be very powerful tools for gaining insight into the data.\n",
    "\n",
    "`stripplot`"
   ]
  },
  {
   "cell_type": "code",
   "execution_count": null,
   "id": "271",
   "metadata": {},
   "outputs": [],
   "source": [
    "plt.style.use( 'classic' ); import warnings; warnings.filterwarnings('ignore');\n",
    "\n",
    "sns.set_context( context= 'notebook' )"
   ]
  },
  {
   "cell_type": "code",
   "execution_count": null,
   "id": "272",
   "metadata": {},
   "outputs": [],
   "source": [
    "fig, ax = plt.subplots(1,4, figsize= (20,5) )\n",
    "\n",
    "sns.stripplot( ax= ax[0], x= 'origin', y= 'mpg', data= auto_df )\n",
    "ax[0].set( title= 'Vertical stripplot' )\n",
    "\n",
    "sns.stripplot( ax= ax[1], x= 'mpg', y= 'origin', data= auto_df )\n",
    "ax[1].set( title= 'Horizontal stripplot' )\n",
    "\n",
    "sns.stripplot( ax= ax[2], x= 'mpg', y= 'origin', jitter= True, data= auto_df )\n",
    "ax[2].set( title= 'Horizontal stripplot: with jitter' )\n",
    "\n",
    "sns.stripplot( ax= ax[3], x= 'mpg', y= 'origin', hue= 'cylinders' , jitter= True, data= auto_df )\n",
    "ax[3].set( title= 'Horizontal stripplot: with subclass' )\n",
    "\n",
    "[ ax[i].set( ylabel= ' ' ) for i in range(1,4) ];"
   ]
  },
  {
   "cell_type": "markdown",
   "id": "273",
   "metadata": {},
   "source": [
    "#### `swarmplot`"
   ]
  },
  {
   "cell_type": "code",
   "execution_count": null,
   "id": "274",
   "metadata": {},
   "outputs": [],
   "source": [
    "fig, ax = plt.subplots( 1, 3, figsize= (20,5) )\n",
    "\n",
    "sns.swarmplot( ax= ax[0], x= 'mpg', y= 'origin', data= auto_df )\n",
    "\n",
    "sns.swarmplot( ax= ax[1], x= 'mpg', y= 'origin', hue= 'cyl_class', data= auto_df,  )\n",
    "ax[1].legend(  loc= 'best', fontsize= 7 )\n",
    "ax[1].set( title= '# cylinders as hue' )\n",
    "\n",
    "sns.swarmplot( ax= ax[2], x= 'mpg', y= 'origin', hue= 'cyl_class', dodge= True, data= auto_df,  )\n",
    "ax[2].legend(  loc= 'best', fontsize= 7 )\n",
    "ax[2].set( title= 'hue with dodge' )\n",
    "\n",
    "plt.show()"
   ]
  },
  {
   "cell_type": "markdown",
   "id": "275",
   "metadata": {},
   "source": [
    "#### 3.3.1 (b) Categorical plot showing abstract representation\n",
    "\n",
    "These plots gives idea about the distribution of the data\n",
    "\n",
    "`boxplots`, `violinplots` and `lvplots`"
   ]
  },
  {
   "cell_type": "code",
   "execution_count": null,
   "id": "276",
   "metadata": {},
   "outputs": [],
   "source": [
    "# boxplot\n",
    "sns.catplot( y= 'mpg', x= 'wt_class', data= auto_df, kind= 'box', hue= 'cyl_class' )"
   ]
  },
  {
   "cell_type": "code",
   "execution_count": null,
   "id": "277",
   "metadata": {},
   "outputs": [],
   "source": [
    "fig, ax = plt.subplots( 1,3 , figsize= (20,5) )\n",
    "\n",
    "sns.boxplot( ax= ax[0], x= 'mpg', y= 'cyl_class', data= auto_df )\n",
    "sns.violinplot( ax= ax[1], x= 'mpg', y= 'cyl_class', data= auto_df )\n",
    "sns.boxenplot( ax= ax[2], x= 'mpg', y= 'cyl_class', data= auto_df )"
   ]
  },
  {
   "cell_type": "markdown",
   "id": "278",
   "metadata": {},
   "source": [
    "#### two plots on top-of-each-other"
   ]
  },
  {
   "cell_type": "code",
   "execution_count": null,
   "id": "279",
   "metadata": {},
   "outputs": [],
   "source": [
    "fig, ax = plt.subplots( 1,2 , figsize= (15,5) )\n",
    "\n",
    "sns.boxplot(   ax= ax[0], x= 'mpg', y= 'cyl_class', data= auto_df )\n",
    "sns.stripplot( ax= ax[0], x= 'mpg', y= 'cyl_class', data= auto_df,  palette= sns.color_palette('dark')  )\n",
    "\n",
    "sns.violinplot( ax= ax[1], y= 'mpg', x= 'cyl_class', data= auto_df, inner= None )\n",
    "sns.stripplot(  ax= ax[1], y= 'mpg', x= 'cyl_class', data= auto_df,  palette= sns.color_palette('dark'), \n",
    "                jitter= True, size= 6  )\n",
    "\n",
    "plt.show()"
   ]
  },
  {
   "cell_type": "markdown",
   "id": "280",
   "metadata": {},
   "source": [
    "#### 3.3.1 (C) Categorical plot showing Statistical estimates\n",
    "\n",
    "These plots gives idea about the distribution of the data\n",
    "\n",
    "`countplot` `barplot` `pointplot`"
   ]
  },
  {
   "cell_type": "code",
   "execution_count": null,
   "id": "281",
   "metadata": {},
   "outputs": [],
   "source": [
    "fig, ax = plt.subplots( 1,3, figsize= (20,4) )\n",
    "\n",
    "sns.countplot( ax= ax[0], x= 'cyl_class', hue= 'origin',\n",
    "               data= auto_df, )\n",
    "\n",
    "sns.pointplot( ax= ax[1], x= 'cyl_class', y= 'mpg', capsize= 0.1,\n",
    "               data= auto_df )\n",
    "\n",
    "sns.barplot( ax= ax[2], x= 'cyl_class', y= 'mpg', capsize= 0.1, hue= 'origin',\n",
    "               data= auto_df )\n",
    "ax[2].legend( loc= 'best', fontsize= 12 )\n",
    "\n",
    "plt.show()"
   ]
  },
  {
   "cell_type": "markdown",
   "id": "282",
   "metadata": {},
   "source": [
    "<div id= '3.3.2'></div>\n",
    "\n",
    "###  3.3.2 - Regression Plots\n",
    "<i>[Go to top](#toc)</i>"
   ]
  },
  {
   "cell_type": "markdown",
   "id": "283",
   "metadata": {},
   "source": [
    "Let's look at some details from the US Department of Education on 4 year college tuition information and see if there are any interesting insights into which variables might help predict tuition costs."
   ]
  },
  {
   "cell_type": "code",
   "execution_count": null,
   "id": "284",
   "metadata": {},
   "outputs": [],
   "source": [
    "univ_df = pd.read_csv( 'datasets/college_datav3.csv' )\n",
    "univ_df.columns = clean_colNm( univ_df.columns )\n",
    "univ_df.head(2)\n",
    "\n",
    "plt.style.use( 'bmh' )\n",
    "sns.set_theme( rc= sns_theme_rc_dictn )"
   ]
  },
  {
   "cell_type": "code",
   "execution_count": null,
   "id": "285",
   "metadata": {},
   "outputs": [],
   "source": [
    "fig, ax= plt.subplots( 1,2, figsize= (15,4) )\n",
    "\n",
    "sns.regplot( ax= ax[0], x= 'weight', y= 'mpg', data= auto_df,\n",
    "             marker= 'x', color= 'tomato' )\n",
    "ax[0].set( title= 'regression plot' )\n",
    "\n",
    "sns.residplot( ax= ax[1], x= 'weight', y= 'mpg', data= auto_df,\n",
    "               color= 'sandybrown')\n",
    "ax[1].set( title= 'residual plot' )\n",
    "\n",
    "plt.show()"
   ]
  },
  {
   "cell_type": "code",
   "execution_count": null,
   "id": "286",
   "metadata": {},
   "outputs": [],
   "source": [
    "fig, ax= plt.subplots( 1,2, figsize= (15,3.5) )\n",
    "\n",
    "sns.regplot( ax= ax[0], x= 'tuition', y= 'sat_avg_all', data= univ_df,\n",
    "             marker= 'x', color= 'tomato' )\n",
    "ax[0].set( title= 'regression plot' )\n",
    "\n",
    "sns.residplot( ax= ax[1], x= 'tuition', y= 'sat_avg_all', data= univ_df,\n",
    "               color= 'sandybrown')\n",
    "ax[1].set( title= 'residual plot' )\n",
    "\n",
    "plt.show()"
   ]
  },
  {
   "cell_type": "markdown",
   "id": "287",
   "metadata": {},
   "source": [
    "#### Regression plot parameters\n",
    "\n",
    "Seaborn's regression plot supports several parameters that can be used to configure the plots and drive more insight into the data.\n",
    "\n",
    "Let's look at the relationship between milage & vechicle's weight.\n",
    "Since this data is continuous, using `x_bins` can be useful to break the percentages into categories in order to summarize and understand the data."
   ]
  },
  {
   "cell_type": "code",
   "execution_count": null,
   "id": "288",
   "metadata": {},
   "outputs": [],
   "source": [
    "fig, ax= plt.subplots( 1,2, figsize= (15,3.5) )\n",
    "\n",
    "sns.regplot( ax= ax[0], x= 'weight', y= 'mpg', data= auto_df,\n",
    "             marker= 'x', color= 'tomato' )\n",
    "ax[0].set( title= 'regression plot' )\n",
    "\n",
    "\n",
    "# binning\n",
    "sns.regplot( ax= ax[1], x= 'weight', y= 'mpg', data= auto_df,\n",
    "             x_bins= 7, \n",
    "             marker= '.', color= 'white' )\n",
    "ax[1].set( title= 'regression plot: with binning (mean values)' )\n"
   ]
  },
  {
   "cell_type": "markdown",
   "id": "289",
   "metadata": {},
   "source": [
    "#### polynomial regression plot"
   ]
  },
  {
   "cell_type": "code",
   "execution_count": null,
   "id": "290",
   "metadata": {},
   "outputs": [],
   "source": [
    "fig, ax= plt.subplots( 1,3, figsize= (15,3.5) )\n",
    "\n",
    "# 2nd order polynomial regression plot\n",
    "sns.regplot( ax= ax[0], x= 'weight', y= 'mpg', data= auto_df,\n",
    "             order= 2, color= 'tomato',\n",
    "             marker= 'x' )\n",
    "ax[0].set( title= 'regression plot: order 2' )\n",
    "\n",
    "# 2nd order polynomial reg plot with bins\n",
    "sns.regplot( ax= ax[1], x= 'weight', y= 'mpg', data= auto_df,\n",
    "             order= 2, color= 'tomato',\n",
    "             x_bins= 5, \n",
    "             marker= 'x' )\n",
    "ax[1].set( title= 'regression plot: order 2 , binning' )\n",
    "\n",
    "# 2nd order polynomial residual plot \n",
    "sns.residplot( ax= ax[2], x= 'weight', y= 'mpg', data= auto_df, \n",
    "               order= 2, color= 'tomato' )\n",
    "ax[2].set( title= 'residual plot: order 2' )\n",
    "\n",
    "plt.show()"
   ]
  },
  {
   "cell_type": "markdown",
   "id": "291",
   "metadata": {},
   "source": [
    "##### regression on categorical independent variable "
   ]
  },
  {
   "cell_type": "code",
   "execution_count": null,
   "id": "292",
   "metadata": {},
   "outputs": [],
   "source": [
    "fig, ax= plt.subplots( 1,3, figsize= (15,3.5) )\n",
    "\n",
    "sns.regplot( ax= ax[0], x= 'cylinders', y= 'mpg', data= auto_df )\n",
    "ax[0].set( title= 'Normal Categorical Regression' )\n",
    "\n",
    "sns.regplot( ax= ax[1], x= 'cylinders', y= 'mpg', data= auto_df, x_jitter= 0.3 )\n",
    "ax[1].set( title= 'Categorical Regression with x jitter' )\n",
    "\n",
    "sns.regplot( ax= ax[2], x= 'cylinders', y= 'mpg', data= auto_df, x_bins= 6 )\n",
    "ax[2].set( title= 'Categorical Regression with binning' )\n",
    "\n",
    "plt.show()\n"
   ]
  },
  {
   "cell_type": "code",
   "execution_count": null,
   "id": "293",
   "metadata": {},
   "outputs": [],
   "source": [
    "auto_df"
   ]
  },
  {
   "cell_type": "markdown",
   "id": "294",
   "metadata": {},
   "source": [
    "<div id= '3.3.3'></div>\n",
    "\n",
    "###  3.3.3 - Matrix Plots `heatmaps`\n",
    "<i>[Go to top](#toc)</i>"
   ]
  },
  {
   "cell_type": "markdown",
   "id": "295",
   "metadata": {},
   "source": [
    "#### Creating heatmaps\n",
    "\n",
    "A `heatmap` is a common `matrix plot` that can be used to graphically summarize the relationship between two variables. Let's look at guests of the Daily Show from 1999 - 2015 and see how the occupations of the guests have changed over time. "
   ]
  },
  {
   "cell_type": "code",
   "execution_count": null,
   "id": "296",
   "metadata": {},
   "outputs": [],
   "source": [
    "dshow_df = pd.read_csv( 'datasets/daily_show_guests.csv' )\n",
    "dshow_df.columns = clean_colNm( dshow_df.columns )\n",
    "print( dshow_df.head(3) )"
   ]
  },
  {
   "cell_type": "code",
   "execution_count": null,
   "id": "297",
   "metadata": {},
   "outputs": [],
   "source": [
    "# crosstab table of the data:  group:year\n",
    "dshow_xtab_df = pd.crosstab( index= dshow_df.group, columns= dshow_df.year )\n",
    "dshow_xtab_df.head()"
   ]
  },
  {
   "cell_type": "code",
   "execution_count": null,
   "id": "298",
   "metadata": {},
   "outputs": [],
   "source": [
    "# Plot a heatmap of the  x table\n",
    "plt.style.use('dark_background')\n",
    "\n",
    "sns.heatmap( data= dshow_xtab_df ); plt.show()\n",
    "\n",
    "# rotate tick marks for visibility\n",
    "# plt.xticks( rotation = 90 );  plt.yticks( rotation = 90 )"
   ]
  },
  {
   "cell_type": "markdown",
   "id": "299",
   "metadata": {},
   "source": [
    "#### Cross table with various agg funct"
   ]
  },
  {
   "cell_type": "code",
   "execution_count": null,
   "id": "300",
   "metadata": {},
   "outputs": [],
   "source": [
    "bike_df = pd.read_csv( 'datasets/bike_share.csv' )\n",
    "bike_df.head(3)"
   ]
  },
  {
   "cell_type": "code",
   "execution_count": null,
   "id": "301",
   "metadata": {},
   "outputs": [],
   "source": [
    "# agg func: sum\n",
    "bike_xtab_sum = pd.crosstab( index= bike_df.mnth, columns= bike_df.weekday,\n",
    "                             values= bike_df.total_rentals, aggfunc= np.sum ).astype(int)\n",
    "bike_xtab_sum"
   ]
  },
  {
   "cell_type": "code",
   "execution_count": null,
   "id": "302",
   "metadata": {},
   "outputs": [],
   "source": [
    "# agg func: std\n",
    "bike_xtab_std = pd.crosstab( index= bike_df.mnth, columns= bike_df.weekday,\n",
    "                             values= bike_df.total_rentals, aggfunc = np.std ).astype(int)\n",
    "bike_xtab_std"
   ]
  },
  {
   "cell_type": "markdown",
   "id": "303",
   "metadata": {},
   "source": [
    "#### `heatmap`\n",
    "\n",
    "Comparing the total rental amount for each months and each days matrix"
   ]
  },
  {
   "cell_type": "code",
   "execution_count": null,
   "id": "304",
   "metadata": {},
   "outputs": [],
   "source": [
    "sns.heatmap( data= bike_xtab_sum, cmap= 'YlGnBu', annot= True, fmt= 'd'  )"
   ]
  },
  {
   "cell_type": "markdown",
   "id": "305",
   "metadata": {},
   "source": [
    "#### Customizing heatmap: \n",
    "Seaborn supports several types of additional customizations to improve the output of a heatmap"
   ]
  },
  {
   "cell_type": "code",
   "execution_count": null,
   "id": "306",
   "metadata": {},
   "outputs": [],
   "source": [
    "# heat map for dshow_df's xtab of Group and Year with 'BuGn' color-palette, no cbar and 0.3 thick linewidth\n",
    "\n",
    "sns.heatmap( data= dshow_xtab_df,\n",
    "             cbar= False, cmap= 'BuGn',\n",
    "             linewidths= 0.3 )\n",
    "\n",
    "# Rotate tick marks for visibility\n",
    "plt.xticks( rotation= 90 )\n",
    "\n",
    "plt.show()"
   ]
  },
  {
   "cell_type": "markdown",
   "id": "307",
   "metadata": {},
   "source": [
    "Further customizing: Centering a heatmap"
   ]
  },
  {
   "cell_type": "code",
   "execution_count": null,
   "id": "308",
   "metadata": {},
   "outputs": [],
   "source": [
    "sns.heatmap( data= bike_xtab_sum, cmap=\"YlGnBu\", annot= True,fmt= 'd' )\n",
    "plt.show()\n",
    "\n",
    "sns.heatmap( data= bike_xtab_sum,\n",
    "             cmap=\"YlGnBu\",\n",
    "             annot= True, fmt= 'd',\n",
    "             center= bike_xtab_sum.quantile(q=0.25).quantile(q=0.25)  )  # <-- centering around 1st Quantile\n",
    "\n",
    "plt.show()"
   ]
  },
  {
   "cell_type": "markdown",
   "id": "309",
   "metadata": {},
   "source": [
    "#### Correlation matrix"
   ]
  },
  {
   "cell_type": "code",
   "execution_count": null,
   "id": "310",
   "metadata": {},
   "outputs": [],
   "source": [
    "auto_df[ ['mpg','acceleration','horsepower','weight'] ]"
   ]
  },
  {
   "cell_type": "code",
   "execution_count": null,
   "id": "311",
   "metadata": {},
   "outputs": [],
   "source": [
    "auto_df[ ['mpg','acceleration','horsepower','weight'] ].corr()"
   ]
  },
  {
   "cell_type": "code",
   "execution_count": null,
   "id": "312",
   "metadata": {},
   "outputs": [],
   "source": [
    "sns.heatmap( data= auto_df[ ['mpg','acceleration','horsepower','weight','displacement'] ].corr(),\n",
    "             cmap= sns.color_palette( palette= 'coolwarm', n_colors= 40 ) )"
   ]
  },
  {
   "cell_type": "markdown",
   "id": "313",
   "metadata": {},
   "source": [
    "<br>\n",
    "\n",
    "<div id= '3.3.4'></div>\n",
    "\n",
    "###  3.3.4 - Parallel Coordinates Plot\n",
    "<i>[Go to top](#toc)</i>\n",
    "\n",
    "\n",
    "`Parallel coordinates` charts are commonly used to visualize and analyze high dimensional multivariate data. It represents each data sample as polyline connecting parallel lines where each parallel line represents an attribute of that data sample.\n",
    "\n",
    "<br>\n",
    "\n",
    "If we take an example of IRIS flowers dataset which has 4 dimensions (petal width & length, sepal width, and length) recorded then there will be four parallel lines drawn vertically in 2d plane and each sample of the flower will be drawn as polyline connecting points on these four parallel lines according to that samples measurements. It’s a common practice to scale data in order to get all data variables in the same range for better understanding. The scaling let us analyze data variables which are on totally different scales.\n",
    "\n",
    "The parallel coordinates chart can become very cluttered if there are many data points to be plotted. We can highlight only a few points in visualization to avoid cluttering."
   ]
  },
  {
   "cell_type": "code",
   "execution_count": null,
   "id": "314",
   "metadata": {},
   "outputs": [],
   "source": [
    "# raw data to df: IRIS dataset\n",
    "\n",
    "iris_raw = sklearn.datasets.load_iris()\n",
    "\n",
    "iris_np = np.hstack(    ( iris_raw.data, iris_raw.target.reshape(-1,1) )\n",
    "                   )\n",
    "\n",
    "iris_df = pd.DataFrame(  data= iris_np, columns= iris_raw.feature_names + ['flower_type']  )\n",
    "\n",
    "iris_df.head()"
   ]
  },
  {
   "cell_type": "code",
   "execution_count": null,
   "id": "315",
   "metadata": {},
   "outputs": [],
   "source": [
    "# raw data --> scaled --> df\n",
    "\n",
    "iris_rawScaled = sklearn.preprocessing.MinMaxScaler().fit_transform( iris_raw.data )\n",
    "\n",
    "iris_npScaled = np.hstack(    (  iris_rawScaled.data, iris_raw.target.reshape(-1,1)  )\n",
    "                         )\n",
    "\n",
    "irisScaled_df = pd.DataFrame(  data= iris_npScaled, columns= iris_raw.feature_names+['flower_type']  )\n",
    "irisScaled_df.head(2)"
   ]
  },
  {
   "cell_type": "code",
   "execution_count": null,
   "id": "316",
   "metadata": {},
   "outputs": [],
   "source": [
    "# raw data to df: Wine dataset\n",
    "\n",
    "wine_raw = sklearn.datasets.load_wine()\n",
    "\n",
    "wine_np = np.hstack(   ( wine_raw.data, wine_raw.target.reshape(-1,1) )\n",
    "                   )\n",
    "\n",
    "wine_df = pd.DataFrame(  data= wine_np, columns= wine_raw.feature_names+['wine_category']  )\n",
    "\n",
    "wine_df.head(2)"
   ]
  },
  {
   "cell_type": "code",
   "execution_count": null,
   "id": "317",
   "metadata": {},
   "outputs": [],
   "source": [
    "# raw data --> scaled --> df : Wine dataset\n",
    "\n",
    "wineScaled_np = sklearn.preprocessing.MinMaxScaler().fit_transform( wine_raw.data )\n",
    "\n",
    "wineScaled_np = np.hstack(   (  wineScaled_np, wine_raw.target.reshape(-1,1)  )\n",
    "                         )\n",
    "\n",
    "wineScaled_df = pd.DataFrame(  data= wineScaled_np, columns= wine_raw.feature_names+['wine_category']  )\n",
    "wineScaled_df.head(2)"
   ]
  },
  {
   "cell_type": "markdown",
   "id": "318",
   "metadata": {},
   "source": [
    "#### IRIS Parallel Coordinates Charts\n",
    "\n",
    "Let's provide iris dataframe as input and `flower_type` column for coloring samples according to flower category."
   ]
  },
  {
   "cell_type": "code",
   "execution_count": null,
   "id": "319",
   "metadata": {},
   "outputs": [],
   "source": [
    "fg,(ax1,ax2) = plt.subplots( 1,2, figsize= (18,5) )\n",
    "\n",
    "pd.plotting.parallel_coordinates(  frame= iris_df, class_column= 'flower_type',\n",
    "                                   color= ['lime','tomato','dodgerblue'], alpha= 0.7, ax= ax1  )\n",
    "\n",
    "pd.plotting.parallel_coordinates(  frame= irisScaled_df, class_column= 'flower_type',\n",
    "                                   color= ['lime','tomato','dodgerblue'], alpha= 0.7, axvlines_kwds= {'color':'gray'},\n",
    "                                   ax= ax2  )\n",
    "\n",
    "\n",
    "plt.tight_layout()"
   ]
  },
  {
   "cell_type": "markdown",
   "id": "320",
   "metadata": {},
   "source": [
    "#### Wine Dataset Parallel Coordinates Chart"
   ]
  },
  {
   "cell_type": "code",
   "execution_count": null,
   "id": "321",
   "metadata": {},
   "outputs": [],
   "source": [
    "fg,ax = plt.subplots( figsize= (18,5) )\n",
    "\n",
    "pd.plotting.parallel_coordinates(  frame= wineScaled_df, class_column= 'wine_category',\n",
    "                                   color=['lime','tomato','dodgerblue'], alpha= 0.7, axvlines_kwds= {'color':'gray'},\n",
    "                                   ax= ax  )\n",
    "\n",
    "plt.tight_layout()"
   ]
  },
  {
   "cell_type": "markdown",
   "id": "322",
   "metadata": {},
   "source": [
    "using all the features makes the plot confusing, so trying to select features that has highest correlation with Wine category."
   ]
  },
  {
   "cell_type": "code",
   "execution_count": null,
   "id": "323",
   "metadata": {},
   "outputs": [],
   "source": [
    "pd.options.display.max_rows = 14"
   ]
  },
  {
   "cell_type": "code",
   "execution_count": null,
   "id": "324",
   "metadata": {},
   "outputs": [],
   "source": [
    "wine_corr = wineScaled_df.corr().iloc[:,-1:].sort_values( 'wine_category', key= abs, ascending= False )\n",
    "wine_corr"
   ]
  },
  {
   "cell_type": "code",
   "execution_count": null,
   "id": "325",
   "metadata": {},
   "outputs": [],
   "source": [
    "fg,ax = plt.subplots( figsize= (12,6) )\n",
    "\n",
    "pd.plotting.parallel_coordinates(   frame= wineScaled_df, class_column= 'wine_category',\n",
    "                                    cols= ['flavanoids', 'od280/od315_of_diluted_wines', 'total_phenols','proline'],\n",
    "                                    color=['lime','tomato','dodgerblue'], alpha= 0.7, axvlines_kwds= {'color':'gray'},   )\n",
    "plt.tight_layout()"
   ]
  },
  {
   "cell_type": "markdown",
   "id": "326",
   "metadata": {},
   "source": [
    "<hr>\n",
    "<div id= '3.4'></div>\n",
    "\n",
    "## Chapter 3.4 - Creating Plots on Data Aware Grids\n",
    "<i>[Go to top](#toc)</i>\n",
    "\n",
    "Using Seaborn to draw multiple plots in a single figure.\n",
    "\n",
    "<div id= '3.4.1'></div>\n",
    "\n",
    "###  3.4.1 - Using `FacetGrid` & `factorplot`\n",
    "<!-- <i>[Go to top](#toc)</i> -->"
   ]
  },
  {
   "cell_type": "markdown",
   "id": "327",
   "metadata": {},
   "source": [
    "#### `sns.FacetGrid( )` -- 2 lines of code vs only one lines ( in `factorplot` )"
   ]
  },
  {
   "cell_type": "code",
   "execution_count": null,
   "id": "328",
   "metadata": {},
   "outputs": [],
   "source": [
    "plt.style.use( 'classic' ); sns.set_context( context= 'notebook' )\n",
    "\n",
    "fctGrd1 = sns.FacetGrid( data= auto_df, col= 'cyl_class' )\n",
    "fctGrd1.map( sns.boxplot, 'mpg' )\n",
    "\n",
    "plt.show()"
   ]
  },
  {
   "cell_type": "markdown",
   "id": "329",
   "metadata": {},
   "source": [
    "#### `sns.factorplot( )` -- only one line of code vs 2 lines ( in `FacetGrid` )"
   ]
  },
  {
   "cell_type": "code",
   "execution_count": null,
   "id": "330",
   "metadata": {},
   "outputs": [],
   "source": [
    "sns.factorplot( x= 'mpg', col= 'cyl_class', data= auto_df, kind= 'box' )\n",
    "plt.show()"
   ]
  },
  {
   "cell_type": "markdown",
   "id": "331",
   "metadata": {},
   "source": [
    "#### `FacetGrid` also supports `matplotlib` plots "
   ]
  },
  {
   "cell_type": "code",
   "execution_count": null,
   "id": "332",
   "metadata": {},
   "outputs": [],
   "source": [
    "fctGrd1 = sns.FacetGrid( data= auto_df, col= 'cyl_class' )\n",
    "fctGrd1.map( plt.scatter, 'weight' , 'mpg' )\n",
    "plt.show()"
   ]
  },
  {
   "cell_type": "markdown",
   "id": "333",
   "metadata": {},
   "source": [
    "<div id= '3.4.2'></div>\n",
    "\n",
    "###  3.4.2 - Exploring `FacetGrid` obj and its customization\n",
    "<i>[Go to top](#toc)</i>"
   ]
  },
  {
   "cell_type": "markdown",
   "id": "334",
   "metadata": {},
   "source": [
    "####  3.4.2.1 - `FacetGrid` with variable names: using `fctGrd1.map_dataframe(  )`\n",
    "<i>[Go to top](#toc)</i>"
   ]
  },
  {
   "cell_type": "code",
   "execution_count": null,
   "id": "335",
   "metadata": {},
   "outputs": [],
   "source": [
    "fctGrd1 = sns.FacetGrid( data= auto_df, col= 'cyl_class' )\n",
    "fctGrd2 = sns.FacetGrid( data= auto_df, col= 'cyl_class' )\n",
    "\n",
    "fctGrd1.map_dataframe( func= sns.histplot, x= 'mpg' )\n",
    "fctGrd2.map_dataframe( func= sns.histplot, y= 'mpg' )\n",
    "\n",
    "print( '\\n This is not possible using fctGrd1.map( ) \\n' )\n",
    "\n",
    "plt.show()"
   ]
  },
  {
   "cell_type": "code",
   "execution_count": null,
   "id": "336",
   "metadata": {},
   "outputs": [],
   "source": [
    "fctGrd1 = sns.FacetGrid( data= auto_df, col= 'cyl_class' )\n",
    "\n",
    "fctGrd1.map_dataframe( func= sns.scatterplot, x= 'weight' , y= 'mpg' )\n",
    "\n",
    "plt.show()"
   ]
  },
  {
   "cell_type": "markdown",
   "id": "337",
   "metadata": {},
   "source": [
    "####  3.4.2.2 - customizing `sns.FacetGrid( )`\n",
    "<i>[Go to top](#toc)</i>"
   ]
  },
  {
   "cell_type": "code",
   "execution_count": null,
   "id": "338",
   "metadata": {},
   "outputs": [],
   "source": [
    "fctGrd1 = sns.FacetGrid( data= auto_df, col= 'cyl_class' )\n",
    "\n",
    "print( f' fctGrd1 is an obj =  {fctGrd1} \\n\\n with a class =       {type(fctGrd1)} \\n'  )"
   ]
  },
  {
   "cell_type": "code",
   "execution_count": null,
   "id": "339",
   "metadata": {},
   "outputs": [],
   "source": [
    "fctGrd1 = sns.FacetGrid( data= auto_df, col= 'cyl_class', row= 'wt_class', hue= 'origin' )\n",
    "\n",
    "fctGrd1.map_dataframe( func= plt.scatter, x= 'horsepower' , y= 'mpg' )\n",
    "\n",
    "fctGrd1.set_axis_labels( x_var= 'Horsepower (hp)', y_var= 'MilMage(mpg)'  )\n",
    "fctGrd1.set_xticklabels( rotation= 45 )\n",
    "\n",
    "fctGrd1.set_titles( row_template= '{row_name} weight', col_template= '\\n{col_name} cylinders' ) # OR ↩\n",
    "fctGrd1.set_titles( template = '{col_name} cylinders &\\n{row_name} weight' )\n",
    "\n",
    "plt.show()"
   ]
  },
  {
   "cell_type": "markdown",
   "id": "340",
   "metadata": {},
   "source": [
    "##### separate y-axis with same `y limit`"
   ]
  },
  {
   "cell_type": "code",
   "execution_count": null,
   "id": "341",
   "metadata": {},
   "outputs": [],
   "source": [
    "fctGrd1 = sns.FacetGrid( data= auto_df, col= 'cyl_class', row= 'wt_class',\n",
    "                         sharey= False, ylim= ( auto_df.mpg.min(), auto_df.mpg.max() )  # <-- separate y-axis\n",
    "                       )\n",
    "\n",
    "fctGrd1.map_dataframe( func= plt.scatter, x= 'horsepower' , y= 'mpg' )\n",
    "\n",
    "fctGrd1.set_axis_labels( x_var= 'Horsepower (hp)', y_var= 'Milage(mpg)'  )\n",
    "fctGrd1.set_xticklabels( rotation= 45 )\n",
    "\n",
    "fctGrd1.set_titles( row_template= '{row_name} weight', col_template= '\\n{col_name} cylinders' ) # OR ↩\n",
    "fctGrd1.set_titles( template = '{col_name} cylinders &\\n{row_name} weight' )\n",
    "\n",
    "plt.show()"
   ]
  },
  {
   "cell_type": "markdown",
   "id": "342",
   "metadata": {},
   "source": [
    "####  3.4.2.3 - `hue` and `palette`\n",
    "<i>[Go to top](#toc)</i>"
   ]
  },
  {
   "cell_type": "code",
   "execution_count": null,
   "id": "343",
   "metadata": {},
   "outputs": [],
   "source": [
    "fctGrd1 = sns.FacetGrid( data= auto_df, col= 'cyl_class', row= 'wt_class',\n",
    "                         hue= 'origin', palette= ['black','orange','purple'] )\n",
    "\n",
    "fctGrd1.map_dataframe( func= plt.scatter, x= 'horsepower' , y= 'mpg', )\n",
    "\n",
    "fctGrd1.add_legend();"
   ]
  },
  {
   "cell_type": "markdown",
   "id": "344",
   "metadata": {},
   "source": [
    "<div id= '3.4.3'></div>\n",
    "\n",
    "###  3.4.3 - custom func with `FacetGrid`\n",
    "<i>[Go to top](#toc)</i>"
   ]
  },
  {
   "cell_type": "code",
   "execution_count": null,
   "id": "345",
   "metadata": {},
   "outputs": [],
   "source": [
    "# a custom plot func that can be used in fctGrd\n",
    "\n",
    "def add_mean_ln( data, colm= None, **kws ):\n",
    "    \n",
    "    # if no x_var provided skip this altogether\n",
    "    if not colm: return\n",
    "    \n",
    "    avg = np.mean( data[colm] )\n",
    "    \n",
    "    # get current axis\n",
    "    ax = plt.gca()\n",
    "    \n",
    "    # add v-line at the grp mean\n",
    "    ax.axvline( avg, color= 'red', ymin=0,ymax=1, lw= 3, ls= '--' )    \n",
    "    \n",
    "    # annotate grp mean\n",
    "    x_pos = 0.65\n",
    "    if avg > 5000: x_pos = 0.2\n",
    "    \n",
    "    ax.text( x_pos,0.7, s= f'mean = {avg:.0f}',\n",
    "             transform= ax.transAxes,             # <-- transforms posn to range from (0,0) --> (1,1)\n",
    "             color= 'maroon', fontweight= 'bold', fontsize= 12  )"
   ]
  },
  {
   "cell_type": "code",
   "execution_count": null,
   "id": "346",
   "metadata": {},
   "outputs": [],
   "source": [
    "fctGrd1 = sns.FacetGrid( data= auto_df, col= 'cyl_class', row= 'wt_class' )\n",
    "\n",
    "fctGrd1.map_dataframe( sns.kdeplot, x= 'mpg', lw= 2, shade= True )\n",
    "\n",
    "## applying custom plot\n",
    "fctGrd1.map_dataframe( add_mean_ln, colm= 'mpg' )\n",
    "\n",
    "# titles & axis labels\n",
    "fctGrd1.set_titles( template = '{col_name} cylinders &\\n{row_name} weight' )\n",
    "fctGrd1.set_axis_labels( x_var= 'Milage', y_var= 'kde'  )\n",
    "\n",
    "plt.show()"
   ]
  },
  {
   "cell_type": "code",
   "execution_count": null,
   "id": "347",
   "metadata": {},
   "outputs": [],
   "source": [
    "fctGrd1 = sns.FacetGrid( data= auto_df, col= 'cyl_class', row= 'wt_class' )\n",
    "\n",
    "fctGrd1.map_dataframe( sns.kdeplot, x= 'mpg', lw= 2, shade= True )\n",
    "\n",
    "## applying custom plot\n",
    "fctGrd1.map_dataframe( add_mean_ln, colm= 'mpg' )\n",
    "\n",
    "# titles & axis labels\n",
    "fctGrd1.set_titles( template = '{col_name} cylinders &\\n{row_name} weight' )\n",
    "fctGrd1.set_axis_labels( x_var= 'Milage', y_var= 'kde'  )\n",
    "\n",
    "plt.show()"
   ]
  },
  {
   "cell_type": "markdown",
   "id": "348",
   "metadata": {},
   "source": [
    "<div id= '3.4.4'></div>\n",
    "\n",
    "###  3.4.4 - Using `PairGrid` and `pairplot`\n",
    "<i>[Go to top](#toc)</i>"
   ]
  },
  {
   "cell_type": "markdown",
   "id": "349",
   "metadata": {},
   "source": [
    "`PairGrid`"
   ]
  },
  {
   "cell_type": "code",
   "execution_count": null,
   "id": "350",
   "metadata": {},
   "outputs": [],
   "source": [
    "fctGrd1 = sns.PairGrid( data= auto_df, vars= ['mpg','weight']  )\n",
    "\n",
    "fctGrd1.map_diag( plt.hist )\n",
    "fctGrd1.map_offdiag( plt.scatter )"
   ]
  },
  {
   "cell_type": "code",
   "execution_count": null,
   "id": "351",
   "metadata": {},
   "outputs": [],
   "source": [
    "fctGrd1 = sns.PairGrid( data= auto_df, vars= ['mpg','weight'], hue= 'cyl_class', despine= False )\n",
    "\n",
    "fctGrd1.map_diag( plt.hist ); fctGrd1.map_offdiag( plt.scatter )"
   ]
  },
  {
   "cell_type": "markdown",
   "id": "352",
   "metadata": {},
   "source": [
    "#### `PairGrid` for all vars (entire df)"
   ]
  },
  {
   "cell_type": "code",
   "execution_count": null,
   "id": "353",
   "metadata": {},
   "outputs": [],
   "source": [
    "plt.style.use( 'classic' ); sns.set_context( context= 'notebook' )\n",
    "plt.style.use('dark_background')"
   ]
  },
  {
   "cell_type": "code",
   "execution_count": null,
   "id": "354",
   "metadata": {},
   "outputs": [],
   "source": [
    "fctGrd1 = sns.PairGrid( data= auto_df )\n",
    "\n",
    "fctGrd2 = fctGrd1.map_diag( plt.hist )\n",
    "fctGrd3 = fctGrd2.map_offdiag( plt.scatter )"
   ]
  },
  {
   "cell_type": "markdown",
   "id": "355",
   "metadata": {},
   "source": [
    "#### `pairplot` for 'relevant' vars based on above `PairGrid`"
   ]
  },
  {
   "cell_type": "code",
   "execution_count": null,
   "id": "356",
   "metadata": {},
   "outputs": [],
   "source": [
    "sns.pairplot( vars= ['mpg','displacement','horsepower','weight','acceleration'],\n",
    "              kind= 'scatter', diag_kind= 'kde',\n",
    "              hue= 'cyl_class', \n",
    "              palette= 'Paired_r',              \n",
    "              data= auto_df,            )"
   ]
  },
  {
   "cell_type": "markdown",
   "id": "357",
   "metadata": {},
   "source": [
    "#### `pairplot` for 'relevant' vars with regression along non-diag"
   ]
  },
  {
   "cell_type": "code",
   "execution_count": null,
   "id": "358",
   "metadata": {},
   "outputs": [],
   "source": [
    "sns.pairplot( vars= ['mpg','displacement','horsepower','weight','acceleration'],\n",
    "              kind= 'reg', diag_kind= 'kde',             \n",
    "              palette= 'Dark2_r',\n",
    "              data= auto_df )\n",
    "plt.show()"
   ]
  },
  {
   "cell_type": "markdown",
   "id": "359",
   "metadata": {},
   "source": [
    "#### more customization in `pairplot`"
   ]
  },
  {
   "cell_type": "code",
   "execution_count": null,
   "id": "360",
   "metadata": {},
   "outputs": [],
   "source": [
    "sns.pairplot( vars= ['mpg','displacement','horsepower','weight','acceleration'],\n",
    "              kind= 'scatter', diag_kind= 'kde',\n",
    "              hue= 'cyl_class',\n",
    "              palette= 'Paired_r', plot_kws= {'alpha':0.9},\n",
    "              data= auto_df,            )"
   ]
  },
  {
   "cell_type": "markdown",
   "id": "361",
   "metadata": {},
   "source": [
    "#### more customization in `pairplot` with different vars in rows and cols"
   ]
  },
  {
   "cell_type": "code",
   "execution_count": null,
   "id": "362",
   "metadata": {},
   "outputs": [],
   "source": [
    "plt.style.use( 'classic' ); sns.set_context( context= 'notebook' )\n",
    "plt.style.use('dark_background')\n",
    "\n",
    "sns.pairplot( x_vars= ['horsepower','weight'] ,\n",
    "              y_vars= ['mpg','displacement','acceleration'],             \n",
    "              kind= 'scatter', \n",
    "              hue= 'cyl_class',\n",
    "              palette= 'Paired',\n",
    "              data= auto_df,            )"
   ]
  },
  {
   "cell_type": "markdown",
   "id": "363",
   "metadata": {},
   "source": [
    "<div id= '3.4.5'></div>\n",
    "\n",
    "###  3.4.5 - Using `JointGrid` and `jointplot`\n",
    "<i>[Go to top](#toc)</i>"
   ]
  },
  {
   "cell_type": "markdown",
   "id": "364",
   "metadata": {},
   "source": [
    "#### `JointGrid` "
   ]
  },
  {
   "cell_type": "code",
   "execution_count": null,
   "id": "365",
   "metadata": {},
   "outputs": [],
   "source": [
    "bike_df.head(3)"
   ]
  },
  {
   "cell_type": "markdown",
   "id": "366",
   "metadata": {},
   "source": [
    "For `JointGrid` plot, let's look at the relationship between temperature and total-rentals in `bike_df` "
   ]
  },
  {
   "cell_type": "code",
   "execution_count": null,
   "id": "367",
   "metadata": {},
   "outputs": [],
   "source": [
    "fctGrd1 =  sns.JointGrid( x= 'temp', y= 'total_rentals', data= bike_df, xlim= (0.1,0.9) )\n",
    "\n",
    "fctGrd1 = fctGrd1.plot( joint_func= sns.regplot, marginal_func= sns.distplot )"
   ]
  },
  {
   "cell_type": "code",
   "execution_count": null,
   "id": "368",
   "metadata": {},
   "outputs": [],
   "source": [
    "# same plot using jointplot\n",
    "fctGrd1 = sns.jointplot( x= 'temp', y= 'total_rentals', data= bike_df, kind= 'reg' )\n",
    "plt.show()"
   ]
  },
  {
   "cell_type": "markdown",
   "id": "369",
   "metadata": {},
   "source": [
    "#### `jointplot`"
   ]
  },
  {
   "cell_type": "code",
   "execution_count": null,
   "id": "370",
   "metadata": {},
   "outputs": [],
   "source": [
    "plt.style.use( 'classic' ); sns.set_context( context= 'notebook' )\n",
    "\n",
    "sns.jointplot( x= 'weight', y= 'mpg', data= auto_df,\n",
    "               kind= 'hex' )\n",
    "\n",
    "sns.jointplot( x= 'weight', y= 'mpg', data= auto_df,\n",
    "               kind= 'scatter', hue= 'cyl_class' )\n",
    "\n",
    "sns.jointplot( x= 'weight', y= 'mpg', data= auto_df,\n",
    "               kind= 'kde', hue= 'cyl_class' )"
   ]
  },
  {
   "cell_type": "markdown",
   "id": "371",
   "metadata": {},
   "source": [
    "#### customizing `joinplot` - combining 2 plots (kde with scatter)"
   ]
  },
  {
   "cell_type": "code",
   "execution_count": null,
   "id": "372",
   "metadata": {},
   "outputs": [],
   "source": [
    "fctGrd1 = sns.jointplot( x= 'weight', y= 'mpg', data= auto_df,\n",
    "                         kind= 'scatter', marginal_kws= dict( bins=30,rug=True )\n",
    "          )\\\n",
    "# .plot_joint( sns.kdeplot )"
   ]
  },
  {
   "cell_type": "code",
   "execution_count": null,
   "id": "373",
   "metadata": {},
   "outputs": [],
   "source": [
    "fctGrd1 = sns.jointplot( x= 'weight', y= 'mpg', data= auto_df,\n",
    "                         kind= 'scatter', marginal_kws= dict( bins=30,rug=True )\n",
    "          ).plot_joint( sns.kdeplot )"
   ]
  },
  {
   "cell_type": "markdown",
   "id": "374",
   "metadata": {},
   "source": [
    "#### customizing `joinplot` - combining 3 plots (kde + scatter + reg)"
   ]
  },
  {
   "cell_type": "code",
   "execution_count": null,
   "id": "375",
   "metadata": {},
   "outputs": [],
   "source": [
    "fctGrd1 = sns.jointplot( x= 'weight', y= 'mpg', data= auto_df,\n",
    "                         kind= 'scatter', marginal_kws= dict( bins=30,rug=True )\n",
    "                        \n",
    "          ).plot_joint( sns.kdeplot ).plot_joint( sns.regplot )"
   ]
  },
  {
   "cell_type": "markdown",
   "id": "376",
   "metadata": {},
   "source": [
    "2nd, 3rd order polynomial regression in `jointplot`"
   ]
  },
  {
   "cell_type": "code",
   "execution_count": null,
   "id": "377",
   "metadata": {},
   "outputs": [],
   "source": [
    "sns.jointplot( x= 'weight', y= 'mpg', data= auto_df,\n",
    "               kind= 'reg', order= 2 )\n",
    "\n",
    "sns.jointplot( x= 'weight', y= 'mpg', data= auto_df,\n",
    "               kind= 'reg', order= 3 )"
   ]
  },
  {
   "cell_type": "markdown",
   "id": "378",
   "metadata": {},
   "source": [
    "#### residual plot for order = 2 in join plot"
   ]
  },
  {
   "cell_type": "code",
   "execution_count": null,
   "id": "379",
   "metadata": {},
   "outputs": [],
   "source": [
    "sns.jointplot( x= 'weight', y= 'mpg', data= auto_df,\n",
    "               kind= 'resid', order= 1 )\n",
    "\n",
    "sns.jointplot( x= 'weight', y= 'mpg', data= auto_df,\n",
    "               kind= 'resid', order= 2 )"
   ]
  },
  {
   "cell_type": "markdown",
   "id": "380",
   "metadata": {},
   "source": [
    "<br> <hr><hr> <br> <br>\n",
    "\n",
    "<div id= 'course4'>\n",
    "    <h1> Course 4 - Fundamentals of Data Visualization</h1> \n",
    "    <h5> <a href= '#toc'> Go to top </a> </h5> \n",
    "</div>\n",
    "\n",
    "#### Key Concepts\n",
    "\n",
    "    - broader coverage of the Matplotlib library\n",
    "    - customizing graphics\n",
    "    - plotting two-dimensional arrays (like pseudocolor plots, contour plots, and images)\n",
    "    - statistical graphics (like visualizing distributions and regressions)\n",
    "    - working with time series and image data\n",
    "<br>\n",
    "<div id= '4.1'></div>\n",
    "\n",
    "## Chapter 4.1 - Customizing plots using `Matplotlib`\n",
    "<i>[Go to top](#toc)</i>\n",
    "\n",
    "    - overlaying plots\n",
    "    - making subplots\n",
    "    - controlling axes\n",
    "    - adding legends & annotations\n",
    "    - using different plot styles\n",
    "\n",
    "<div id= '4.1.1'></div>\n",
    "\n",
    "###  4.1.1 - Plotting multiple graphs"
   ]
  },
  {
   "cell_type": "markdown",
   "id": "381",
   "metadata": {},
   "source": [
    "#### 4.1.1 (A) Using `axes( [  xo, yo, wd, ht ] )`"
   ]
  },
  {
   "cell_type": "markdown",
   "id": "382",
   "metadata": {},
   "source": [
    "<h3><p style= 'text-align:center;'>axes() params</p></h3>\n",
    "<img src= 'images/plt_axes.png' style= 'width:493px;height:369px;'>\n",
    "\n",
    "<!-- # m, wd, ht = 2, 990, 576; ( wd/m, ht/m  ) -->"
   ]
  },
  {
   "cell_type": "code",
   "execution_count": null,
   "id": "383",
   "metadata": {},
   "outputs": [],
   "source": [
    "wusa_df = pd.read_csv( 'datasets/percent-bachelors-degrees-women-usa.csv' )\n",
    "wusa_df.columns = clean_colNm( wusa_df.columns )\n",
    "\n",
    "plt.style.use( 'bmh' ); sns.set_theme( rc= sns_theme_rc_dictn )\n",
    "\n",
    "wusa_df.head(2)"
   ]
  },
  {
   "cell_type": "code",
   "execution_count": null,
   "id": "384",
   "metadata": {},
   "outputs": [],
   "source": [
    "plt.axes( [ .05,.05, .8,.6 ] )\n",
    "plt.plot( wusa_df.year, wusa_df.physical_sciences )\n",
    "\n",
    "plt.axes( [ 1,.05, .8,.6 ] )\n",
    "plt.plot( wusa_df.year, wusa_df.computer_science )\n",
    "\n",
    "plt.show()"
   ]
  },
  {
   "cell_type": "markdown",
   "id": "385",
   "metadata": {},
   "source": [
    "#### 4.1.1 (B) Using `subplot( )`\n",
    "\n",
    "The command `plt.axes( )` requires a lot of effort to use well because the coordinates of the axes need to be set manually. A better alternative is to use `plt.subplot( )` to determine the layout automatically.\n",
    "\n",
    "    plt.subplot( nrows= 1, ncols= 2, index= 1 )"
   ]
  },
  {
   "cell_type": "code",
   "execution_count": null,
   "id": "386",
   "metadata": {},
   "outputs": [],
   "source": [
    "## Create a figure with 1x2 subplot and make the left subplot active\n",
    "\n",
    "plt.subplot( 1,2, 1 )\n",
    "plt.plot( wusa_df.year, wusa_df.physical_sciences )\n",
    "plt.plot( wusa_df.year, wusa_df.computer_science )\n",
    "plt.title( 'Physical & Computer Sciences' )\n",
    "\n",
    "plt.subplot( 1,2, 2 )\n",
    "plt.plot( wusa_df.year, wusa_df.agriculture )\n",
    "plt.title( 'Agriculture' )\n",
    "\n",
    "# plt.tight_layout() to improve the spacing between subplots\n",
    "plt.tight_layout()\n",
    "\n",
    "plt.show()"
   ]
  },
  {
   "cell_type": "markdown",
   "id": "387",
   "metadata": {},
   "source": [
    "#### Using `subplot( )` to plot more plots in larger grids - 2 x 2 grids of subplots"
   ]
  },
  {
   "cell_type": "code",
   "execution_count": null,
   "id": "388",
   "metadata": {},
   "outputs": [],
   "source": [
    "# Create a figure with 2x2 subplot layout and make the top left subplot active\n",
    "plt.subplot( 2,2, 1 )\n",
    "plt.plot( wusa_df.year, wusa_df.physical_sciences, color='blue' )\n",
    "plt.title( 'Physical Sciences' )\n",
    "\n",
    "# Make the top right subplot active in the current 2x2 subplot grid \n",
    "plt.subplot( 2,2, 2 )\n",
    "plt.plot( wusa_df.year, wusa_df.computer_science, color='red' )\n",
    "plt.title(' Computer Science' )\n",
    "\n",
    "# Make the bottom left subplot active in the current 2x2 subplot grid\n",
    "plt.subplot( 2,2, 3 )\n",
    "plt.plot( wusa_df.year, wusa_df.health_professions, color='green' )\n",
    "plt.title( 'Health Professions' )\n",
    "\n",
    "# Make the bottom right subplot active in the current 2x2 subplot grid\n",
    "plt.subplot( 2,2, 4 )\n",
    "\n",
    "plt.plot( wusa_df.year, wusa_df.education, color='yellow' )\n",
    "plt.title( 'Education' )\n",
    "\n",
    "# plt.show()"
   ]
  },
  {
   "cell_type": "markdown",
   "id": "389",
   "metadata": {},
   "source": [
    "#### `plt.tight_layout( )` for better spacing"
   ]
  },
  {
   "cell_type": "code",
   "execution_count": null,
   "id": "390",
   "metadata": {},
   "outputs": [],
   "source": [
    "plt.subplot( 2,2, 1 )\n",
    "plt.plot( wusa_df.year, wusa_df.physical_sciences, color='blue' )\n",
    "plt.title( 'Physical Sciences' )\n",
    "plt.subplot( 2,2, 2 )\n",
    "plt.plot( wusa_df.year, wusa_df.computer_science, color='red' )\n",
    "plt.title(' Computer Science' )\n",
    "plt.subplot( 2,2, 3 )\n",
    "plt.plot( wusa_df.year, wusa_df.health_professions, color='green' )\n",
    "plt.title( 'Health Professions' )\n",
    "plt.subplot( 2,2, 4 )\n",
    "plt.plot( wusa_df.year, wusa_df.education, color='yellow' )\n",
    "plt.title( 'Education' )\n",
    "\n",
    "# improve the spacing between subplots\n",
    "plt.tight_layout()\n",
    "\n",
    "plt.show()"
   ]
  },
  {
   "cell_type": "markdown",
   "id": "391",
   "metadata": {},
   "source": [
    "<div id= '4.1.2'></div>\n",
    "\n",
    "###  4.1.2 - Customizing axes\n",
    "<i>[Go to top](#toc)</i>\n",
    "\n",
    "`xlim()` `ylim()`\n",
    "\n",
    "These commands allow to either zoom or expand the plot or to set the axis ranges to include important values (such as the origin)."
   ]
  },
  {
   "cell_type": "code",
   "execution_count": null,
   "id": "392",
   "metadata": {},
   "outputs": [],
   "source": [
    "plt.subplot( 1,2, 1  )\n",
    "plt.plot( wusa_df.year, wusa_df.computer_science,  color='red'  ) \n",
    "plt.plot( wusa_df.year, wusa_df.physical_sciences, color='blue' )\n",
    "plt.xlabel( 'Year' ); plt.ylabel( 'Degrees awarded to women (%)' )\n",
    "plt.title( 'Degrees awarded to \\n women (1970-2011) ' )\n",
    "\n",
    "\n",
    "plt.subplot( 1,2, 2 )\n",
    "plt.plot( wusa_df.year, wusa_df.computer_science,  color='red'  ) \n",
    "plt.plot( wusa_df.year, wusa_df.physical_sciences, color='blue' )\n",
    "plt.xlabel( 'Year' )\n",
    "# set axis range\n",
    "plt.xlim( 1990,2010 ); plt.ylim( 0,50 )\n",
    "plt.title( 'Degrees awarded to \\n women (1990-2010)' )\n",
    "\n",
    "\n",
    "plt.tight_layout()\n",
    "plt.show()"
   ]
  },
  {
   "cell_type": "markdown",
   "id": "393",
   "metadata": {},
   "source": [
    "#### Using `axis()` to pass a  four tuples to set limits for both axes at once\n",
    "\n",
    "    plt.axis( [ xmin,xmax ,ymin,ymax ] ) OR\n",
    "    ax.set( xlim= (xmin,xmax), ylim= (ymin,ymax) )"
   ]
  },
  {
   "cell_type": "code",
   "execution_count": null,
   "id": "394",
   "metadata": {},
   "outputs": [],
   "source": [
    "plt.plot( wusa_df.year, wusa_df.computer_science,  color='red'  ) \n",
    "plt.plot( wusa_df.year, wusa_df.physical_sciences, color='blue' )\n",
    "\n",
    "# set axis range\n",
    "plt.axis( [ 1990,2010, 0,50 ] )\n",
    "\n",
    "plt.xlabel( 'Year' );  plt.ylabel( 'Degrees awarded to women (%)' )\n",
    "plt.title( 'Degrees awarded to  women (1990-2010)' )\n",
    "\n",
    "plt.tight_layout()\n",
    "plt.show()"
   ]
  },
  {
   "cell_type": "markdown",
   "id": "395",
   "metadata": {},
   "source": [
    "<div id= '4.1.3'></div>\n",
    "\n",
    "###  4.1.3 - Legends, annotations, and styles\n",
    "<i>[Go to top](#toc)</i>"
   ]
  },
  {
   "cell_type": "code",
   "execution_count": null,
   "id": "396",
   "metadata": {},
   "outputs": [],
   "source": [
    "print( plt.style.available )"
   ]
  },
  {
   "cell_type": "markdown",
   "id": "397",
   "metadata": {},
   "source": [
    "####  `legend( )`"
   ]
  },
  {
   "cell_type": "code",
   "execution_count": null,
   "id": "398",
   "metadata": {},
   "outputs": [],
   "source": [
    "plt.plot( wusa_df.year, wusa_df.computer_science, color= 'r', label = 'Comp Sci' )\n",
    "plt.plot( wusa_df.year, wusa_df.physical_sciences, color= 'g', label = 'Physical Sci' )\n",
    "\n",
    "plt.legend( loc= 'lower center' )"
   ]
  },
  {
   "cell_type": "markdown",
   "id": "399",
   "metadata": {},
   "source": [
    "####  `annotate( )`"
   ]
  },
  {
   "cell_type": "code",
   "execution_count": null,
   "id": "400",
   "metadata": {},
   "outputs": [],
   "source": [
    "# find the max enrollment of women in CompSci and the corresponding year\n",
    "yr_cs = wusa_df.loc[ wusa_df.computer_science.argmax(), ['year','computer_science'] ]\n",
    "print(yr_cs)\n",
    "\n",
    "yr , cs = int(yr_cs[0]) , yr_cs[1]\n"
   ]
  },
  {
   "cell_type": "code",
   "execution_count": null,
   "id": "401",
   "metadata": {},
   "outputs": [],
   "source": [
    "plt.plot( wusa_df.year, wusa_df.computer_science, color= 'r', label = 'Comp Sci' )\n",
    "plt.plot( wusa_df.year, wusa_df.physical_sciences, color= 'g', label = 'Physical Sci' )\n",
    "\n",
    "# annotate\n",
    "plt.annotate( text= '0.50,0.25 - coord: fig fract', color= 'white', size= 15,\n",
    "              xy= (0.50,0.25), xycoords= 'figure fraction', arrowprops= dict( facecolor= 'orange' )   )\n",
    "\n",
    "plt.annotate( text= 'max - coord: data', color= 'red',\n",
    "              xy= ( yr,cs ), xytext= ( yr-10,cs+5 ),\n",
    "              xycoords= 'data',\n",
    "              arrowprops= dict( facecolor= 'orange' )        )"
   ]
  },
  {
   "cell_type": "markdown",
   "id": "402",
   "metadata": {},
   "source": [
    "#### Modifying styles: `plt.style.use( style ) `"
   ]
  },
  {
   "cell_type": "code",
   "execution_count": null,
   "id": "403",
   "metadata": {},
   "outputs": [],
   "source": [
    "print( plt.style.available )"
   ]
  },
  {
   "cell_type": "code",
   "execution_count": null,
   "id": "404",
   "metadata": {},
   "outputs": [],
   "source": [
    "plt.style.use( style= 'seaborn-dark' )\n",
    "\n",
    "plt.subplot( 2,2, 1 )\n",
    "plt.plot( wusa_df.year, wusa_df.physical_sciences, color='blue' )\n",
    "plt.title( 'Physical Sciences' )\n",
    "plt.subplot( 2,2, 2 )\n",
    "plt.plot( wusa_df.year, wusa_df.computer_science, color='red' )\n",
    "plt.title(' Computer Science' )\n",
    "plt.subplot( 2,2, 3 )\n",
    "plt.plot( wusa_df.year, wusa_df.health_professions, color='green' )\n",
    "plt.title( 'Health Professions' )\n",
    "plt.subplot( 2,2, 4 )\n",
    "plt.plot( wusa_df.year, wusa_df.education, color='yellow' )\n",
    "plt.title( 'Education' )\n",
    "\n",
    "# improve the spacing between subplots\n",
    "# plt.tight_layout()\n",
    "\n",
    "plt.show()"
   ]
  },
  {
   "cell_type": "markdown",
   "id": "405",
   "metadata": {},
   "source": [
    "<hr>\n",
    "<div id= '4.2'></div>\n",
    "\n",
    "## Chapter 4.2 - Plotting 2 D arrays\n",
    "<i>[Go to top](#toc)</i>\n",
    "\n",
    "    - various techniques for visualizing 2 D arrays\n",
    "    - usage, presentation, and orientation of grids for representing two-variable funcs\n",
    "    - pseudocolor plots, contour plots, color maps, 2 D histograms, and images\n",
    "\n",
    "<div id= '4.2.1'></div>\n",
    "\n",
    "###  4.2.1 - Working with 2D arrays (meshgrid)"
   ]
  },
  {
   "cell_type": "markdown",
   "id": "406",
   "metadata": {},
   "source": [
    "#### `np.meshgrid( )`\n",
    "\n",
    "We will use the `np.meshgrid( )` to generate 2-D arrays and visualize it using `plt.imshow()`. The simplest way to generate a meshgrid is as follows:\n",
    "\n",
    ">  ```X, Y = np.meshgrid( range(10),range(20) )```\n",
    "\n",
    "\n",
    "    ➠ This will create 2 arrays with a shape of ( 20,10 )\n",
    "    ➠ which corresponds to 20 rows along the Y-axis and 10 cols along the X-axis\n",
    "    \n",
    "<h3><p style= 'text-align:center;'>Meshgrid construction from np.array</p></h3>\n",
    "<img src= 'images/np_meshplot.jpg' style= 'width:690px;height:335px;'>\n",
    "\n",
    "<!-- # m, wd, ht = 2, 990, 576; ( wd/m, ht/m  ) -->"
   ]
  },
  {
   "cell_type": "code",
   "execution_count": null,
   "id": "407",
   "metadata": {},
   "outputs": [],
   "source": [
    "plt.style.use( 'classic' )"
   ]
  },
  {
   "cell_type": "code",
   "execution_count": null,
   "id": "408",
   "metadata": {},
   "outputs": [],
   "source": [
    "x = np.linspace( -10,10, 11 );   y = np.linspace( -5,5, 6 )\n",
    "print( f' x = {x}, \\n y = {y}' )\n",
    "\n",
    "xx,yy = np.meshgrid( x, y )                                  # <-- meshgrid construction\n",
    "print( f'\\n xx = \\n {xx}, \\n\\n yy = \\n {yy}' )\n",
    "\n",
    "# iff x == y ⇔ xx.T = y but for all x & y, x.shape = y.shape\n",
    "\n",
    "plt.scatter( xx,yy )"
   ]
  },
  {
   "cell_type": "markdown",
   "id": "409",
   "metadata": {},
   "source": [
    "#### Application of `meshgrid` : to plot 3D func: `z = f(x,y)` onto 2D space"
   ]
  },
  {
   "cell_type": "code",
   "execution_count": null,
   "id": "410",
   "metadata": {},
   "outputs": [],
   "source": [
    "x = np.linspace( -6,6, 100 );   y = np.linspace( -5,5, 100 )\n",
    "\n",
    "xx,yy = np.meshgrid( x,y )        \n",
    "\n",
    "zz =  np.sin( 3 * np.sqrt(xx**2 + yy**2) )         "
   ]
  },
  {
   "cell_type": "code",
   "execution_count": null,
   "id": "411",
   "metadata": {},
   "outputs": [],
   "source": [
    "fig, ax = plt.subplots( 1,2, figsize= (15,5) )\n",
    "\n",
    "plt.subplot( 1,2, 1 )\n",
    "plt.pcolor( xx,yy,zz, shading= 'nearest' )\n",
    "\n",
    "plt.subplot( 1,2, 2 )\n",
    "plt.imshow(  plt.imread('images/meshgrid-3D_plot.png')  )\n",
    "plt.axis('off')\n",
    "\n",
    "plt.tight_layout(); plt.show()"
   ]
  },
  {
   "cell_type": "markdown",
   "id": "412",
   "metadata": {},
   "source": [
    "<div id= '4.2.2'></div>\n",
    "\n",
    "###  4.2.2 - Visualizing bivariate funcs\n",
    "<i>[Go to top](#toc)</i>"
   ]
  },
  {
   "cell_type": "code",
   "execution_count": null,
   "id": "413",
   "metadata": {},
   "outputs": [],
   "source": [
    "plt.subplot( 2,2, 1 )  \n",
    "plt.pcolor( xx,yy,zz, shading= 'nearest', cmap='viridis' ); plt.axis('tight')\n",
    "plt.colorbar()\n",
    "\n",
    "plt.subplot( 2,2, 2 )\n",
    "plt.contour( xx,yy,zz, 10 ); \n",
    "plt.colorbar()\n",
    "\n",
    "plt.subplot( 2,2, 3 )\n",
    "plt.contourf( xx,yy,zz, 3);          # <- filled contour plot\n",
    "plt.colorbar()\n",
    "\n",
    "plt.subplot( 2,2, 4 )\n",
    "plt.imshow(  plt.imread('images/meshgrid-3D_plot.png')  ); plt.axis('off')"
   ]
  },
  {
   "cell_type": "markdown",
   "id": "414",
   "metadata": {},
   "source": [
    "#### Various colormaps"
   ]
  },
  {
   "cell_type": "code",
   "execution_count": null,
   "id": "415",
   "metadata": {},
   "outputs": [],
   "source": [
    "# Create a filled contour plot with a color map of 'viridis'\n",
    "plt.subplot( 2,2, 1 )\n",
    "plt.contourf( xx,yy,zz,20, cmap= 'viridis' )\n",
    "plt.colorbar(); plt.title( 'Viridis' )\n",
    "\n",
    "# Create a filled contour plot with a color map of 'grayy'\n",
    "plt.subplot( 2,2,2 )\n",
    "plt.contourf( xx,yy,zz,20, cmap= 'gray' )\n",
    "plt.colorbar(); plt.title( 'Gray' )\n",
    "\n",
    "# Create a filled contour plot with a color map of 'autumn'\n",
    "plt.subplot( 2,2,3 )\n",
    "plt.contourf( xx,yy,zz,20, cmap= 'autumn' )\n",
    "plt.colorbar(); plt.title( 'Autumn' )\n",
    "\n",
    "# Create a filled contour plot with a color map of 'winter'\n",
    "plt.subplot(2,2,4 )\n",
    "plt.contourf( xx,yy,zz, 20, cmap= 'winter' )\n",
    "plt.colorbar(); plt.title( 'Winter' )\n",
    "\n",
    "# Improve the spacing between subplots and displayy them\n",
    "plt.tight_layout()\n",
    "plt.show()\n"
   ]
  },
  {
   "cell_type": "markdown",
   "id": "416",
   "metadata": {},
   "source": [
    "<div id= '4.2.3'></div>\n",
    "\n",
    "###  4.2.3 - Visualizing bivariate distributions\n",
    "<i>[Go to top](#toc)</i>"
   ]
  },
  {
   "cell_type": "markdown",
   "id": "417",
   "metadata": {},
   "source": [
    "#### `hist2d( )`"
   ]
  },
  {
   "cell_type": "code",
   "execution_count": null,
   "id": "418",
   "metadata": {},
   "outputs": [],
   "source": [
    "plt.style.use('dark_background')\n",
    "\n",
    "auto_df.head(3)"
   ]
  },
  {
   "cell_type": "code",
   "execution_count": null,
   "id": "419",
   "metadata": {},
   "outputs": [],
   "source": [
    "plt.subplot( 2,2, 1 )\n",
    "plt.scatter( x= auto_df.weight, y= auto_df.mpg )\n",
    "plt.xticks( rotation= 45 ); plt.xlabel('Vechicle Weight'); plt.title('Scatter plot')\n",
    "\n",
    "#  bi-dimensional histogram: using rect bins\n",
    "plt.subplot( 2,2, 2 )\n",
    "mtrx, x_ax, y_ax, figr_hist_mesh = plt.hist2d( x= auto_df.weight, y= auto_df.mpg,\n",
    "                                          bins= (30,30), range= ( (2000,5000), (10,40) )\n",
    "                                        )\n",
    "plt.xlabel('Vechicle Weight');  plt.ylabel('Mileage (mpg)') ; plt.title('hist2d plot - Rect bins')\n",
    "plt.colorbar();  plt.xticks( rotation= 45 );\n",
    "\n",
    "# kde\n",
    "plt.subplot( 2,2, 3 )\n",
    "sns.kdeplot( x= auto_df.weight, y= auto_df.mpg )\n",
    "plt.xticks( rotation= 45 ); plt.xlabel(''); plt.ylabel(''); plt.title('kde plot')\n",
    "\n",
    "#  bi-dimensional histogram: using hect bins\n",
    "plt.subplot( 2,2, 4 )\n",
    "figr_hexHist_mesh = plt.hexbin( x= auto_df.weight, y= auto_df.mpg,\n",
    "                                gridsize= (15,10), extent= ( 2000,5000, 10,40 )\n",
    "                              )\n",
    "plt.ylabel('Mileage (mpg)') ;  plt.title('hist2d plot - Hex bins')\n",
    "plt.colorbar();  plt.xticks( rotation= 45 )\n",
    "\n",
    "plt.tight_layout(); plt.show()"
   ]
  },
  {
   "cell_type": "markdown",
   "id": "420",
   "metadata": {},
   "source": [
    "<div id= '4.2.4'></div>\n",
    "\n",
    "###  4.2.4 - Plotting images\n",
    "<i>[Go to top](#toc)</i>"
   ]
  },
  {
   "cell_type": "markdown",
   "id": "421",
   "metadata": {},
   "source": [
    "#### Loading, examining images"
   ]
  },
  {
   "cell_type": "code",
   "execution_count": null,
   "id": "422",
   "metadata": {},
   "outputs": [],
   "source": [
    "fig,ax = plt.subplots( figsize= (3.5,3.5) )\n",
    "\n",
    "img1 = plt.imread( 'images/astronaut_in_space.jpg' )\n",
    "\n",
    "plt.imshow( img1 )\n",
    "plt.axis('off')\n",
    "\n",
    "print( img1.shape )"
   ]
  },
  {
   "cell_type": "markdown",
   "id": "423",
   "metadata": {},
   "source": [
    "#### Pseudocolor plot from image data\n",
    "\n",
    "Img data comes in many forms and it is not always appropriate to display the available channels in RGB space. In many situations, an img may be processed and analysed in some way before it is visualized in pseudocolor, also known as 'false' color.\n",
    "\n",
    "Instead of simply displaying the astronaut img, we will compute the total intensity across the RGB channels. The result is a single 2 dim array which we will display using `plt.imshow()` with the `gray` colormap."
   ]
  },
  {
   "cell_type": "code",
   "execution_count": null,
   "id": "424",
   "metadata": {},
   "outputs": [],
   "source": [
    "# load img\n",
    "img1 = plt.imread( 'images/astronaut_in_space.jpg' )\n",
    "\n",
    "## plots\n",
    "fig, ax = plt.subplots( 1,3, figsize= (9,9) )\n",
    "\n",
    "ax[0].imshow( img1 )\n",
    "\n",
    "## compute the sum of the RGB channels of img by using the .sum() method with axis = 2\n",
    "gray_intensity_img = img1.sum( axis= 2 )\n",
    "\n",
    "ax[1].imshow( gray_intensity_img )\n",
    "\n",
    "ax[2].imshow( gray_intensity_img, cmap= 'gray' )\n",
    "\n",
    "[ ax[i].axis('off') for i in range(ax.shape[0]) ];\n",
    "\n",
    "print( f' RGB Img shape = {img1.shape} \\n Grayscale Img shape = {gray_intensity_img.shape}' )\n",
    "\n",
    "plt.show()"
   ]
  },
  {
   "cell_type": "markdown",
   "id": "425",
   "metadata": {},
   "source": [
    "<div id= '4.2.5'></div>\n",
    "\n",
    "###  4.2.5 - Histogram in images\n",
    "<i>[Go to top](#toc)</i>"
   ]
  },
  {
   "cell_type": "code",
   "execution_count": null,
   "id": "426",
   "metadata": {},
   "outputs": [],
   "source": [
    "img1 = plt.imread( 'datasets/buddha_colorful2.jpg' )\n",
    "\n",
    "fig, ax= plt.subplots( 2,2, figsize= (13,10) )\n",
    "\n",
    "ax[0][0].imshow( img1 ); ax[0][0].axis('off')\n",
    "\n",
    "px_flat = img1.flatten()\n",
    "\n",
    "ax[0][1].hist( x= px_flat, bins= 256, range= (0,256) )\n",
    "\n",
    "ax[1][0].hist( x= px_flat, bins= 256, range= (0,256), color= 'blue', alpha= 0.3 , cumulative= True)\n",
    "\n",
    "plt.show()"
   ]
  },
  {
   "cell_type": "markdown",
   "id": "427",
   "metadata": {},
   "source": [
    "#### Extracting histograms from a color image for RGB channels"
   ]
  },
  {
   "cell_type": "code",
   "execution_count": null,
   "id": "428",
   "metadata": {},
   "outputs": [],
   "source": [
    "# Extract 2-D arrays of the RGB channels: red, green, blue\n",
    "red, green, blue = img1[:,:,0], img1[:,:,1], img1[:,:,2]\n",
    "\n",
    "# Flatten the 2-D arrays of the RGB channels into 1-D\n",
    "red_pixels = red.flatten()\n",
    "green_pixels = green.flatten()\n",
    "blue_pixels = blue.flatten()\n",
    "\n",
    "# Overlay histograms of the pixels of each color in the bottom subplot\n",
    "plt.title('Histograms from color image')\n",
    "plt.xlim( (0,256) )\n",
    "plt.hist( red_pixels, bins= 64,  color= 'red', alpha= 0.2 )\n",
    "plt.hist( green_pixels, bins= 64,  color= 'green', alpha= 0.2 )\n",
    "plt.hist( blue_pixels, bins= 64,  color= 'blue', alpha= 0.2 )\n",
    "\n",
    "plt.show()"
   ]
  },
  {
   "cell_type": "markdown",
   "id": "429",
   "metadata": {},
   "source": [
    "<hr>\n",
    "<div id= '4.3'></div>\n",
    "\n",
    "## Chapter 4.3 - Analyzing time series intro\n",
    "<i>[Go to top](#toc)</i>\n",
    "\n",
    "    - customize plots of stock data basic\n",
    "\n",
    "<div id= '4.3.1'></div>\n",
    "\n",
    "###  4.3.1 - Visualizing time series"
   ]
  },
  {
   "cell_type": "markdown",
   "id": "430",
   "metadata": {},
   "source": [
    "#### four time series (stock data) stocks on the same axes"
   ]
  },
  {
   "cell_type": "code",
   "execution_count": null,
   "id": "431",
   "metadata": {},
   "outputs": [],
   "source": [
    "stocks4_df = pd.read_csv( 'datasets/stocks_4.csv', parse_dates= ['Date'], index_col= ['Date'] )\n",
    "stocks4_df.head(3)\n",
    "plt.style.use( 'classic' )"
   ]
  },
  {
   "cell_type": "code",
   "execution_count": null,
   "id": "432",
   "metadata": {},
   "outputs": [],
   "source": [
    "fig, ax = plt.subplots( figsize= (10,4) )\n",
    "\n",
    "plt.plot( stocks4_df.AAPL, color= 'blue', label= 'Apple' )\n",
    "plt.plot( stocks4_df.IBM, color= 'green', label= 'IBM' )\n",
    "plt.plot( stocks4_df.CSCO, color= 'orange', label= 'Cisco' )\n",
    "plt.plot( stocks4_df.MSFT, color= 'magenta', label= 'Microsoft' )\n",
    "\n",
    "plt.legend( loc= 'upper left' )\n",
    "plt.xticks( rotation= 40 )\n",
    "\n",
    "plt.show()"
   ]
  },
  {
   "cell_type": "markdown",
   "id": "433",
   "metadata": {},
   "source": [
    "\n",
    "#### Plotting an inset view"
   ]
  },
  {
   "cell_type": "code",
   "execution_count": null,
   "id": "434",
   "metadata": {},
   "outputs": [],
   "source": [
    "fig, ax = plt.subplots( figsize= (10,5) )\n",
    "\n",
    "# plot entire stock data for apple\n",
    "plt.plot( stocks4_df.AAPL )\n",
    "plt.title('AAPL: 2001-2011')\n",
    "\n",
    "# plot apple November 2007 to April 2008 inclusive\n",
    "plt.axes( [0.24, 0.45, 0.35, 0.35] )                             # <-- posn of the inset plot boundary\n",
    "plt.plot( stocks4_df.AAPL['2007-11':'2008-04'], color= 'red' )\n",
    "plt.xticks( rotation= 60 )\n",
    "plt.title( '2007 Nov - 2008 April' )\n",
    "\n",
    "plt.show()"
   ]
  },
  {
   "cell_type": "code",
   "execution_count": null,
   "id": "435",
   "metadata": {},
   "outputs": [],
   "source": [
    "stocks4_df.AAPL['2007-07':'2008-04']"
   ]
  },
  {
   "cell_type": "markdown",
   "id": "436",
   "metadata": {},
   "source": [
    "<br> <hr><hr> <br> <br>\n",
    "\n",
    "<div id= 'course5'>\n",
    "    <h1>Course 5 - Enhancement on Data Visualization</h1> \n",
    "    <h5> <a href= '#toc'> Go to top </a> </h5> \n",
    "</div>\n",
    "\n",
    "#### Key Concepts\n",
    "\n",
    "Great data visualization is the cornerstone of impactful data science. Visualization helps to both find insight in the data and share those insights with the audience. Everyone learns how to make a basic scatter plot or bar chart on their journey to becoming a data scientist, but the true potential of data visualization is realized when one take a step back and think about what, why, and how the data are visualized.\n",
    "\n",
    "    - construct compelling & attractive visualizations which helps to communicate the results of the analyses         efficiently & effectively\n",
    "    - the ins & outs of color\n",
    "    - include uncertainty in the plots\n",
    "    - build the right visualization for the audience through the investigation of a dataset\n",
    "    - build polished and impactful visual reports\n",
    "\n",
    "<br>\n",
    "<div id= '5.1'></div>\n",
    "\n",
    "## Chapter 5.1 - Guiding the audience towards the data through visualization\n",
    "<i>[Go to top](#toc)</i>\n",
    "\n",
    "    - discuss how to show all of the data while making sure that viewers don't miss an important point or points?\n",
    "    - discuss how to guide the viewer through the data with color-based highlights and text\n",
    "\n",
    "<div id= '5.1.1'></div>\n",
    "\n",
    "###  5.1.1 Highlighting the data\n",
    "<!-- <i>[Go to top](#toc)</i> -->"
   ]
  },
  {
   "cell_type": "markdown",
   "id": "437",
   "metadata": {},
   "source": [
    "#### 5.1.1 (A) Hardcoding a highlight\n",
    "\n",
    "Hypothetically, we are working with the city of Houston to look at the relationship between sulfur dioxide (SO2) and nitrogen dioxide (NO2) pollution, specifically, pollution in the most recent year data was collected (2014). \n",
    "\n",
    "We have singled out a particularly bad day, <u>November 26th</u>, where there was a bad spike in the SO2 levels. To draw the viewers attention to this bad day, we will highlight it in a bright orangish-red and color the rest of the points gray."
   ]
  },
  {
   "cell_type": "code",
   "execution_count": null,
   "id": "438",
   "metadata": {},
   "outputs": [],
   "source": [
    "poln_df = pd.read_csv( 'datasets/us_cities_pollution.csv' )\n",
    "poln_df.columns = clean_colNm( poln_df.columns )\n",
    "\n",
    "print( poln_df.head(3) )\n",
    "\n",
    "# get a colm with datetime object based on yy, mm, dd, cols\n",
    "poln_df['date_clean'] = poln_df.apply( func= lambda df: day_to_date(df.day,df.year), axis= 1 )\n",
    "poln_df.head(3)"
   ]
  },
  {
   "cell_type": "code",
   "execution_count": null,
   "id": "439",
   "metadata": {},
   "outputs": [],
   "source": [
    "# make the date_clean col as datetime index; either way looks apprently same\n",
    "\n",
    "poln_df['date_clean'] = pd.to_datetime( poln_df.date_clean )\n",
    "\n",
    "poln_df.set_index( pd.to_datetime(poln_df.date_clean) )  # OR\n",
    "poln_df.set_index( pd.DatetimeIndex(poln_df.date_clean ), inplace= True )\n",
    "\n",
    "poln_df.drop( labels= ['year','month','day'], axis= 'columns', inplace= True )\n",
    "poln_df.head(3)"
   ]
  },
  {
   "cell_type": "markdown",
   "id": "440",
   "metadata": {},
   "source": [
    "#### using `apply-def-lambda` vs `list comprehension` for highlighting data"
   ]
  },
  {
   "cell_type": "code",
   "execution_count": null,
   "id": "441",
   "metadata": {},
   "outputs": [],
   "source": [
    "houston_df = poln_df.loc[ poln_df.city == 'Houston' , : ]\n",
    "\n",
    "# using df.apply( )-def-lambda to highlight the data for a given date \n",
    "\n",
    "def highlight_observation( series, date_str ):\n",
    "    if ( str(series)[:10] == date_str ): return( 'red' )\n",
    "    else: return ( 'lightgray' )\n",
    "\n",
    "houston_highlighted_data =   houston_df['date_clean']\\\n",
    "                                .apply( func= lambda ser: highlight_observation( ser, '2014-11-26' ) )\n",
    "\n",
    "# using list comprehension to highlight the data for a given date \n",
    "houston_highlighted_data_2 = [ 'red' if str(e_ser_dateVal)[:10] == '2014-11-26' else 'lightgray'\\\n",
    "                                for e_ser_dateVal in houston_df['date_clean'] ]\n",
    "# confirming\n",
    "print( houston_highlighted_data[ houston_highlighted_data.index ==  '2014-11-26' ] )\n",
    "\n",
    "print( '\\n\\n', set(houston_highlighted_data_2) )\n"
   ]
  },
  {
   "cell_type": "code",
   "execution_count": null,
   "id": "442",
   "metadata": {},
   "outputs": [],
   "source": [
    "plt.style.use( 'classic' )\n",
    "\n",
    "\n",
    "fig1,ax1 = plt.subplots( figsize= (6,3) )\n",
    "\n",
    "sns.regplot( ax= ax1, x= 'co', y= 'no2', data= houston_df,\n",
    "             fit_reg= False, scatter_kws= { 'facecolors':houston_highlighted_data, 'alpha':0.7 } \n",
    "           )\n",
    "plt.show()"
   ]
  },
  {
   "cell_type": "markdown",
   "id": "443",
   "metadata": {},
   "source": [
    "#### 5.1.1 (B) Programmatically creating a highlight\n",
    "\n",
    "We want to look at the behavior of both NO2 and SO2 when the un-plotted ozone (O3) value was at its highest.\n",
    "\n",
    "To do this, state a `List Comprehension` that compares a row's O3 value with the highest observed O3 in the dataset. \n",
    "\n",
    "Note: Using `sns.scatterplot( )` instead of `sns.regplot( )`; this is because `sns.scatterplot( )` can take a non-color vector as its hue argument and colors the points automatically while providing a helpful legend."
   ]
  },
  {
   "cell_type": "code",
   "execution_count": null,
   "id": "444",
   "metadata": {},
   "outputs": [],
   "source": [
    "print( houston_df.head(2) )\n",
    "\n",
    "# modifying data just for visual effect\n",
    "houston_df.o3[0] = houston_df.o3[2] = houston_df.o3[3] =  houston_df.o3.max()"
   ]
  },
  {
   "cell_type": "code",
   "execution_count": null,
   "id": "445",
   "metadata": {},
   "outputs": [],
   "source": [
    "# using list comprehension (preferable -  use df.apply if complex func for categorizing)\n",
    "\n",
    "houston_df['high_O3'] = [ 'Highest O3 Day' if each_o3 == houston_df.o3.max() else 'Others'\\\n",
    "                          for each_o3 in houston_df.o3                                      ]\n",
    "\n",
    "#------------------------------------------------------------------------------------------------------------\n",
    "\n",
    "# OR merely using row & colm index\n",
    "\n",
    "houston_df['high_O3_2'] = 'Normal O3 value'\n",
    "houston_df.loc[ houston_df['o3'] == houston_df['o3'].max(), 'high_O3_2' ] = 'Highest O3 value'\n",
    "\n",
    "houston_df.head()"
   ]
  },
  {
   "cell_type": "code",
   "execution_count": null,
   "id": "446",
   "metadata": {},
   "outputs": [],
   "source": [
    "fig, ax = plt.subplots( figsize= (8,4) )\n",
    "\n",
    "sns.scatterplot( ax= ax, x= 'co', y= 'no2', hue= 'high_O3', palette= ['r','g'],\n",
    "                 data= houston_df )\n",
    "ax.legend( loc= 'best' )\n",
    "plt.show()"
   ]
  },
  {
   "cell_type": "markdown",
   "id": "447",
   "metadata": {},
   "source": [
    "<div id= '5.1.2'></div>\n",
    "\n",
    "###  5.1.2 Comparing groups\n",
    "<i>[Go to top](#toc)</i>"
   ]
  },
  {
   "cell_type": "markdown",
   "id": "448",
   "metadata": {},
   "source": [
    "####  5.1.2.1 Comparing with two KDEs\n",
    "\n",
    "Imagine that we work for the premier air-filter provider. Our company has asked us to build a report that looks into why 2012 was a particularly good year for sales of the ozone (O3) filter. We downloaded some helpful pollution data from the USGS, and want to make a concise visualization that compares the general pattern of O3 pollution for 2012 to all other years on record.\n",
    "\n",
    "To do this, we can build two overlaid `kernel density estimation plots (KDEs)`: one for 2012 O3 data and one for all other years."
   ]
  },
  {
   "cell_type": "code",
   "execution_count": null,
   "id": "449",
   "metadata": {},
   "outputs": [],
   "source": [
    "# Filter the data in the first sns.kdeplot() call to include only the year 2012. \n",
    "fig, ax = plt.subplots( figsize= (8,4) )\n",
    "\n",
    "sns.kdeplot( x= poln_df.loc[ poln_df.index < '2013', 'o3' ], shade= True, label= '2012', color= 'r' )\n",
    "\n",
    "# Filter dataset to everything except the year 2012\n",
    "sns.kdeplot( x= poln_df.loc[ poln_df.index > '2012-12-31', 'o3' ], shade= True, label= 'Other years', color= 'b' )\n",
    "\n",
    "ax.legend()\n",
    "\n",
    "plt.show()"
   ]
  },
  {
   "cell_type": "markdown",
   "id": "450",
   "metadata": {},
   "source": [
    "From this plot, we can see that 2012 had slightly higher than typical O3 levels, which may explain the filter sales. However, keen observers will note that some of our cities don't have full data for 2012, which could skew the trends. Next up we will look at techniques that can help out KDE's be more honest about this lack of data."
   ]
  },
  {
   "cell_type": "markdown",
   "id": "451",
   "metadata": {},
   "source": [
    "#### 5.1.2.2 Improving the KDEs with `Rug plot`\n",
    "\n",
    "Rug plots are little dashes drawn beneath the density that show precisely where each data point falls. Adding a rug plot is particularly useful when there isn't a ton of data.\n",
    "\n",
    "With small amounts of data there is often gaps along the x-axis, and it can be hard to tell whether a non-zero KDE line means data was present or is due to a wide kernel. A rug plot helps address this."
   ]
  },
  {
   "cell_type": "code",
   "execution_count": null,
   "id": "452",
   "metadata": {},
   "outputs": [],
   "source": [
    "# comapring KDE for a city vs all data - minus that city\n",
    "\n",
    "my_city = 'Des Moines'\n",
    "\n",
    "sns.kdeplot( x= poln_df.loc[ poln_df.city == my_city, 'o3' ], color= 'steelblue', shade= True )\n",
    "sns.rugplot( x= poln_df.loc[ poln_df.city == my_city, 'o3' ], color= 'navy', height= 0.1 )\n",
    "              \n",
    "sns.kdeplot( x= poln_df.loc[ poln_df.city != my_city, 'o3' ], color= 'lightcoral', shade= True )\n",
    "sns.rugplot( x= poln_df.loc[ poln_df.city != my_city, 'o3' ], color= 'darkred', height= 0.05 )\n",
    "             "
   ]
  },
  {
   "cell_type": "markdown",
   "id": "453",
   "metadata": {},
   "source": [
    "Thus, Rug plots can improve KDEs as they help to observe and notice those gaps that one may have otherwise assumed were filled with data."
   ]
  },
  {
   "cell_type": "markdown",
   "id": "454",
   "metadata": {},
   "source": [
    "#### 5.1.2.3 Beeswarms\n",
    "\n",
    "Let's build a beeswarm plot using `sns.swarmplot()` that looks at the Ozone levels for all the cities in the pollution data for the month of March.\n",
    "\n",
    "    to make the beeswarm a bit more legible,we can decrease the point size to avoid the overcrowding caused by the many points drawn on the screen"
   ]
  },
  {
   "cell_type": "markdown",
   "id": "455",
   "metadata": {},
   "source": [
    "#### changing the legend text axis-by-axis"
   ]
  },
  {
   "cell_type": "code",
   "execution_count": null,
   "id": "456",
   "metadata": {},
   "outputs": [],
   "source": [
    "# plotting ample multiple kde clutters the plot and makes it unintelligible and hard-to-follow\n",
    "# plt.style.use( style= 'classic' )\n",
    "\n",
    "fig = plt.figure( figsize= (20,8) )\n",
    "grd = gridspec.GridSpec( 1,2, width_ratios= [2,3] ) \n",
    "\n",
    "# kde plot\n",
    "ax0 = plt.subplot( grd[0] )\n",
    "ax0 = sns.kdeplot( ax= ax0, data= poln_df, x= 'o3', hue= 'city' )\n",
    "ax0.set_title( 'KDE plot for Ozone at different cities' )\n",
    "\n",
    "# legend text size\n",
    "plt.setp( ax0.get_legend().get_texts(), fontsize='9' ) \n",
    "plt.setp( ax0.get_legend().get_title(), fontsize='9' ) \n",
    "\n",
    "# beeswarm plot\n",
    "ax1 = plt.subplot( grd[1] )\n",
    "ax1 = sns.swarmplot( ax= ax1, data= poln_df, x= 'o3', y= 'city', size= 3 )\n",
    "ax1.set_ylabel('')\n",
    "ax1.set_title( 'Beeswarms/Swarmplot for Ozone at different cities' )\n",
    "\n",
    "plt.tight_layout()\n",
    "\n",
    "plt.show()"
   ]
  },
  {
   "cell_type": "markdown",
   "id": "457",
   "metadata": {},
   "source": [
    "`Beeswarms` are a nice (and nice looking) way of comparing a bunch of classes to each other. In the plot, we can observe that:\n",
    "    \n",
    "    - Denver & Indianapolis on average has high O3 levels\n",
    "    - However, Houston has a much wider range and can sometimes reach much higher levels, while variation is             relatively low for Des Moines & Vadenberg\n",
    "    - Additionally, we can also get a sense of data quantities; we see that Fairbanks has fewer observations than         the other sites"
   ]
  },
  {
   "cell_type": "markdown",
   "id": "458",
   "metadata": {},
   "source": [
    "<div id= '5.1.3'></div>\n",
    "\n",
    "###  5.1.3 Annotations\n",
    "<i>[Go to top](#toc)</i>"
   ]
  },
  {
   "cell_type": "markdown",
   "id": "459",
   "metadata": {},
   "source": [
    "####  5.1.3.1 A (basic) text-only annotation\n",
    "\n",
    "On the scatter plot below, there is a particularly prominent point that contains the largest SO2 value observed for August. This point is Cincinnati on August 11th, 2013; however, it is not possible to be aware about this information from the plot in its current form. Basic text annotations are great for pointing out interesting outliers and giving a bit more information.\n",
    "\n",
    "Lets's draw the readers attention to this Cincinnati value by adding a basic text annotation that gives a bit of the background about this outlier."
   ]
  },
  {
   "cell_type": "code",
   "execution_count": null,
   "id": "460",
   "metadata": {},
   "outputs": [],
   "source": [
    "# func to get month from datetime object\n",
    "def get_ymd ( ser_dtObj, tp = 'm' ):\n",
    "    if tp == 'y': return( datetime.datetime.strptime( str(ser_dtObj)[:10],'%Y-%m-%d' ).year )\n",
    "    elif tp == 'm': return( datetime.datetime.strptime( str(ser_dtObj)[:10],'%Y-%m-%d' ).month )\n",
    "    elif tp == 'd': return( datetime.datetime.strptime( str(ser_dtObj)[:10],'%Y-%m-%d' ).day )\n",
    "    else: return( 'invalid_time_input' )\n",
    "    \n",
    "\n",
    "poln_df['year'] = poln_df['date_clean'].apply( lambda ser: get_ymd( ser,'y' ) )\n",
    "poln_df['month'] = poln_df['date_clean'].apply( lambda ser: get_ymd( ser,'m' ) )\n",
    "poln_df['day'] = poln_df['date_clean'].apply( lambda ser: get_ymd( ser,'d' ) )"
   ]
  },
  {
   "cell_type": "code",
   "execution_count": null,
   "id": "461",
   "metadata": {},
   "outputs": [],
   "source": [
    "poln_df[ poln_df.month==8 ].co"
   ]
  },
  {
   "cell_type": "code",
   "execution_count": null,
   "id": "462",
   "metadata": {},
   "outputs": [],
   "source": [
    "## plot for august data only\n",
    "fig, ax = plt.subplots( figsize= (6,3.5) )\n",
    "\n",
    "sns.scatterplot( x= 'co', y= 'no2', data= poln_df[ poln_df.month==8 ] )\n",
    "\n",
    "plt.text( x= 0.7, y= 60, s= 'Cincinnati had highest observed\\nSO2 value on Aug 11, 2013',\n",
    "      fontdict= { 'ha':'left','size':'small' } )\n",
    "\n",
    "plt.show()"
   ]
  },
  {
   "cell_type": "markdown",
   "id": "463",
   "metadata": {},
   "source": [
    "####  5.1.3.2 Arrow annotations\n",
    "\n",
    "Let's work over the pollution data @ Long Beach, California. Long Beach is located on the Pacific Ocean and has a large firework show every New Year's Eve. We want to look into whether this fireworks show negatively impacts the air quality of the city. To do this, we will look at CO and NO2 levels on New Year's Day. However, it turns out that New Year's Day is not one of the outliers in the plot on the right, it's located in one of the more crowded areas.\n",
    "\n",
    "To help guide the reader to this point, we'll use an annotation along with an arrow that points to the New Year's Day value. This will provide a nice annotation that explains what the viewer is looking while printing the text in a less crowded region of the plot."
   ]
  },
  {
   "cell_type": "code",
   "execution_count": null,
   "id": "464",
   "metadata": {},
   "outputs": [],
   "source": [
    "fig, ax = plt.subplots( figsize= (6,3) )\n",
    "\n",
    "# query and filter to New Year 2012 in Long Beach\n",
    "lb_Jan2012_df = poln_df.query( \"city== 'Long Beach' and year== 2012 and month== 1\" )\n",
    "\n",
    "sns.scatterplot( x= 'co', y= 'no2', data= lb_Jan2012_df )\n",
    "\n",
    "# Set the endpoint of the arrow (xy) by using the CO and NO2 colm values from the lb_Jan2012_df\n",
    "plt.annotate( 'Long Beach \\n New Years',\n",
    "              xy= ( lb_Jan2012_df.co[0],lb_Jan2012_df.no2[0] ), xytext= (2.5,25), xycoords = 'data',\n",
    "              arrowprops= {'facecolor':'gray','width':3,'shrink': 0.03},\n",
    "              backgroundcolor= 'white' )"
   ]
  },
  {
   "cell_type": "markdown",
   "id": "465",
   "metadata": {},
   "source": [
    "####  5.1.3.3 Combining annotations and color\n",
    "\n",
    "Its a suspect that the Long Beach, California has a smog problem. Using the pollution data, we'll attempt to make a point for increasing smog reduction regulations using data visualization and audience-guiding technique. Specifically, we want to focus on the relationship of CO to O3 levels during 2014 at a city council meeting.\n",
    "\n",
    "To emphasize how Long Beach compares to a set of peer cities, we've decided to highlight Long Beach and draw attention to a particularly bad day where the CO level was 1.6 and O3 was 0.072 using an annotation."
   ]
  },
  {
   "cell_type": "markdown",
   "id": "466",
   "metadata": {},
   "source": [
    "    ➪ make a vector of colors for each point with 'orangered' if the point belongs to Long Beach, else 'lightgray'"
   ]
  },
  {
   "cell_type": "code",
   "execution_count": null,
   "id": "467",
   "metadata": {},
   "outputs": [],
   "source": [
    "# (A) using apply\n",
    "\n",
    "def highlight_obs( ser, city_nm ):\n",
    "    if ser == city_nm: colr = 'orangered'\n",
    "    else: colr = 'lightgray'\n",
    "    return( colr )\n",
    "\n",
    "highlighted_city_Ser = poln_df['city'].apply( lambda ser: highlight_obs(ser,'Long Beach') )"
   ]
  },
  {
   "cell_type": "code",
   "execution_count": null,
   "id": "468",
   "metadata": {},
   "outputs": [],
   "source": [
    "# (B) using list comprehensive\n",
    "highlighted_city_ls = [ 'orangered' if e_Ser_city == 'Long Beach' else 'lightgray'\\\n",
    "                        for e_Ser_city in poln_df.city ]"
   ]
  },
  {
   "cell_type": "code",
   "execution_count": null,
   "id": "469",
   "metadata": {},
   "outputs": [],
   "source": [
    "print( highlighted_city_Ser.to_list() == highlighted_city_ls )"
   ]
  },
  {
   "cell_type": "code",
   "execution_count": null,
   "id": "470",
   "metadata": {},
   "outputs": [],
   "source": [
    "# map facecolors to the list highlighted_city and set alpha to 0.3\n",
    "\n",
    "sns.regplot( x= 'co', y= 'o3', data= poln_df,\n",
    "             fit_reg= False,\n",
    "             scatter_kws= {'facecolors':highlighted_city_Ser,'alpha':0.4}\n",
    "            # ⇗ providing highlighted_city (both Series and list are accepted)\n",
    "           )  \n",
    "# annotate at x, = 1.8,0.08 - 'April 30th, Bad Day' to draw attention to that specific observation\n",
    "plt.text( x= 1.8, y= 0.08, s= 'April 30th, Long Beach data - High pollution' )\n",
    "\n",
    "plt.show()"
   ]
  },
  {
   "cell_type": "markdown",
   "id": "471",
   "metadata": {},
   "source": [
    "<hr>\n",
    "<div id= '5.2'></div>\n",
    "\n",
    "## Chapter 5.2 - Using Color in visualizations\n",
    "Color is a powerful tool for encoded values in data visualization. However, with this power comes danger.\n",
    "\n",
    "    - choose an appropriate color palette for the visualization based upon the type of data it is displaying\n",
    "\n",
    "<div id= '5.2.1'></div>\n",
    "\n",
    "###  5.2.1 Color in visualizations 101\n",
    "<i>[Go to top](#toc)</i>"
   ]
  },
  {
   "cell_type": "markdown",
   "id": "472",
   "metadata": {},
   "source": [
    "#### Getting rid of unnecessary color\n",
    "\n",
    "Let's compare the relationship CO to NO2 values across cities using a simple scatter plot with color to differentiate the different cities' data. "
   ]
  },
  {
   "cell_type": "code",
   "execution_count": null,
   "id": "473",
   "metadata": {},
   "outputs": [],
   "source": [
    "fig, ax = plt.subplots( figsize= (7,3.5) )\n",
    "\n",
    "sns.scatterplot( ax= ax, x= 'co', y= 'no2', data= poln_df,\n",
    "                 hue= 'city', alpha= 0.4 )\n",
    "ax.legend( loc= 'upper right', prop= {'size':9} )\n",
    "\n",
    "plt.tight_layout()"
   ]
  },
  {
   "cell_type": "markdown",
   "id": "474",
   "metadata": {},
   "source": [
    "To remedy this hard-to-read chart, we get rid of the color component and then by each city. While the resulting plot may not be as pretty, it will be a much better tool to decipher the differences."
   ]
  },
  {
   "cell_type": "code",
   "execution_count": null,
   "id": "475",
   "metadata": {},
   "outputs": [],
   "source": [
    "fctGrd1 = sns.FacetGrid( data= poln_df, col= 'city', col_wrap= 4 )\n",
    "\n",
    "fctGrd1.map_dataframe( func= sns.scatterplot, x= 'co', y= 'no2',\n",
    "                       alpha= 0.4 )\n",
    "plt.show()"
   ]
  },
  {
   "cell_type": "markdown",
   "id": "476",
   "metadata": {},
   "source": [
    "#### Fixing Seaborn's bar charts\n",
    "\n",
    "Seaborn's default values for the colors of bars in a bar chart are not ideal for the most accurate perception. By drawing each bar as a different color, there is a risk of the viewer seeing two identical sized bars as different sizes as people tend to see some colors as 'larger' than others.\n",
    "\n",
    "Two easy ways to fix this:\n",
    "\n",
    "    - border around the bars\n",
    "    - all bar having same color/pattern"
   ]
  },
  {
   "cell_type": "code",
   "execution_count": null,
   "id": "477",
   "metadata": {},
   "outputs": [],
   "source": [
    "fig, ax = plt.subplots( 2,2, figsize= (15,6), sharex= True, sharey= True )\n",
    "\n",
    "sns.barplot( ax= ax[0][0], x= 'co', y= 'city', data= poln_df,estimator= np.mean, ci= False, )\n",
    "\n",
    "sns.barplot( ax= ax[0][1], x= 'co', y= 'city', data= poln_df,estimator= np.mean, ci= False,\n",
    "             edgecolor= 'black', linewidth= 2.5 )\n",
    "\n",
    "sns.barplot( ax= ax[1][0], x= 'co', y= 'city', data= poln_df,estimator= np.mean, ci= False,\n",
    "             color= 'cadetblue' )\n",
    "\n",
    "sns.barplot( ax= ax[1][1], x= 'co', y= 'city', data= poln_df,estimator= np.mean, ci= False,\n",
    "              color= 'cadetblue', **{'hatch':'/'} )\n",
    "\n",
    "# swtich off y-axis label for all\n",
    "[ ax[i][j].set_ylabel( '' ) for i in range(ax.shape[0]) for j in range(ax.shape[1]) ];\n",
    "  \n",
    "plt.tight_layout()"
   ]
  },
  {
   "cell_type": "markdown",
   "id": "478",
   "metadata": {},
   "source": [
    "<div id= '5.2.2'></div>\n",
    "\n",
    "###  5.2.2 Continuous color palettes\n",
    "<i>[Go to top](#toc)</i>"
   ]
  },
  {
   "cell_type": "markdown",
   "id": "479",
   "metadata": {},
   "source": [
    "### using simpler combination of color: plotting `heatmap` of `co` amount for Denver for the year 2015\n",
    "    - rainbow                    - blue color with ordered intensity\n",
    "    - diverging with no order    - 4 colors blend, color intensity matches param conc. with 6 classes"
   ]
  },
  {
   "cell_type": "code",
   "execution_count": null,
   "id": "480",
   "metadata": {},
   "outputs": [],
   "source": [
    "fig, ax = plt.subplots( 2,2, figsize= (15,4.5), sharey= True )\n",
    "\n",
    "palette_ls = [ \"sns.color_palette('rainbow')\", \"sns.light_palette('steelblue')\",\n",
    "               \"sns.diverging_palette( h_neg=250,h_pos=0)\",\n",
    "               \"sns.color_palette( palette= 'blend:white,lightsteelblue,steelblue,rosybrown,maroon,black',\\\n",
    "                                   n_colors= 6 )\"\n",
    "             ]\n",
    "\n",
    "title_ls = [ 'Rainbow <too many colors and no order: \\n difficult to track/comprehend>',             \n",
    "             'Diverging color with dark blue -as- higher intensity \\n & white -as- median value <confusion>',\n",
    "             'Single color - diff intensity \\n <OK but sometimes difficult to track>',\n",
    "             '4 colors blend, color intensity matches param conc. \\n with 6 classes <best for this case>' ]\n",
    "i = 0\n",
    "for e_r in range(ax.shape[0]):\n",
    "    for e_c in range(ax.shape[1]):        \n",
    "        \n",
    "        sns.heatmap( ax= ax[e_r][e_c],\n",
    "                     data= poln_df.loc[ (poln_df.city == 'Denver') & (poln_df.year == 2015), ['co'] ].T,\n",
    "                     cmap= eval(palette_ls[i]) )\n",
    "        \n",
    "        ax[e_c][e_r].set_title( title_ls[i] )        \n",
    "        ax[e_c][e_r].get_xaxis().set_visible( False )      \n",
    "            \n",
    "        i += 1\n",
    "                \n",
    "plt.tight_layout()"
   ]
  },
  {
   "cell_type": "markdown",
   "id": "481",
   "metadata": {},
   "source": [
    "#### Diverging color when comparing extreme ends and middle values"
   ]
  },
  {
   "cell_type": "code",
   "execution_count": null,
   "id": "482",
   "metadata": {},
   "outputs": [],
   "source": [
    "## cross tabulation - input for heatmap\n",
    "\n",
    "plt.style.use('dark_background'); sns.set_context( context= 'notebook' )\n",
    "\n",
    "bike_xtab_mean = pd.crosstab( index= bike_df.mnth, columns= bike_df.weekday,\n",
    "                             values= bike_df.total_rentals, aggfunc = np.mean ).astype(int)\n",
    "\n",
    "print( bike_xtab_std )\n",
    "bike_df.head(3)"
   ]
  },
  {
   "cell_type": "code",
   "execution_count": null,
   "id": "483",
   "metadata": {},
   "outputs": [],
   "source": [
    "fig,ax = plt.subplots( 2,2, figsize= (25,20), sharex= True, sharey= True )\n",
    "\n",
    "# sns.heatmap(  )\n",
    "\n",
    "light_diverging_palt = sns.diverging_palette( h_neg= 250, h_pos= 0, center= 'light' )\n",
    "dark_diverging_palt  = sns.diverging_palette( h_neg= 250, h_pos= 0, center= 'dark'  )\n",
    "\n",
    "palette_ls = [ \"None\",\n",
    "               \"sns.color_palette( palette= 'blend:white,lightsteelblue,steelblue,rosybrown,maroon,black',\\\n",
    "                                   n_colors= 6 )\",\n",
    "               \"sns.diverging_palette( h_neg= 250, h_pos= 0, center= 'dark'  )\",              \n",
    "               \"sns.diverging_palette(h_neg= 250, h_pos= 0, center= 'light')\"              ]\n",
    "\n",
    "title_ls = [ 'Default (None)',\n",
    "             'Diverging: with dark color for mean values \\n <confusing due to dark color for mean values>',\n",
    "             '4 colors with 6 classes \\n <is suitable if the order of param value is our concern>',\n",
    "             'Diverging: with light color for mean values \\n <is suitable when extreme + & - are our concern>' ]\n",
    "\n",
    "i = 0\n",
    "for e_r in range(ax.shape[0]):\n",
    "    for e_c in range(ax.shape[1]):        \n",
    "        \n",
    "        sns.heatmap( ax= ax[e_r][e_c], data= bike_xtab_mean,\n",
    "                     annot= True, fmt= 'd',\n",
    "                     cmap= eval(palette_ls[i]) )\n",
    "        \n",
    "        ax[e_c][e_r].set_title( title_ls[i], fontsize= 30 )        \n",
    " \n",
    "            \n",
    "        i += 1\n",
    "                \n",
    "plt.tight_layout()"
   ]
  },
  {
   "cell_type": "markdown",
   "id": "484",
   "metadata": {},
   "source": [
    "#### More sensible case:\n",
    "\n",
    "Diverging color when comparing extreme ends and middle values of `Standard Deviation`: another example (`poln_df`)"
   ]
  },
  {
   "cell_type": "code",
   "execution_count": null,
   "id": "485",
   "metadata": {},
   "outputs": [],
   "source": [
    "# pivot table\n",
    "\n",
    "poln_month_PVdf = poln_df.pivot_table( index= ['city'], columns= ['month'],\n",
    "                                       values= ['co','o3'], aggfunc = [np.mean] )\n",
    "poln_month_PVdf"
   ]
  },
  {
   "cell_type": "markdown",
   "id": "486",
   "metadata": {},
   "source": [
    "##### extracting df table from Pivot-table removing multi-hierarchy/Multi-Index colms for 'co'"
   ]
  },
  {
   "cell_type": "code",
   "execution_count": null,
   "id": "487",
   "metadata": {},
   "outputs": [],
   "source": [
    "# multi-index colms\n",
    "print( poln_month_PVdf.columns )"
   ]
  },
  {
   "cell_type": "code",
   "execution_count": null,
   "id": "488",
   "metadata": {},
   "outputs": [],
   "source": [
    "poln_month_co_df = poln_month_PVdf[ ('mean','co') ]\n",
    "\n",
    "poln_month_PVdf[ ('mean','o3') ]  # <-- this is to extract o3 instead of co\n",
    "\n",
    "poln_month_co_df"
   ]
  },
  {
   "cell_type": "markdown",
   "id": "489",
   "metadata": {},
   "source": [
    "#### OR simply use `pd.crosstab( )`"
   ]
  },
  {
   "cell_type": "code",
   "execution_count": null,
   "id": "490",
   "metadata": {},
   "outputs": [],
   "source": [
    "pd.crosstab( index= poln_df.city, columns= poln_df.month,\n",
    "             values= poln_df.co, aggfunc= np.mean )"
   ]
  },
  {
   "cell_type": "code",
   "execution_count": null,
   "id": "491",
   "metadata": {},
   "outputs": [],
   "source": [
    "fig,ax = plt.subplots( 2,2, figsize= (25,20), sharex= True, sharey= True )\n",
    "\n",
    "light_diverging_palt = sns.diverging_palette( h_neg= 250, h_pos= 0, center= 'light' )\n",
    "dark_diverging_palt  = sns.diverging_palette( h_neg= 250, h_pos= 0, center= 'dark'  )\n",
    "\n",
    "palette_ls = [ \"None\",\n",
    "               \"sns.color_palette( palette= 'blend:white,lightsteelblue,steelblue,rosybrown,maroon,black',\\\n",
    "                                   n_colors= 6 )\",\n",
    "               \"sns.diverging_palette( h_neg= 250, h_pos= 0, center= 'dark'  )\",              \n",
    "               \"sns.diverging_palette(h_neg= 250, h_pos= 0, center= 'light')\"              ]\n",
    "\n",
    "title_ls = [ 'Default (None)',\n",
    "             'Diverging: with dark color for std values \\n <confusing due to dark color for std values>',\n",
    "             '4 colors with 6 classes \\n <is suitable if the order of param value is our concern>',\n",
    "             'Diverging: with light color for std values \\n <is best when extreme + & - are our concern>' ]\n",
    "\n",
    "i = 0\n",
    "for e_r in range(ax.shape[0]):\n",
    "    for e_c in range(ax.shape[1]):        \n",
    "        \n",
    "        sns.heatmap( ax= ax[e_r][e_c], data= poln_month_co_df,                   \n",
    "                     annot= True, \n",
    "                     cmap= eval(palette_ls[i]) )\n",
    "        \n",
    "        ax[e_c][e_r].set_title( title_ls[i], fontsize= 30 )        \n",
    " \n",
    "            \n",
    "        i += 1\n",
    "                \n",
    "plt.tight_layout()"
   ]
  },
  {
   "cell_type": "markdown",
   "id": "492",
   "metadata": {},
   "source": [
    "#### Centering a `heatmap` around a point"
   ]
  },
  {
   "cell_type": "code",
   "execution_count": null,
   "id": "493",
   "metadata": {},
   "outputs": [],
   "source": [
    "poln_Nov2015_co = poln_df.query( expr= \" year== 2015 and month== 11\" )[ ['city','co','day'] ]\n",
    "\n",
    "poln_Nov2015_co_xtab = pd.crosstab( index= poln_Nov2015_co.city, columns= poln_Nov2015.day,\n",
    "                                    values= poln_Nov2015_co.co, aggfunc= np.mean )"
   ]
  },
  {
   "cell_type": "code",
   "execution_count": null,
   "id": "494",
   "metadata": {},
   "outputs": [],
   "source": [
    "fig, ax = plt.subplots( 3,1, figsize = (30,18) )\n",
    "\n",
    "sns.heatmap( ax= ax[0], data= poln_Nov2015_co_xtab, annot= True, fmt= '.2f',\n",
    "             cmap= sns.diverging_palette(250,0, as_cmap=True), vmin= 0.2, vmax= 3 )\n",
    "ax[0].set_title( 'Without user centering with: co ϵ (0.2,3.0)', fontsize= 30 ) \n",
    "\n",
    "sns.heatmap( ax= ax[1], data= poln_Nov2015_co_xtab, annot= True, fmt= '.2f',\n",
    "             center= 1, cmap= sns.diverging_palette(250,0, as_cmap=True), vmin= 0.2, vmax= 3 )\n",
    "ax[1].set_title( 'With user centering @ co = 1 with: co ϵ (0.2,3.0)', fontsize= 30 ) \n",
    "\n",
    "sns.heatmap( ax= ax[2], data= poln_Nov2015_co_xtab, annot= True, fmt= '.2f',\n",
    "             center= 1, cmap= sns.diverging_palette(250,0, as_cmap=True), vmin= -3, vmax= 3 )\n",
    "ax[2].set_title( 'With user centering @ co = 1 with: co ϵ (-3,3) <wrong co min limit> : results wrong heatmap',\n",
    "                 fontsize= 30 )\n",
    "\n",
    "plt.tight_layout()"
   ]
  },
  {
   "cell_type": "markdown",
   "id": "495",
   "metadata": {},
   "source": [
    "#### `dark_background`: "
   ]
  },
  {
   "cell_type": "code",
   "execution_count": null,
   "id": "496",
   "metadata": {},
   "outputs": [],
   "source": [
    "plt.style.use( 'dark_background' )\n",
    "\n",
    "fig, ax = plt.subplots( 3,1, figsize = (30,18) )\n",
    "\n",
    "dark_col_palt = sns.diverging_palette( 250,0, center = 'dark', as_cmap = True )\n",
    "\n",
    "sns.heatmap( ax= ax[0], data= poln_Nov2015_co_xtab, annot= True, fmt= '.2f',\n",
    "             cmap= dark_col_palt , vmin= 0.2, vmax= 3 )\n",
    "ax[0].set_title( 'Without user centering with: co ϵ (0.2,3.0)', fontsize= 30 ) \n",
    "\n",
    "sns.heatmap( ax= ax[1], data= poln_Nov2015_co_xtab, annot= True, fmt= '.2f',\n",
    "             center= 1, cmap= dark_col_palt, vmin= 0.2, vmax= 3 )\n",
    "ax[1].set_title( 'With user centering @ co = 1 with: co ϵ (0.2,3.0)', fontsize= 30 ) \n",
    "\n",
    "sns.heatmap( ax= ax[2], data= poln_Nov2015_co_xtab, annot= True, fmt= '.2f',\n",
    "             center= 1, cmap= dark_col_palt, vmin= -3, vmax= 3 )\n",
    "ax[2].set_title( 'With user centering @ co = 1 with: co ϵ (-3,3) <wrong co min limit> : results wrong heatmap',\n",
    "                 fontsize= 30 )\n",
    "\n",
    "plt.tight_layout()"
   ]
  },
  {
   "cell_type": "markdown",
   "id": "497",
   "metadata": {},
   "source": [
    "<div id= '5.2.3'></div>\n",
    "\n",
    "###  5.2.3 Categorical palettes\n",
    "<i>[Go to top](#toc)</i>"
   ]
  },
  {
   "cell_type": "markdown",
   "id": "498",
   "metadata": {},
   "source": [
    "#### example of color palette for `Nominal` (categorical) data"
   ]
  },
  {
   "cell_type": "code",
   "execution_count": null,
   "id": "499",
   "metadata": {},
   "outputs": [],
   "source": [
    "colorBrewer_palt_ls = [ 'Set1', 'Set2', 'Set3', 'Accent',\n",
    "                        'Paired', 'Pastel1', 'Pastel2', 'Dark2' ]\n",
    "\n",
    "for _,e_palt in enumerate( colorBrewer_palt_ls ):\n",
    "    sns.palplot( pal= sns.color_palette(e_palt,n_colors=10), size= 0.5 )"
   ]
  },
  {
   "cell_type": "markdown",
   "id": "500",
   "metadata": {},
   "source": [
    "#### example of color palette for `Ordinal` (categorical) data"
   ]
  },
  {
   "cell_type": "code",
   "execution_count": null,
   "id": "501",
   "metadata": {},
   "outputs": [],
   "source": [
    "colorBrewer_palt_ls = [ 'Reds', 'Blues', 'YlOrBr', 'PuBuGn', 'GnBu', 'Greys' ]\n",
    "\n",
    "for _,e_palt in enumerate( colorBrewer_palt_ls ):\n",
    "    sns.palplot( pal= sns.color_palette(e_palt,n_colors=10), size= 0.5 )"
   ]
  },
  {
   "cell_type": "markdown",
   "id": "502",
   "metadata": {},
   "source": [
    "#### seaborn automatically divide the ordinal data vs user manual division when passed for `hue`"
   ]
  },
  {
   "cell_type": "code",
   "execution_count": null,
   "id": "503",
   "metadata": {},
   "outputs": [],
   "source": [
    "poln_df['month_categ'] = pd.qcut( x= poln_df.month, q= 4, labels= False )\n"
   ]
  },
  {
   "cell_type": "code",
   "execution_count": null,
   "id": "504",
   "metadata": {},
   "outputs": [],
   "source": [
    "plt.style.use( 'classic' )\n",
    "\n",
    "fig,ax = plt.subplots( 1,2, figsize= (12,3.5), sharey= True )\n",
    "\n",
    "sns.scatterplot( ax= ax[0], x= 'co', y= 'no2', data= poln_df,\n",
    "                hue= 'month',             # <- sns automatically classifies ordinal 'months' when passed in hue\n",
    "                palette= 'Set2')\n",
    "ax[0].set_title( 'sns automatically classifies \\n ordinal \"month\" when passed in hue' )\n",
    "ax[0].legend( prop= {'size':9} )\n",
    "\n",
    "# manually classifying ordinal data\n",
    "poln_df['month_categ'] = pd.qcut( x= poln_df.month, q= 4, labels= False )\n",
    "\n",
    "sns.scatterplot( ax= ax[1], x= 'co', y= 'no2', data= poln_df,\n",
    "                 hue= 'month_categ',        # <- month is manually classified to ordinal 'month_categ'\n",
    "                 palette= 'Set2' )\n",
    "ax[1].set_title( 'month is manually classified to \\n ordinal \"month_categ\" and then passed to hue' )\n",
    "ax[1].legend( prop= {'size':9} )"
   ]
  },
  {
   "cell_type": "markdown",
   "id": "505",
   "metadata": {},
   "source": [
    "#### seaborn automatically divide the ordinal data vs user manual division when passed for `hue`: another example, another variable\n",
    "\n",
    "We are working for the Des Moines city council to assess the associations of various pollutant levels in the city. The two most important pollutants are SO2 and NO2 but CO is also of interest. We've only been allowed enough space for a single plot.\n",
    "\n",
    "We start with a scatter plot of the SO2 and NO2 values as they are most important and then decide to show the CO values using a color scale corresponding to CO quartiles. By binning the continuous CO values, we will turned CO into an ordinal variable that can illuminate broad patterns without requiring much effort from the viewer to compare subtly different shades."
   ]
  },
  {
   "cell_type": "code",
   "execution_count": null,
   "id": "506",
   "metadata": {},
   "outputs": [],
   "source": [
    "# working only for Des Moine\n",
    "poln_des_df = poln_df.query( \" city== 'Des Moines' \" )\n",
    "\n",
    "fig,ax = plt.subplots( 1,2, figsize= (12,3.5), sharey= True )\n",
    "\n",
    "sns.scatterplot( ax= ax[0], x= 'so2', y= 'no2', data= poln_des_df,\n",
    "                 hue= 'co' )\n",
    "ax[0].set_title( \"sns auto classifies numerical 'CO' and then \\n treating it as ordinal when passed in hue\" )\n",
    "ax[0].legend( prop= {'size':9} )\n",
    "\n",
    "# manually classifying ordinal data\n",
    "poln_df['co_class'] = pd.qcut( x= poln_df.co, q= 4, labels= False )\n",
    "\n",
    "my_color_palt = sns.set_palette(\n",
    "                    sns.color_palette(['lightskyblue','steelblue','indianred','maroon','black'], as_cmap= True)\n",
    "                )\n",
    "\n",
    "ax[1] = sns.scatterplot( ax= ax[1], x= 'so2', y= 'no2', data= poln_des_df,\n",
    "                         hue= 'co_class',                  # <- 'CO' is manually classified to ordinal 'co_class'\n",
    "                         palette= my_color_palt )\n",
    "                                                               \n",
    "ax[1].set_title( \"'CO' is manually classified to \\n ordinal 'co_class' and then plotted\" )\n",
    "ax[1].legend( prop= {'size':9} )\n",
    "\n",
    "plt.tight_layout()"
   ]
  },
  {
   "cell_type": "markdown",
   "id": "507",
   "metadata": {},
   "source": [
    "By simplifying the color encoding to just 4 distinct values, we get a clear picture of the patterns between CO, SO2, and NO2. We observe that:\n",
    "    \n",
    "    - low quartiles of CO seem to relate with NO2\n",
    "    - and appear much less related to the SO2 values. By categorizing the continuous color variable, you allow the viewer to investigate patterns along a third variable in a clear and simple way at the expense of some precision: a tradeoff that is often worth it.\n",
    "    \n",
    "<hr>"
   ]
  },
  {
   "cell_type": "markdown",
   "id": "508",
   "metadata": {},
   "source": [
    "### Dealing with too many categories\n",
    "\n",
    "Sometimes Data Analyst may be short on figure space and need to show a lot of data at once.\n",
    "\n",
    "Case: We want to show the year-long trajectory of pollutants for every city in the pollution dataset. Each pollutant trajectory will be plotted as a line with the y-value corresponding to average month data ( averaged over 4 years). This means we will have a lot of lines on your plot at once -- way more than we could separate clearly with color.\n",
    "\n",
    "To deal with this, we have decided to highlight on a small subset of two city pollutants - CO & Ozone for 3 concerned cities - Cincinnati, Denver, Houston. This subset is the most important to us, and the other trajectories will provide valuable context for comparison. To focus attention, we will set all the non-highlighted trajectories lines to of the same lighter color (grey)."
   ]
  },
  {
   "cell_type": "code",
   "execution_count": null,
   "id": "509",
   "metadata": {},
   "outputs": [],
   "source": [
    "# summarizing for mean month data (averaged over 4 years)\n",
    "\n",
    "poln_CityMonth_PVdf = poln_df.pivot_table( index= ['city','month'], values= [ 'co','o3' ], aggfunc= np.mean )\n",
    "print( f'poln_CityMonth_PVdf : <MULTI INDEX> = \\n\\n {poln_CityMonth_PVdf}')\n",
    "\n",
    "print('\\n------------------------------------------------------------------------------------------------------\\n')\n",
    "\n",
    "# reset multiindex to single index df for easiness\n",
    "\n",
    "poln_CityMonth_PVdf = poln_CityMonth_PVdf.reset_index()\n",
    "print( f'poln_CityMonth_PVdf : <Simplified SINGLE INDEX> = \\n\\n {poln_CityMonth_PVdf}')"
   ]
  },
  {
   "cell_type": "code",
   "execution_count": null,
   "id": "510",
   "metadata": {},
   "outputs": [],
   "source": [
    "# shortening the coln name for convenience\n",
    "poln_CityMonth_PVdf.loc[ poln_CityMonth_PVdf.city == 'Vandenberg Air Force Base', 'city' ] = 'Vandenberg'"
   ]
  },
  {
   "cell_type": "code",
   "execution_count": null,
   "id": "511",
   "metadata": {},
   "outputs": [],
   "source": [
    "# renaming non-concerned cities to others\n",
    "\n",
    "concerned_cities_ls = [ 'Cincinnati', 'Denver', 'Houston' ]\n",
    "\n",
    "poln_CityMonth_PVdf['city_categ'] = [ e_city if e_city in concerned_cities_ls else 'Others'\\\n",
    "                                      for e_city in poln_CityMonth_PVdf.city ]"
   ]
  },
  {
   "cell_type": "markdown",
   "id": "512",
   "metadata": {},
   "source": [
    "#### notice the `unit` argument in `sns.lineplot ()`"
   ]
  },
  {
   "cell_type": "code",
   "execution_count": null,
   "id": "513",
   "metadata": {},
   "outputs": [],
   "source": [
    "fig,ax = plt.subplots( 2,1, figsize= (15,10), sharex= True  )\n",
    "\n",
    "# main y axis i.e. for CO\n",
    "ax[0] = sns.lineplot( ax= ax[0], x= 'month', y= 'co', data= poln_CityMonth_PVdf,\n",
    "                      hue= 'city', linewidth= 2 )\n",
    "ax[0].legend( bbox_to_anchor= (1.1,1), loc= 2, title= 'CO & O3' )\n",
    "plt.setp( ax[0].get_legend().get_texts(), fontsize='13' )\n",
    "\n",
    "# twin Y-axis i.e. for O3\n",
    "ax_twin0 = ax[0].twinx()\n",
    "ax_twin0 = sns.lineplot( ax= ax_twin0, x= 'month', y= 'o3', data= poln_CityMonth_PVdf,\n",
    "                         hue= 'city', linewidth= 2 )\n",
    "\n",
    "\n",
    "ax_twin0.get_legend().remove()\n",
    "\n",
    "# --------------------------------------------------------------------------------------------------\n",
    "\n",
    "# main y axis i.e. for CO\n",
    "my_color_palt_co = sns.set_palette( sns.color_palette( ['deeppink','royalblue','silver','lime'] ) )\n",
    "\n",
    "ax[1] = sns.lineplot( ax= ax[1], x= 'month', y= 'co', data= poln_CityMonth_PVdf, \n",
    "                      hue= 'city_categ',\n",
    "                      units= 'city', palette = my_color_palt_co,  # <- unit argument\n",
    "                      linewidth= 3, \n",
    "                      estimator= None )\n",
    "\n",
    "ax[1].legend( bbox_to_anchor= ( 1.1,0.5 ), loc= 2, title= 'CO ( ───── )' )\n",
    "plt.setp( ax[1].get_legend().get_texts(), fontsize='13' )\n",
    "\n",
    "# twin Y-axis i.e. for O3\n",
    "ax_twin1 = ax[1].twinx()\n",
    "my_color_palt_o3 = sns.set_palette( sns.color_palette( ['red','blue','grey','green'] ) )\n",
    "\n",
    "ax_twin1 = sns.lineplot( ax= ax_twin1, x= 'month', y= 'o3', data= poln_CityMonth_PVdf,\n",
    "                         hue= 'city_categ',\n",
    "                         units= 'city', palette = my_color_palt_o3,  # <- unit argument\n",
    "                         linewidth= 3, linestyle= '--',\n",
    "                         estimator= None )\n",
    "\n",
    "plt.setp( ax_twin1.get_legend().get_texts(), fontsize='13' )\n",
    "ax_twin1_legend_obj =  ax_twin1.legend( bbox_to_anchor= ( 1.1,1 ), loc= 2, title = 'O3 ( - - - - - )' )\n",
    "\n",
    "\n",
    "plt.tight_layout() "
   ]
  },
  {
   "cell_type": "markdown",
   "id": "514",
   "metadata": {},
   "source": [
    "#### `!nsight` :\n",
    "Here by subsetting our colors to the concerned cities make a bit more sense of the spaghetti of lines. We see that:\n",
    "    \n",
    "    - Denver has highest Ozone & CO values during July\n",
    "    - Houston has less Ozone & CO comapred to other cities throughout the year\n",
    "    - Cincinnati has higher Ozone conc compared to other cities,\n",
    "        - Cincinnati has lower CO compared to other cities throughout the year\n",
    "\n",
    "While the best solution for this plot may be to not plot other lines at all, but they can often provide valuable context for the data of interest."
   ]
  },
  {
   "cell_type": "markdown",
   "id": "515",
   "metadata": {},
   "source": [
    "<div id= '5.2.4'></div>\n",
    "\n",
    "###  5.2.4 - All Color Palette reference\n",
    "<i>[Go to top](#toc)</i>"
   ]
  },
  {
   "cell_type": "code",
   "execution_count": null,
   "id": "516",
   "metadata": {},
   "outputs": [],
   "source": [
    "plt.style.use('classic')\n",
    "\n",
    "# Have colormaps separated into categories:\n",
    "# http://matplotlib.org/examples/color/colormaps_reference.html\n",
    "cmaps = [('Perceptually Uniform Sequential', [\n",
    "            'viridis', 'plasma', 'inferno', 'magma']),\n",
    "         ('Sequential', [\n",
    "            'Greys', 'Purples', 'Blues', 'Greens', 'Oranges', 'Reds',\n",
    "            'YlOrBr', 'YlOrRd', 'OrRd', 'PuRd', 'RdPu', 'BuPu',\n",
    "            'GnBu', 'PuBu', 'YlGnBu', 'PuBuGn', 'BuGn', 'YlGn']),\n",
    "         ('Sequential (2)', [\n",
    "            'binary', 'gist_yarg', 'gist_gray', 'gray', 'bone', 'pink',\n",
    "            'spring', 'summer', 'autumn', 'winter', 'cool', 'Wistia',\n",
    "            'hot', 'afmhot', 'gist_heat', 'copper']),\n",
    "         ('Diverging', [\n",
    "            'PiYG', 'PRGn', 'BrBG', 'PuOr', 'RdGy', 'RdBu',\n",
    "            'RdYlBu', 'RdYlGn', 'Spectral', 'coolwarm', 'bwr', 'seismic']),\n",
    "         ('Qualitative', [\n",
    "            'Pastel1', 'Pastel2', 'Paired', 'Accent',\n",
    "            'Dark2', 'Set1', 'Set2', 'Set3',\n",
    "            'tab10', 'tab20', 'tab20b', 'tab20c']),\n",
    "         ('Miscellaneous', [\n",
    "            'flag', 'prism', 'ocean', 'gist_earth', 'terrain', 'gist_stern',\n",
    "            'gnuplot', 'gnuplot2', 'CMRmap', 'cubehelix', 'brg', 'hsv',\n",
    "            'gist_rainbow', 'rainbow', 'jet', 'nipy_spectral', 'gist_ncar'])]\n",
    "\n",
    "nrows = max(len(cmap_list) for cmap_category, cmap_list in cmaps)\n",
    "gradient = np.linspace(0, 1, 256)\n",
    "gradient = np.vstack((gradient, gradient))\n",
    "\n",
    "def plot_color_gradients(cmap_category, cmap_list, nrows):\n",
    "    fig, axes = plt.subplots(nrows=nrows)\n",
    "    fig.subplots_adjust(top=0.95, bottom=0.01, left=0.2, right=0.99)\n",
    "    axes[0].set_title(cmap_category + ' colormaps', fontsize=14)\n",
    "\n",
    "    for ax, name in zip(axes, cmap_list):\n",
    "        ax.imshow(gradient, aspect='auto', cmap=plt.get_cmap(name))\n",
    "        pos = list(ax.get_position().bounds)\n",
    "        x_text = pos[0] - 0.01\n",
    "        y_text = pos[1] + pos[3]/2.\n",
    "        fig.text(x_text, y_text, name, va='center', ha='right', fontsize=10)\n",
    "\n",
    "    # Turn off *all* ticks & spines, not just the ones with colormaps.\n",
    "    for ax in axes:\n",
    "        ax.set_axis_off()"
   ]
  },
  {
   "cell_type": "code",
   "execution_count": null,
   "id": "517",
   "metadata": {},
   "outputs": [],
   "source": [
    "for cmap_category, cmap_list in cmaps:\n",
    "    plot_color_gradients(cmap_category, cmap_list, nrows)\n",
    "plt.show()"
   ]
  },
  {
   "cell_type": "markdown",
   "id": "518",
   "metadata": {},
   "source": [
    "#### Using the colormap"
   ]
  },
  {
   "cell_type": "code",
   "execution_count": null,
   "id": "519",
   "metadata": {},
   "outputs": [],
   "source": [
    "meat_df = pd.read_csv( 'datasets/meat_produce.csv', parse_dates= [0], index_col= 0 )\n"
   ]
  },
  {
   "cell_type": "code",
   "execution_count": null,
   "id": "520",
   "metadata": {},
   "outputs": [],
   "source": [
    "fg, ax = plt.subplots( figsize= (18,4) )\n",
    "\n",
    "meat_df.plot( ax= ax, colormap='Accent' ) #<-- colormap\n",
    "\n",
    "plt.show()"
   ]
  },
  {
   "cell_type": "markdown",
   "id": "521",
   "metadata": {},
   "source": [
    "<hr>\n",
    "<div id= '5.3'></div>\n",
    "\n",
    "## Chapter 5.3 - Showing uncertainty\n",
    "Uncertainty occurs everywhere in data science, but it's usually left out of visualizations where it should be included.\n",
    "\n",
    "    - visualize [Confidence Interval] for both single estimates and continuous functions \n",
    "    - bootstrap resampling technique for assessing uncertainty and visualize it \n",
    "\n",
    "<div id= '5.3.1'></div>\n",
    "\n",
    "###  5.3.1 Point estimate CI : `plt.hlines( )`\n",
    "<i>[Go to top](#toc)</i>"
   ]
  },
  {
   "cell_type": "markdown",
   "id": "522",
   "metadata": {},
   "source": [
    "#### Plotting CI"
   ]
  },
  {
   "cell_type": "code",
   "execution_count": null,
   "id": "523",
   "metadata": {},
   "outputs": [],
   "source": [
    "# data prep\n",
    "est_pt_df = pd.read_csv( 'datasets/avg_estimates.csv' )\n",
    "\n",
    "# calc CI\n",
    "est_pt_df['lower_CI'] = est_pt_df['mean'] - 1.96 * est_pt_df['std_err']\n",
    "est_pt_df['upper_CI'] = est_pt_df['mean'] + 1.96 * est_pt_df['std_err']\n",
    "\n",
    "est_pt_df"
   ]
  },
  {
   "cell_type": "code",
   "execution_count": null,
   "id": "524",
   "metadata": {},
   "outputs": [],
   "source": [
    "# without CI\n",
    "\n",
    "fctGrd1 = sns.FacetGrid( data= est_pt_df, row= 'pollutant', height= 1.3, aspect= 7, sharex= False )\n",
    "\n",
    "fctGrd1.map_dataframe( func= sns.scatterplot, x= 'seen', y= 'y'  )\n",
    "\n",
    "plt.show()"
   ]
  },
  {
   "cell_type": "code",
   "execution_count": null,
   "id": "525",
   "metadata": {},
   "outputs": [],
   "source": [
    "# with CI\n",
    "\n",
    "fctGrd1 = sns.FacetGrid( data= est_pt_df, row= 'pollutant', height= 1.4, aspect= 7, sharex= False )\n",
    "\n",
    "fctGrd1.map_dataframe( func= plt.hlines, y= 'y', xmin= 'lower_CI', xmax= 'upper_CI'  )\n",
    "\n",
    "fctGrd1.map_dataframe( func= sns.scatterplot, x= 'seen', y= 'y', color= 'orangered' )\\\n",
    "                                                                            .set_ylabels('').set_xlabels('') \n",
    "plt.show()"
   ]
  },
  {
   "cell_type": "markdown",
   "id": "526",
   "metadata": {},
   "source": [
    "This simple visualization shows that all the observed values fall well within the confidence intervals for all the pollutants except for O3."
   ]
  },
  {
   "cell_type": "markdown",
   "id": "527",
   "metadata": {},
   "source": [
    "#### Comparing CI in same plots by year and Annotating CI "
   ]
  },
  {
   "cell_type": "code",
   "execution_count": null,
   "id": "528",
   "metadata": {},
   "outputs": [],
   "source": [
    "estYr_df = pd.read_csv( 'datasets/avg_estimates_by_year.csv' )\n",
    "estYr_df"
   ]
  },
  {
   "cell_type": "code",
   "execution_count": null,
   "id": "529",
   "metadata": {},
   "outputs": [],
   "source": [
    "fig,ax = plt.subplots( figsize= (5,3) )\n",
    "\n",
    "# make h-line\n",
    "plt.hlines( y= 'year', xmin= 'lower', xmax= 'upper', data= estYr_df,\n",
    "            linewidth= 10, color= 'steelblue'  )\n",
    "\n",
    "# plot mean as '|' mark\n",
    "plt.plot( 'mean', 'year', '|', data= estYr_df, color= 'red' )\n",
    "\n",
    "# Add a 'null' reference line at 0 and color orangered\n",
    "plt.axvline( x= 0, color= 'orangered', linestyle= '--' )\n",
    "\n",
    "plt.xlabel('95% CI')\n",
    "plt.title('Avg SO2 differences between Cincinnati & Indianapolis with CI')\n",
    "plt.show()"
   ]
  },
  {
   "cell_type": "markdown",
   "id": "530",
   "metadata": {},
   "source": [
    "<div id= '5.3.2'></div>\n",
    "\n",
    "###  5.3.2 Confidence bands: `plt.fill_between( )`\n",
    "<i>[Go to top](#toc)</i>\n",
    "\n",
    "#### Making a confidence band\n",
    "\n",
    "Vandenberg Air Force Base is often used as a location to launch rockets into space. We have a hypothesis that a recent increase in the pace of rocket launches could be harming the air quality in the surrounding region.\n",
    "\n",
    "To explore this, we plotted a 25-day rolling average line of the measurements of atmospheric NO2. To help decide if any pattern observed is random-noise or not, we decide to add a 99% confidence band around the rolling mean.\n",
    "\n",
    "Adding a confidence band to a trend line can help shed light on the stability of the trend seen. This can either increase or decrease the confidence in the discovered trend."
   ]
  },
  {
   "cell_type": "code",
   "execution_count": null,
   "id": "531",
   "metadata": {},
   "outputs": [],
   "source": [
    "vaNO2_df = pd.read_csv( 'datasets/vandenberg_NO2.csv', index_col= 0 )\n",
    "\n",
    "# calc lower & upper CI\n",
    "vaNO2_df['lower_CI'] = vaNO2_df['mean'] - 2.58 * vaNO2_df['std_err']\n",
    "vaNO2_df['upper_CI'] = vaNO2_df['mean'] + 2.58 * vaNO2_df['std_err']\n",
    "\n",
    "vaNO2_df.head(3)\n"
   ]
  },
  {
   "cell_type": "code",
   "execution_count": null,
   "id": "532",
   "metadata": {},
   "outputs": [],
   "source": [
    "sns.lineplot( x= 'day', y= 'mean', data= vaNO2_df  )"
   ]
  },
  {
   "cell_type": "code",
   "execution_count": null,
   "id": "533",
   "metadata": {},
   "outputs": [],
   "source": [
    "fig,ax = plt.subplots( figsize= (8,3) )\n",
    "\n",
    "# plt.plot( 'day', 'mean', data= vaNO2_df,\n",
    "#           color= 'white', alpha= .6,  )  # < -- Plot mean estimate as a white semi-transparent line\n",
    "\n",
    "sns.lineplot( x= 'day', y= 'mean', data= vaNO2_df,\n",
    "              color= 'white', alpha= .6,  )  # < -- Plot mean estimate as a white semi-transparent line\n",
    "\n",
    "\n",
    "# fill between the upper & lower CI band\n",
    "plt.fill_between( x= 'day' , y1= 'lower_CI', y2= 'upper_CI', data= vaNO2_df )\n",
    "\n",
    "plt.show()"
   ]
  },
  {
   "cell_type": "markdown",
   "id": "534",
   "metadata": {},
   "source": [
    "Above plot shows that the middle of the year's NO2 values are not only lower than the beginning & end of the year but also are less noisy. If just the moving average line were plotted, then this potentially interesting observation would be completely missed. "
   ]
  },
  {
   "cell_type": "markdown",
   "id": "535",
   "metadata": {},
   "source": [
    "<br>\n",
    "\n",
    "#### Separating a lot of bands\n",
    "\n",
    "It is relatively simple to plot a bunch of trend lines on top of each other for rapid and precise comparisons. Unfortunately, if we need to add uncertainty bands around those lines, the plot becomes very difficult to read. \n",
    "\n",
    "Let's explore trends in SO2 levels for a few cities in the eastern half of the US. If we plot the trends and their confidence bands on a single plot - it's a mess. To fix, let's use sns `FacetGrid( )` to spread out the confidence intervals to multiple panes to ease the inspection."
   ]
  },
  {
   "cell_type": "code",
   "execution_count": null,
   "id": "536",
   "metadata": {},
   "outputs": [],
   "source": [
    "citySO2_df = pd.read_csv( 'datasets/eastern_cities_SO2.csv', index_col= 0 )\n",
    "\n",
    "# drop last garbage colm\n",
    "citySO2_df = citySO2_df.iloc[ :, :-1 ]\n",
    "\n",
    "# for convinience purpose onyl considering rows with 'mean' < 40\n",
    "citySO2_df = citySO2_df.query( \"mean <= 30\" )\n",
    "# citySO2_df = citySO2_df.sort_values( by= ['city','day'] )\n",
    "citySO2_df.head(3)"
   ]
  },
  {
   "cell_type": "code",
   "execution_count": null,
   "id": "537",
   "metadata": {},
   "outputs": [],
   "source": [
    "fctGrd1 = sns.FacetGrid( data= citySO2_df, col= 'city', col_wrap= 2,\n",
    "                         height= 4, aspect= 2 )\n",
    "\n",
    "fctGrd1.map_dataframe( sns.lineplot, 'day', 'mean', color= 'k' )\n",
    "\n",
    "fctGrd1.map_dataframe( func= plt.fill_between, x= 'day', y1= 'lower', y2= 'upper', color= 'coral' )\n",
    "\n",
    "plt.show()"
   ]
  },
  {
   "cell_type": "markdown",
   "id": "538",
   "metadata": {},
   "source": [
    "#### Cleaning up bands for overlaps\n",
    "\n",
    "We want to compare Denver and California's air quality (SO2 levels). Since we are solely interested in how the 2 cities compare, we want to keep the bands on the same plot. To make the bands easier to compare, we candecrease the opacity of the confidence bands and set a clear legend."
   ]
  },
  {
   "cell_type": "code",
   "execution_count": null,
   "id": "539",
   "metadata": {},
   "outputs": [],
   "source": [
    "city_ls = [ 'Cincinnati', 'Houston' ]\n",
    "color_ls = [ 'green', 'orangered' ]\n",
    "alpha_ls = [ 0.4, 0.5 ]\n",
    "\n",
    "\n",
    "for e_city,e_color,e_alpha in zip(  ):\n",
    "    \n",
    "    print( e_city,e_color,e_alpha )"
   ]
  },
  {
   "cell_type": "code",
   "execution_count": null,
   "id": "540",
   "metadata": {},
   "outputs": [],
   "source": [
    "# the iterable in the for loop for multiple plots --> using zip( list )\n",
    "\n",
    "city_ls = [ 'Cincinnati', 'Houston' ]\n",
    "color_ls = [ 'green', 'orangered' ]\n",
    "alpha_ls = [ 0.4, 0.5 ]\n",
    "\n",
    "city_color_alpha_tupls = [ ('Cincinnati','green', 0.4), ('Houston', '#fc8d62',0.5) ]\n",
    "\n",
    "for e_city,e_color,e_alpha in zip( city_ls,color_ls,alpha_ls ):\n",
    "    \n",
    "    e_city_df = citySO2_df[ citySO2_df.city == e_city ]\n",
    "    \n",
    "    plt.plot( 'day', 'mean', data= e_city_df, color= e_color, alpha = 0.8 )\n",
    "    \n",
    "    plt.fill_between( x= 'day', y1= 'lower', y2= 'upper', data= e_city_df, color= e_color, alpha= e_alpha )\n",
    "    \n",
    "plt.legend(); plt.show()"
   ]
  },
  {
   "cell_type": "markdown",
   "id": "541",
   "metadata": {},
   "source": [
    "<div id= '5.3.3'></div>\n",
    "\n",
    "###  5.3.3 Multiple CIs: 90%, 95%, 99%\n",
    "<i>[Go to top](#toc)</i>"
   ]
  },
  {
   "cell_type": "markdown",
   "id": "542",
   "metadata": {},
   "source": [
    "<h3><p style= 'text-align:center;'>Color combination for CIs: use Ordinal Color palette</p></h3>\n",
    "<img src= 'images/color_comb_for_multiple_CI.png' style= 'width:634px;height:140px;'>\n",
    "\n",
    "<!-- # m, wd, ht = 2, 990, 576; ( wd/m, ht/m  ) -->"
   ]
  },
  {
   "cell_type": "markdown",
   "id": "543",
   "metadata": {},
   "source": [
    "We will show multiple levels (90, 95, and 99%) of uncertainty for the model estimates of parameters (CO, NO2, O3, SO2) values with varying width for differnt CI"
   ]
  },
  {
   "cell_type": "markdown",
   "id": "544",
   "metadata": {},
   "source": [
    "####  5.3.3 (A) Multiple CIs: 90%, 95%, 99% for point plot"
   ]
  },
  {
   "cell_type": "code",
   "execution_count": null,
   "id": "545",
   "metadata": {},
   "outputs": [],
   "source": [
    "est_pt_df = pd.read_csv( 'datasets/avg_estimates.csv' )\n",
    "est_pt_df"
   ]
  },
  {
   "cell_type": "code",
   "execution_count": null,
   "id": "546",
   "metadata": {},
   "outputs": [],
   "source": [
    "# using both color and line thicknes\n",
    "\n",
    "plt.style.use( 'classic' )\n",
    "\n",
    "fig = plt.figure( figsize=(20,4) )\n",
    "\n",
    "plot_point_CI( data_df= est_pt_df, xaxis_colNm= 'mean', yaxis_colNm= 'pollutant',\n",
    "               stdErrColNm= 'std_err',\n",
    "               # default argument values\n",
    "               CI_99_95_90_l_u= None, legend_location = None,\n",
    "               CI_label_ls= ['99%', '95%', '90%'], color_ls= ['#fee0b6', '#f1a340', '#b35806'],\n",
    "               linewidth_ls= [12, 14, 16] )\n",
    "\n",
    "\n",
    "fig = plt.figure( figsize=(20,4) )\n",
    "\n",
    "plot_point_CI( data_df= est_pt_df, xaxis_colNm= 'mean', yaxis_colNm= 'pollutant',\n",
    "               stdErrColNm= 'std_err', legend_location= 'lower right', linewidth_ls= [11,11,11] )"
   ]
  },
  {
   "cell_type": "markdown",
   "id": "547",
   "metadata": {},
   "source": [
    "####  5.3.3 (B) Multiple CIs:  90 & 99% CI bands for line plot\n",
    "\n",
    "We are looking at a 40-day rolling average of the NO2 pollution levels for the city of Vandenberg  in 2013. To provide as detailed a picture of the uncertainty in the trend we want to look at both the 90 & 99% CI intervals around this rolling estimate."
   ]
  },
  {
   "cell_type": "code",
   "execution_count": null,
   "id": "548",
   "metadata": {},
   "outputs": [],
   "source": [
    "print( vaNO2_df.head(2) )"
   ]
  },
  {
   "cell_type": "code",
   "execution_count": null,
   "id": "549",
   "metadata": {},
   "outputs": [],
   "source": [
    "CI_lbl_ls =  [ '90% CI', '99% CI' ]\n",
    "zScore_ls = [ 1.67, 2.58 ] # <-- CI for 90%, 95%\n",
    "color_ls = [ '#fc8d59', '#fee08b' ]\n",
    "\n",
    "fig,ax = plt.subplots( figsize= (6,3) )\n",
    "\n",
    "for e_CI_lbl, e_z, e_color in zip( CI_lbl_ls,zScore_ls,color_ls ):\n",
    "    plt.fill_between(    x = vaNO2_df.day,\n",
    "                         y1= vaNO2_df['mean'] - e_z * vaNO2_df['std_err'],\n",
    "                         y2= vaNO2_df['mean'] + e_z * vaNO2_df['std_err'],\n",
    "                         alpha= 0.8, color= e_color, label= e_CI_lbl          )\n",
    "plt.plot( 'day', 'mean', 'darkgrey', data= vaNO2_df )\n",
    "\n",
    "plt.legend( loc= 'upper center' )\n",
    "plt.setp( ax.get_legend().get_texts(), fontsize='10' )\n",
    "\n",
    "\n",
    "plt.show()"
   ]
  },
  {
   "cell_type": "markdown",
   "id": "550",
   "metadata": {},
   "source": [
    "<div id= '5.3.3'></div>\n",
    "\n",
    "###  5.3.4 Visualizing the bootstrap\n",
    "<i>[Go to top](#toc)</i>"
   ]
  },
  {
   "cell_type": "code",
   "execution_count": null,
   "id": "551",
   "metadata": {},
   "outputs": [],
   "source": [
    "# Simualtion on Head-Tail when a 2 coins are thrown simultaneously and the HT, HH, TH outcomes are plotted\n",
    "\n",
    "n = 40000\n",
    "\n",
    "HT_1 = np.random.choice( [0,1], size= n );\n",
    "HT_2 = np.random.choice( [0,1], size= n )\n",
    "\n",
    "ls1 = []\n",
    "for e_obs in list( zip( HT_1, HT_2 ) ):\n",
    "    if str(e_obs)   == '(0, 0)': ls1.append( 'TT' )\n",
    "    elif str(e_obs) == '(1, 0)': ls1.append( 'HT' )\n",
    "    elif str(e_obs) == '(0, 1)': ls1.append( 'HT' )\n",
    "    elif str(e_obs) == '(1, 1)': ls1.append( 'HH' )\n",
    "\n",
    "plt.hist( ls1 ); plt.show()"
   ]
  },
  {
   "cell_type": "markdown",
   "id": "552",
   "metadata": {},
   "source": [
    "<hr>\n",
    "<div id= '5.4'></div>\n",
    "\n",
    "## Chapter 5.4 - Visualization in the data science workflow\n",
    "Often visualization is taught in isolation, with best practices only discussed in a general way. In reality, we will need to bend the rules for different scenarios.\n",
    "\n",
    "    - optimize your visualizations at each step of a data science workflow. \n",
    "\n",
    "<div id= '5.4.1'></div>\n",
    "\n",
    "###  5.4.1 First explorations: \n",
    "<i>[Go to top](#toc)</i>"
   ]
  },
  {
   "cell_type": "markdown",
   "id": "553",
   "metadata": {},
   "source": [
    "#### `pd.head()` & `df.describe( .. )`"
   ]
  },
  {
   "cell_type": "code",
   "execution_count": null,
   "id": "554",
   "metadata": {},
   "outputs": [],
   "source": [
    "poln_df.head(3)"
   ]
  },
  {
   "cell_type": "code",
   "execution_count": null,
   "id": "555",
   "metadata": {},
   "outputs": [],
   "source": [
    "pd.options.display.max_rows = 12\n",
    "\n",
    "poln_df.describe( percentiles= None, include= None,  )"
   ]
  },
  {
   "cell_type": "code",
   "execution_count": null,
   "id": "556",
   "metadata": {},
   "outputs": [],
   "source": [
    "poln_df.describe( percentiles= [.25, .5, .75], include= 'all' )"
   ]
  },
  {
   "cell_type": "code",
   "execution_count": null,
   "id": "557",
   "metadata": {},
   "outputs": [],
   "source": [
    "poln_df.describe( percentiles= [0.5],  include= 'all' )"
   ]
  },
  {
   "cell_type": "code",
   "execution_count": null,
   "id": "558",
   "metadata": {},
   "outputs": [],
   "source": [
    "poln_df.describe( percentiles= [.25, .5, .75],  include= 'all' )"
   ]
  },
  {
   "cell_type": "markdown",
   "id": "559",
   "metadata": {},
   "source": [
    "#### `scatter matrix / pairplot `"
   ]
  },
  {
   "cell_type": "code",
   "execution_count": null,
   "id": "560",
   "metadata": {},
   "outputs": [],
   "source": [
    "pd.plotting.scatter_matrix( frame= poln_df, diagonal= 'hist',\n",
    "                            figsize= (20,20), alpha= 0.4 )\n",
    "plt.show()"
   ]
  },
  {
   "cell_type": "code",
   "execution_count": null,
   "id": "561",
   "metadata": {},
   "outputs": [],
   "source": [
    "sns.pairplot( data= poln_df, diag_kind= 'kde' )\n",
    "plt.show()"
   ]
  },
  {
   "cell_type": "markdown",
   "id": "562",
   "metadata": {},
   "source": [
    "<div id= '5.4.2'></div>\n",
    "\n",
    "###  5.4.2 - Exploring the pattern\n",
    "<i>[Go to top](#toc)</i>\n",
    "\n",
    "<br>\n",
    "\n",
    "### Looking at the farmers market data\n",
    "\n",
    "Loaded is a new dataset, farmers-market.csv. Each row of this DataFrame belongs to an individual farmers market in the continental United States with various information about the market contained in the columns."
   ]
  },
  {
   "cell_type": "code",
   "execution_count": null,
   "id": "563",
   "metadata": {},
   "outputs": [],
   "source": [
    "farmkt_df = pd.read_csv( 'datasets/farmers-market.csv' )\n",
    "\n",
    "farmkt_df[:3].T              # OR\n",
    "farmkt_df[:3].transpose()"
   ]
  },
  {
   "cell_type": "markdown",
   "id": "564",
   "metadata": {},
   "source": [
    "Visualizing Regression plot between two variables ( `number of markets in each state` vs. `state population` ). We will also annotate each point in the scatter plot with the <b>State</b> that the point belongs to."
   ]
  },
  {
   "cell_type": "code",
   "execution_count": null,
   "id": "565",
   "metadata": {},
   "outputs": [],
   "source": [
    "# adding field for more analysis\n",
    "farmkt_df['items_sold'] = farmkt_df.loc[ :, 'Bakedgoods': 'Wine'].sum( axis= 1  )\n",
    "farmkt_df.items_sold.head()\n",
    "\n",
    "# adding a state pop field with random intergers from ( 500000, 30000000 )\n",
    "np.random.seed( 100 )\n",
    "farmkt_df['state_pop'] = np.random.randint( 500000,30000000, size= farmkt_df.shape[0] )\n",
    "\n",
    "farmkt_df.head(2)"
   ]
  },
  {
   "cell_type": "code",
   "execution_count": null,
   "id": "566",
   "metadata": {},
   "outputs": [],
   "source": [
    "# data prep: using original x-axis, y-axis vs log tranSFORMED\n",
    "\n",
    "warnings.filterwarnings( action= 'ignore' )\n",
    "\n",
    "\n",
    "farm_grpby_state_df = farmkt_df.groupby( by= 'state', as_index= False )[ 'state_pop', 'name' ]\\\n",
    "                                    .agg(  func= { 'state_pop': np.sum, 'name': lambda df: df.nunique( )}  )\\\n",
    "                                    .rename(  columns= { 'state_pop':'tot_state_pop', 'name':'num_markets' }  )\n",
    "\n",
    "print( farm_grpby_state_df.head() )\n",
    "\n",
    "farm_grpby_state_df['state_pop_log'] = np.log( farm_grpby_state_df.tot_state_pop )\n",
    "farm_grpby_state_df['num_markets_log'] = np.log( farm_grpby_state_df.num_markets )\n",
    "\n",
    "farm_grpby_state_subset_df = farm_grpby_state_df.iloc[ :20,  ]  # <-- subsetting for just convinience nothing else\n",
    "\n",
    "farm_grpby_state_df.head()"
   ]
  },
  {
   "cell_type": "markdown",
   "id": "567",
   "metadata": {},
   "source": [
    "##### annotate each point in the scatter plot with the State that the point belongs to"
   ]
  },
  {
   "cell_type": "code",
   "execution_count": null,
   "id": "568",
   "metadata": {},
   "outputs": [],
   "source": [
    "# un-logged data\n",
    "plt.style.use('classic')\n",
    "\n",
    "fig,ax = plt.subplots( 2,2, figsize= (15,7) )\n",
    "\n",
    "ax[0][0] = sns.regplot( ax= ax[0][0], x= 'num_markets', y= 'tot_state_pop', data= farm_grpby_state_subset_df,\n",
    "                        ci= False, scatter_kws= { 's': 30 }  )\n",
    "\n",
    "\n",
    "# logged data\n",
    "\n",
    "ax[0][1] = sns.regplot( ax= ax[0][1], x= 'num_markets_log', y= 'state_pop_log', data= farm_grpby_state_subset_df,\n",
    "                        ci= False, scatter_kws= { 's': 50 }  )\n",
    "\n",
    "# annotate each point using iterable\n",
    "sign = - 1\n",
    "for _, e_row in farm_grpby_state_subset_df.iterrows():\n",
    "    # get all colms from iterables\n",
    "    e_state, _, _, e_state_pop_log, e_num_markets_log = e_row\n",
    "    \n",
    "    sign = sign * -1\n",
    "    # place annotation & reduce size for clarity for each point\n",
    "    ax[0][1].annotate( text= e_state,\n",
    "                       xy= ( e_num_markets_log, e_state_pop_log + 0.4*(sign) ),\n",
    "                       size= 9  )\n",
    "    \n",
    "\n",
    "#  2nd row, log transofrmed scale for no reason\n",
    "\n",
    "ax[1][0] = sns.regplot( ax= ax[1][0], x= 'num_markets', y= 'tot_state_pop', data= farm_grpby_state_subset_df,\n",
    "                        ci= False, scatter_kws= { 's': 30 }  )\n",
    "\n",
    "ax[1][0].set( yscale = 'log')   # <-- set yscale to log for no reason\n",
    "\n",
    "ax[1][1] = sns.regplot( ax= ax[1][1], x= 'num_markets_log', y= 'state_pop_log', data= farm_grpby_state_subset_df,\n",
    "             ci= False, scatter_kws= { 's': 50 }  )\n",
    "\n",
    "ax[1][1].set( yscale = 'log')   # <-- set yscale to log for no reason\n",
    "\n",
    "\n",
    "\n",
    "plt.show()"
   ]
  },
  {
   "cell_type": "markdown",
   "id": "569",
   "metadata": {},
   "source": [
    "<br>\n",
    "\n",
    "### Popularity of goods sold by state\n",
    "\n",
    "The farmer's market dataset contains columns corresponding to 28 different goods and whether or not they are sold at that market. We're curious to see if there are any interesting stories in this dataset regarding how likely is a customer finds a given good at a state's markets. To answer this question, we will collapse the data into three columns:\n",
    "\n",
    "    state - the name of the state\n",
    "    good - the good of interest\n",
    "    sales_proportion - the proportion of markets in that state that sell that good\n",
    "\n",
    "To quickly determine if patterns emerge, we will choose a subset of goods we find interesting and decide to make a simple text-scatter: the goods on the x-axis and the proportion of a state's markets that sell that good on the y-axis."
   ]
  },
  {
   "cell_type": "code",
   "execution_count": null,
   "id": "570",
   "metadata": {},
   "outputs": [],
   "source": [
    "print( farmkt_df.columns, '\\n\\n' )\n",
    "\n",
    "# getting colms' names of goods\n",
    "\n",
    "goods_Colm_ls = list( farmkt_df.loc[ :, 'Bakedgoods':'Wine' ] )\n",
    "print( goods_Colm_ls )"
   ]
  },
  {
   "cell_type": "markdown",
   "id": "571",
   "metadata": {},
   "source": [
    "#### Wrangling ( Part I ):\n",
    "    \n",
    "    groupby for total sales of each goods by State"
   ]
  },
  {
   "cell_type": "code",
   "execution_count": null,
   "id": "572",
   "metadata": {},
   "outputs": [],
   "source": [
    "farm_grpby_State_goods = farmkt_df.groupby( by= 'state', as_index= False )[ goods_Colm_ls ]\\\n",
    "                                        .agg( func= np.sum )\n",
    "farm_grpby_State_goods.head()"
   ]
  },
  {
   "cell_type": "markdown",
   "id": "573",
   "metadata": {},
   "source": [
    "#### Wrangling ( Part II ):\n",
    "    \n",
    "    apply to the groupby for calculating proportions"
   ]
  },
  {
   "cell_type": "code",
   "execution_count": null,
   "id": "574",
   "metadata": {},
   "outputs": [],
   "source": [
    "def calc_ratio( df ):\n",
    "    ratio_val = df/df.sum()\n",
    "    return(ratio_val)\n",
    "\n",
    "\n",
    "farm_apply_goodsRatio = farm_grpby_State_goods[goods_Colm_ls].apply( func= calc_ratio, axis= 1 )\n",
    "\n",
    "# horizitnally stacking above farm_apply_goodsRatio with groupby farm_grpby_State_goods\n",
    "\n",
    "farm_State_GoodsRatio = pd.concat( [farm_grpby_State_goods['state'],farm_apply_goodsRatio], axis= 1 )\n",
    "\n",
    "farm_State_GoodsRatio.head(3)"
   ]
  },
  {
   "cell_type": "markdown",
   "id": "575",
   "metadata": {},
   "source": [
    "#### Wrangling ( Part III ):\n",
    "\n",
    "    melting the data to get 'unpivoted melted long' form data table "
   ]
  },
  {
   "cell_type": "code",
   "execution_count": null,
   "id": "576",
   "metadata": {},
   "outputs": [],
   "source": [
    "# melting the data to get unpivoted-melted long-form data table \n",
    "\n",
    "state_Goods_meltd = farm_State_GoodsRatio.melt( id_vars= 'state',\n",
    "                                                var_name= 'goods', value_name= 'sales_proportion' )\n",
    "state_Goods_meltd.head()"
   ]
  },
  {
   "cell_type": "code",
   "execution_count": null,
   "id": "577",
   "metadata": {},
   "outputs": [],
   "source": [
    "# filter state_Goods_meltd to the desired goods listed\n",
    "\n",
    "print( state_Goods_meltd.goods.unique(), '\\n\\n' )\n",
    "\n",
    "concerned_goods_ls = ['Cheese','Maple','Fruits','Grains','Seafood','Plants','Vegetables']\n",
    "\n",
    "state_Goods_meltd_subset = state_Goods_meltd.query( expr= 'goods in' + str( concerned_goods_ls ) )\n",
    "\n",
    "print( state_Goods_meltd_subset.goods.unique() )"
   ]
  },
  {
   "cell_type": "code",
   "execution_count": null,
   "id": "578",
   "metadata": {},
   "outputs": [],
   "source": [
    "# considering 371 point would make the plot messy, so only considering 100 random points as:\n",
    "\n",
    "state_Goods_meltd_sample =  state_Goods_meltd_subset.sample( n= 371, axis= 0 )\n",
    "\n",
    "\n",
    "fctGrd1 = sns.scatterplot( x= 'goods', y= 'sales_proportion', data= state_Goods_meltd_sample,\n",
    "                          s= 0 # <-- hiding the points, only want to show the State annotation\n",
    "                         )\n",
    "\n",
    "for _, e_row in state_Goods_meltd_sample.iterrows():\n",
    "    fctGrd1.annotate( text= e_row['state'], xy= ( e_row['goods'], e_row['sales_proportion'] ),\n",
    "                      ha= 'center', size= 10 )\n"
   ]
  },
  {
   "cell_type": "markdown",
   "id": "579",
   "metadata": {},
   "source": [
    "While this plot may be very messy but also very interesting. We can see have observations such as:\n",
    "\n",
    "        - Puerto Rico has the highest vegetable & Fruits consupmtion ratio \n",
    "        - North Dakota, Alskam Kansas has the lowest Cheese consumption\n",
    "        - Alska, South Carolina has the highest Seafood consumption\n",
    "        - New Hampshire has  the highest MAple consuption, etc..."
   ]
  },
  {
   "cell_type": "markdown",
   "id": "580",
   "metadata": {},
   "source": [
    "<div id= '5.4.3'></div>\n",
    "\n",
    "###  5.4.3 - Making the visualizations visually efficient\n",
    "<i>[Go to top](#toc)</i>"
   ]
  },
  {
   "cell_type": "markdown",
   "id": "581",
   "metadata": {},
   "source": [
    "#### Cleverely using a plot as a legend\n",
    "\n",
    "Considering pollution data (only fo CO param) for Houston City only"
   ]
  },
  {
   "cell_type": "code",
   "execution_count": null,
   "id": "582",
   "metadata": {},
   "outputs": [],
   "source": [
    "poln_df"
   ]
  },
  {
   "cell_type": "code",
   "execution_count": null,
   "id": "583",
   "metadata": {},
   "outputs": [],
   "source": [
    "# data subset\n",
    "\n",
    "poln_Houston = poln_df.loc[ poln_df.city == 'Houston', [ 'year', 'month', 'co' ] ]\n",
    "poln_Houston.head(3)"
   ]
  },
  {
   "cell_type": "code",
   "execution_count": null,
   "id": "584",
   "metadata": {},
   "outputs": [],
   "source": [
    "fig, ax = plt.subplots( 2,2, figsize= (20,9) ) \n",
    "\n",
    "ax[0][0] = sns.lineplot( x= 'month', y= 'co', hue= 'year', estimator= None,\n",
    "                         data= poln_Houston, ax= ax[0][0], palette= 'RdBu',  )\n",
    "\n",
    "ax[0][1] = sns.countplot( x= 'year',  data= poln_Houston, ax= ax[0][1], color= 'grey' )\n",
    "\n",
    "# This figure can be improved by:\n",
    "# - replacing the left figure's legend with bar colr = color of the line plots,\n",
    "# - removing the x axis label\n",
    "\n",
    "ax[1][0] = sns.lineplot( x= 'month', y= 'co', hue= 'year', estimator= None,\n",
    "                         data= poln_Houston, ax= ax[1][0], palette= 'YlGnBu', linewidth = 3  )\n",
    "\n",
    "ax[1][1] = sns.countplot( x= 'year',  data= poln_Houston, ax= ax[1][1], palette= 'YlGnBu', dodge= False )\n",
    "\n",
    "ax[1][0].legend_.remove()\n",
    "ax[1][1].set_xlabel('')"
   ]
  },
  {
   "cell_type": "markdown",
   "id": "585",
   "metadata": {},
   "source": [
    "<div id= '5.4.4'></div>\n",
    "\n",
    "###  5.4.4 - Tweaking the plots\n",
    "<i>[Go to top](#toc)</i>"
   ]
  },
  {
   "cell_type": "markdown",
   "id": "586",
   "metadata": {},
   "source": [
    "#### \n",
    "    [ ] cleaning the background\n",
    "    + adding text\n",
    "    + adding line plots to the scatter plot and\n",
    "    * enhancing up the background\n",
    "\n",
    "While exploring state-level patterns in goods sold at farmer's markets, a few states stood out for our analysis. North Dakota & New Mexico routinely fell near the bottom of the states regarding their proportion of farmer's markets selling a given good. Whereas Vermont was always near the top. You want to present the general patterns in good sales by state, while also highlighting the states that we found interesting.\n",
    "\n",
    "Let's make a scatter plot of goods being sold by the proportion of markets that sell that good in a state. To highlight the interesting states, we'll draw a line between each of the state's points. To make a clean and minimal plot, we'll reduce the background to a simple set of orienting grids."
   ]
  },
  {
   "cell_type": "code",
   "execution_count": null,
   "id": "587",
   "metadata": {},
   "outputs": [],
   "source": [
    "print( state_Goods_meltd_subset.head(3) )"
   ]
  },
  {
   "cell_type": "code",
   "execution_count": null,
   "id": "588",
   "metadata": {},
   "outputs": [],
   "source": [
    "sns.set_style( 'whitegrid' )\n",
    "\n",
    "fig,ax = plt.subplots( figsize= (9,5) )\n",
    "\n",
    "\n",
    "sns.scatterplot( x= 'goods', y= 'sales_proportion', s= 90,\n",
    "                 data= state_Goods_meltd_subset, marker= '_', )\n",
    "\n",
    "# Draw lines across goods for highlighted states\n",
    "highlighted_states_df = state_Goods_meltd_subset.query( \"state in ['New Mexico','North Dakota','Vermont']\" )\n",
    "\n",
    "sns.lineplot( x= 'goods', y= 'sales_proportion', hue= 'state',\n",
    "              data=  highlighted_states_df, legend= False )\n",
    "\n",
    "# include state name at end of lines\n",
    "\n",
    "concerned_states_grpby_df = highlighted_states_df.groupby( 'state' , as_index= False ).agg( 'last' )\n",
    "\n",
    "for _, e_row in concerned_states_grpby_df.iterrows():\n",
    "    e_state, e_goods, e_ratio = e_row\n",
    "    plt.annotate( text= e_state, xy= ( e_goods,e_ratio ), \n",
    "                  ha= 'right' )  \n",
    "    \n",
    "# Remove all borders\n",
    "sns.despine( bottom = True, left = True )\n",
    "plt.ylim( [0,highlighted_states_df.sales_proportion.max()] )\n",
    "\n",
    "plt.show()"
   ]
  },
  {
   "cell_type": "code",
   "execution_count": null,
   "id": "589",
   "metadata": {},
   "outputs": [],
   "source": [
    "concerned_states_grpby"
   ]
  },
  {
   "cell_type": "markdown",
   "id": "590",
   "metadata": {},
   "source": [
    "### Libraries"
   ]
  },
  {
   "cell_type": "code",
   "execution_count": null,
   "id": "591",
   "metadata": {},
   "outputs": [],
   "source": [
    "# %reset\n",
    "# import utility_madhur\n",
    "\n",
    "# !pip install pandas-datareader\n",
    "# ! pip install missingno\n",
    "# ! pip install fuzzywuzzy\n",
    "\n",
    "# &nbsp; &thinsp; &ensp; &emsp;\n",
    "\n",
    "#  import warnings; warnings.filterwarnings( action= 'ignore' )\n",
    "\n",
    "# # to check whether a string is a python keyword\n",
    "# import keyword\n",
    "# keyword.iskeyword('str')\n",
    "\n",
    "from IPython.core.display import display, HTML\n",
    "display(  HTML( '<style>.container { width:100% !important; }</style>' )  )\n",
    "\n",
    "\n",
    "import os, random, time, sys, re, datetime, warnings\n",
    "\n",
    "\n",
    "import pandas as pd, pandas_datareader as pd_dr\n",
    "import numpy as np, seaborn as sns\n",
    "from numpy import savetxt\n",
    "from numpy import genfromtxt\n",
    "import sklearn\n",
    "import missingno as msno\n",
    "import h5py, math, scipy\n",
    "\n",
    "# import fuzzywuzzy\n",
    "# from fuzzywuzzy import fuzz, process\n",
    "\n",
    "import matplotlib.pyplot as plt, cv2\n",
    "from matplotlib import *\n",
    "from matplotlib import gridspec\n",
    "from matplotlib.gridspec import GridSpec\n",
    "\n",
    "\n",
    "# plt.style.available\n",
    "# plt.style.use('Solarize_Light2')\n",
    "# plt.style.use('dark_background')\n",
    "plt.style.use('classic')\n",
    "\n",
    "\n",
    "# plt style for dark \n",
    "\n",
    "sns_theme_rc_dictn = {  'axes.facecolor':'#404040', 'figure.facecolor':'#2F4F4F',\n",
    "                        'grid.color':'#000000', 'axes.edgecolor': 'black',\n",
    "                        'font.size': 20  }\n",
    "plt.style.use( 'bmh' )\n",
    "sns.set_theme( rc= sns_theme_rc_dictn )\n",
    "\n",
    "plt.style.use('dark_background'); sns.set_context( context= 'notebook' )\n",
    "\n",
    "font = { 'weight' : 'bold',\n",
    "         'size'   : 12      }\n",
    "\n",
    "matplotlib.rc( 'font', **font )\n",
    "matplotlib.rcParams.update( {'font.size': 13} )\n",
    "\n",
    "%matplotlib inline\n",
    "\n",
    "np.random.seed(1) # set a seed so that the results are consistent\n",
    "\n",
    "## Set Jupyter notebook display options for pandas\n",
    "\n",
    "pd.set_option('display.max_columns', None)\n",
    "# pd.options.display.max_columns = 8\n",
    "# pd.set_option('display.max_rows', None)\n",
    "pd.options.display.max_rows = 6\n",
    "\n",
    "# <h3><p style= 'text-align:center;'> Img title</p></h3>\n",
    "# <img src= 'images/split-apply-combine.png' style= 'width:917px;height:437px;'>\n",
    "\n",
    "# m, wd, ht = 2, 990, 576; ( wd/m, ht/m  )"
   ]
  },
  {
   "cell_type": "code",
   "execution_count": null,
   "id": "592",
   "metadata": {},
   "outputs": [],
   "source": [
    "import re\n",
    "\n",
    "def clean_text(str_var):    \n",
    "\n",
    "    '''\n",
    "    clean the text, useful for column header\n",
    "    Arguments:\n",
    "    str_var -- a string variable of any size\n",
    "\n",
    "    Return:\n",
    "    str_modf -- a cleaned string variable\n",
    "    \n",
    "    '''\n",
    "    \n",
    "    # lower case and revome begin & end space\n",
    "    str_modf = str_var.lower().strip()\n",
    "    \n",
    "    # replace all non word chars ( everything except letters and nos )\n",
    "    str_modf = re.sub( pattern= r'[^\\w\\s]', repl= '_', string= str_modf )\n",
    "    \n",
    "    # replace all runs of whitespace with '_'\n",
    "    str_modf = re.sub( pattern= r'\\s+', repl= '_', string= str_modf )\n",
    "    \n",
    "    # repalce > 1 consecutive '_'\n",
    "    str_modf = re.sub( pattern= r'[__]+', repl= '_', string= str_modf )\n",
    "    \n",
    "    # remove begining and trailing _ : '__any_word____' --> 'any_word'\n",
    "    def _remove_begin_end_(str_var):\n",
    "        while True:\n",
    "            if str_var[-1] == '_': str_var = str_modf[ :len(str_modf)-1 ]\n",
    "            else: break                \n",
    "        while True:\n",
    "            if str_var[0] == '_': str_var = str_modf[ 1:len(str_modf) ]\n",
    "            else: break\n",
    "                \n",
    "        return(str_var)\n",
    "    \n",
    "    str_modf = _remove_begin_end_(str_modf)\n",
    "        \n",
    "    \n",
    "    return(str_modf)    \n",
    "\n",
    "clean_colNm = lambda colNm_ls: [ clean_text(e_cNm) for e_cNm in colNm_ls ]\n",
    "\n",
    "def day_to_date( dayth, yr ):\n",
    "    ''' func that returns complete date for the input of the day of the year & the year\n",
    "        input:\n",
    "            dayth : int, day of the year \n",
    "            yr: int, year under consideration\n",
    "        output:\n",
    "            datetime object\n",
    "        ex: day_to_date( 186,2013 ) --> datetime.date( 2013,7,6 )\n",
    "    '''\n",
    "    year_1st_day = datetime.date( yr,1,1 )\n",
    "    proper_date_obj = year_1st_day + datetime.timedelta( days= dayth-1 )\n",
    "    return( proper_date_obj )\n",
    "\n",
    "\n",
    "def get_CI_99_95_90( avg_Series, stdErr_Series ):\n",
    "    '''\n",
    "    returns a dataframe with CIs values such that colms are in this order:\n",
    "    lower_CI_99 | upper_CI_99 | lower_CI_95 | upper_CI_95 | lower_CI_90 | upper_CI_90\n",
    "    \n",
    "    avg_Series: pandas series  = where mean value of each parameters per row\n",
    "    stdErr_Series: pandas series = where standard error of each parameters per row\n",
    "    '''\n",
    "    \n",
    "    z_score_ls = [ 2.58, 1.96, 1.67 ]   # < - z score for 99%, 95%, 90% CI\n",
    "    col_nm = [ 'lower_CI_99', 'upper_CI_99', 'lower_CI_95', 'upper_CI_95', 'lower_CI_90', 'upper_CI_90' ]\n",
    "\n",
    "    temp_ls = []\n",
    "    \n",
    "    for _, e_z in enumerate( z_score_ls ):\n",
    "        temp_ls.append( avg_Series - e_z * stdErr_Series )    \n",
    "        temp_ls.append( avg_Series + e_z * stdErr_Series )    \n",
    "    \n",
    "    CI_99_95_90 = pd.DataFrame( data= np.array( temp_ls ).T, columns= col_nm  )    \n",
    "    \n",
    "    return( CI_99_95_90 )\n",
    "    \n",
    "    \n",
    "def plot_point_CI( data_df, xaxis_colNm, yaxis_colNm, stdErrColNm, CI_99_95_90_l_u= None, legend_location= None,\n",
    "                   CI_label_ls= [ '99%', '95%', '90%' ], color_ls= ['#fee0b6','#f1a340', '#b35806'], \n",
    "                   linewidth_ls = [ 12, 14, 16 ] ):\n",
    "    '''\n",
    "    func to plot point and confidence interval of that point, where:\n",
    "    \n",
    "    data_df is our data in strictly dataframe format\n",
    "    \n",
    "    data_df[xaxis_colN] is a numerical colm, say a mean value of some parameters,\n",
    "                        say air quality ( CO2, SO2, CO, NO2 )\n",
    "    data_df[yaxis_colN] is a string colm, which values are parameters name, ex: 'CO2', 'SO2', 'CO', 'NO2'\n",
    "    \n",
    "    \n",
    "    data_df: dataframe  = data\n",
    "    \n",
    "    xaxis_colN: str = is the name of the column for x-axis\n",
    "    yaxis_colNm: str = is the name of the column for y-axis    \n",
    "    stdErrColNm: str = is the column name of the column containing standard error values\n",
    "    \n",
    "    CI_99_95_90_l_u (is optional): dataframe = is the dataframe solely of colms of Confidence Interval,\n",
    "                                   exactly in the order:\n",
    "        lower_CI_99 | upper_CI_99 | lower_CI_95 | upper_CI_95 | lower_CI_90 | upper_CI_90\n",
    "        This dataframe is extracted by calling get_CI_99_95_90( data_df[xaxis_colNm], data_df[stdErrColNm] )\n",
    "        if not directly provided\n",
    "        \n",
    "    CI_label_ls: list of str = labels for CI_label_ls, ex: [ '99%', '95%', '90%' ]    \n",
    "    color_ls: list of str = string representing color for 3 CI's\n",
    "    linewidth_ls: list of int = the list for width of line representing CI\n",
    "    \n",
    "    '''\n",
    "    \n",
    "    # get CI data using def get_CI_99_95_90( avg_Series, stdErr_Series ):\n",
    "    \n",
    "    if CI_99_95_90_l_u is None:\n",
    "        CI_99_95_90_l_u = get_CI_99_95_90( avg_Series= data_df[xaxis_colNm], stdErr_Series= data_df[stdErrColNm] )\n",
    "    \n",
    "    \n",
    "    iCI = 0\n",
    "\n",
    "    for indx, e_color, e_CI_lbl in zip( [0,1,2], color_ls, CI_label_ls ):        \n",
    "\n",
    "        plt.hlines( y= data_df[yaxis_colNm],\n",
    "                    xmin= CI_99_95_90_l_u.iloc[:,iCI] ,\n",
    "                    xmax= CI_99_95_90_l_u.iloc[:,iCI+1] ,\n",
    "                    color= e_color, linewidth= linewidth_ls[indx], label= e_CI_lbl\n",
    "                  )    \n",
    "        iCI += 2\n",
    "\n",
    "    plt.plot( data_df[xaxis_colNm], data_df[yaxis_colNm], 'ko', data = data_df, label = 'Point Estimate' )\n",
    "    \n",
    "    if legend_location is None: plt.legend( loc= 'best')\n",
    "    else: plt.legend( loc= legend_location )\n",
    "\n",
    "    plt.margins( y= 0.1, tight= None )\n",
    "    \n",
    "def clean_text(str_var):    \n",
    "\n",
    "    \"\"\"\n",
    "    clean the text, useful for columnheader\n",
    "    Arguments:\n",
    "    str_var -- a string variable of any size\n",
    "\n",
    "    Return:\n",
    "    str_modf -- a cleaned string variable\n",
    "    \n",
    "    few examples:\n",
    "    \n",
    "     '  ( Carrier Code'\t                        ----->\t         'carrier_code'\n",
    "     'Date (MM/DD/YYYY)'\t                    ----->\t         'date_mm_dd_yyyy'\n",
    "     'Flight Number'\t                        ----->\t         'flight_number'    \n",
    "     'Destination Airport '\t                    ----->\t         'destination_airport'\n",
    "     'Scheduled Elapsed Time(Minutes)'\t        ----->\t         'scheduled_elapsed_time_minutes'\n",
    "     'Actual Elapsed Time(Minutes)'\t            ----->\t         'actual_elapsed_time_minutes'\n",
    "     'Taxi-out Time(Minutes)'\t                ----->\t         'taxi_out_time_minutes'     \n",
    "     'DelayLate Aircraft Arrival ( Minutes )'\t----->\t         'delaylate_aircraft_arrival_minutes'\n",
    "     'Unnamed: 17'\t                            ----->\t         'unnamed_17'\n",
    "     \n",
    "    \"\"\"\n",
    "    \n",
    "    # lower case and revoe begin & end space\n",
    "    str_modf = str_var.lower().strip()\n",
    "#     print( str_modf )\n",
    "    \n",
    "    # replace all non word chars ( everything except letters and nos )\n",
    "    str_modf = re.sub( pattern= r'[^\\w\\s]', repl= '_', string= str_modf )\n",
    "#     print( str_modf )\n",
    "\n",
    "    \n",
    "    # replace all runs of whitespace with '_'\n",
    "    str_modf = re.sub( pattern= r'\\s+', repl= '_', string= str_modf )\n",
    "#     print( str_modf )\n",
    "    \n",
    "    # repalce > 1 consecutive '_'\n",
    "    str_modf = re.sub( pattern= r'[__]+', repl= '_', string= str_modf )\n",
    "    \n",
    "    # remove begining and trailing '_ _'\n",
    "    def _remove_begin_end_(str_var):\n",
    "        while True:\n",
    "            if str_var[-1] == '_':\n",
    "                str_var = str_modf[:len(str_modf)-1]\n",
    "            else:                \n",
    "                break                \n",
    "        while True:\n",
    "            if str_var[0] == '_': str_var = str_modf[1:len(str_modf)]\n",
    "            else: break\n",
    "                \n",
    "        return(str_var)\n",
    "    \n",
    "    str_modf = _remove_begin_end_(str_modf)\n",
    "        \n",
    "    \n",
    "    return(str_modf)    \n",
    "    \n",
    " \n",
    "# returns the list containing strings of clean column name of provided pandas dataframe\n",
    "clean_colm_name = lambda df: [ clean_text(e_cNm) for e_cNm in df.columns ]   "
   ]
  }
 ],
 "metadata": {
  "kernelspec": {
   "display_name": "Python 3",
   "language": "python",
   "name": "python3"
  },
  "language_info": {
   "codemirror_mode": {
    "name": "ipython",
    "version": 3
   },
   "file_extension": ".py",
   "mimetype": "text/x-python",
   "name": "python",
   "nbconvert_exporter": "python",
   "pygments_lexer": "ipython3",
   "version": "3.8.12"
  },
  "varInspector": {
   "cols": {
    "lenName": 16,
    "lenType": 16,
    "lenVar": 40
   },
   "kernels_config": {
    "python": {
     "delete_cmd_postfix": "",
     "delete_cmd_prefix": "del ",
     "library": "var_list.py",
     "varRefreshCmd": "print(var_dic_list())"
    },
    "r": {
     "delete_cmd_postfix": ") ",
     "delete_cmd_prefix": "rm(",
     "library": "var_list.r",
     "varRefreshCmd": "cat(var_dic_list()) "
    }
   },
   "types_to_exclude": [
    "module",
    "function",
    "builtin_function_or_method",
    "instance",
    "_Feature"
   ],
   "window_display": false
  }
 },
 "nbformat": 4,
 "nbformat_minor": 5
}
